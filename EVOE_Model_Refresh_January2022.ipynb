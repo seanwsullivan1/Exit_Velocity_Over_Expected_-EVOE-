{
 "cells": [
  {
   "cell_type": "code",
   "execution_count": 1,
   "id": "8e52c2fc-4a9b-4ca3-9407-a1bf08a94cfb",
   "metadata": {},
   "outputs": [],
   "source": [
    "import pandas as pd\n",
    "import numpy as np\n",
    "import seaborn as sns\n",
    "import matplotlib.pyplot as plt\n",
    "from sklearn.model_selection import train_test_split\n",
    "\n",
    "pd.set_option('display.max_columns', None)\n",
    "pd.set_option('display.max_rows', None)"
   ]
  },
  {
   "cell_type": "code",
   "execution_count": 2,
   "id": "1d1e0ea5-f3b6-4b15-8004-96a32404cfa2",
   "metadata": {},
   "outputs": [
    {
     "data": {
      "text/plain": [
       "(424575, 93)"
      ]
     },
     "execution_count": 2,
     "metadata": {},
     "output_type": "execute_result"
    }
   ],
   "source": [
    "# Read Training Data In\n",
    "\n",
    "df = pd.read_csv('gs://sean_sullivan_projects/MLB_EVOE_Project/January_2022_Data/January_2022_Refresh_Data_Training.csv')\n",
    "\n",
    "df.shape"
   ]
  },
  {
   "cell_type": "code",
   "execution_count": 3,
   "id": "13de628d-3b77-4540-b785-3e9503081cc6",
   "metadata": {},
   "outputs": [
    {
     "data": {
      "text/plain": [
       "Index(['pitch_type', 'game_date', 'release_speed', 'release_pos_x',\n",
       "       'release_pos_z', 'player_name', 'batter', 'pitcher', 'events',\n",
       "       'description', 'spin_dir', 'spin_rate_deprecated',\n",
       "       'break_angle_deprecated', 'break_length_deprecated', 'zone', 'des',\n",
       "       'game_type', 'stand', 'p_throws', 'home_team', 'away_team', 'type',\n",
       "       'hit_location', 'bb_type', 'balls', 'strikes', 'game_year', 'pfx_x',\n",
       "       'pfx_z', 'plate_x', 'plate_z', 'on_3b', 'on_2b', 'on_1b',\n",
       "       'outs_when_up', 'inning', 'inning_topbot', 'hc_x', 'hc_y',\n",
       "       'tfs_deprecated', 'tfs_zulu_deprecated', 'fielder_2', 'umpire', 'sv_id',\n",
       "       'vx0', 'vy0', 'vz0', 'ax', 'ay', 'az', 'sz_top', 'sz_bot',\n",
       "       'hit_distance_sc', 'launch_speed', 'launch_angle', 'effective_speed',\n",
       "       'release_spin_rate', 'release_extension', 'game_pk', 'pitcher_1',\n",
       "       'fielder_2_1', 'fielder_3', 'fielder_4', 'fielder_5', 'fielder_6',\n",
       "       'fielder_7', 'fielder_8', 'fielder_9', 'release_pos_y',\n",
       "       'estimated_ba_using_speedangle', 'estimated_woba_using_speedangle',\n",
       "       'woba_value', 'woba_denom', 'babip_value', 'iso_value',\n",
       "       'launch_speed_angle', 'at_bat_number', 'pitch_number', 'pitch_name',\n",
       "       'home_score', 'away_score', 'bat_score', 'fld_score', 'post_away_score',\n",
       "       'post_home_score', 'post_bat_score', 'post_fld_score',\n",
       "       'if_fielding_alignment', 'of_fielding_alignment', 'spin_axis',\n",
       "       'delta_home_win_exp', 'delta_run_exp', 'no_nulls_flag'],\n",
       "      dtype='object')"
      ]
     },
     "execution_count": 3,
     "metadata": {},
     "output_type": "execute_result"
    }
   ],
   "source": [
    "# columns\n",
    "\n",
    "df.columns"
   ]
  },
  {
   "cell_type": "code",
   "execution_count": 4,
   "id": "ecd358c1-c003-435d-8af0-d0ef9eda4f7e",
   "metadata": {},
   "outputs": [],
   "source": [
    "# Numeric Variable Exploration\n",
    "\n",
    "num_var = df[['release_speed', 'release_pos_x', 'release_pos_z', 'pfx_x', 'pfx_z', 'plate_x', 'plate_z', 'vx0', 'vy0', 'vz0', 'ax', 'ay', 'az', 'sz_top', 'sz_bot', 'launch_speed', \n",
    "              'launch_angle', 'effective_speed', 'release_spin_rate', 'release_extension', 'release_pos_y', 'spin_axis']]"
   ]
  },
  {
   "cell_type": "code",
   "execution_count": 5,
   "id": "762a0036-9d01-4344-b3b1-9addb66d606d",
   "metadata": {
    "tags": []
   },
   "outputs": [
    {
     "data": {
      "text/html": [
       "<div>\n",
       "<style scoped>\n",
       "    .dataframe tbody tr th:only-of-type {\n",
       "        vertical-align: middle;\n",
       "    }\n",
       "\n",
       "    .dataframe tbody tr th {\n",
       "        vertical-align: top;\n",
       "    }\n",
       "\n",
       "    .dataframe thead th {\n",
       "        text-align: right;\n",
       "    }\n",
       "</style>\n",
       "<table border=\"1\" class=\"dataframe\">\n",
       "  <thead>\n",
       "    <tr style=\"text-align: right;\">\n",
       "      <th></th>\n",
       "      <th>count</th>\n",
       "      <th>mean</th>\n",
       "      <th>std</th>\n",
       "      <th>min</th>\n",
       "      <th>25%</th>\n",
       "      <th>50%</th>\n",
       "      <th>75%</th>\n",
       "      <th>max</th>\n",
       "    </tr>\n",
       "  </thead>\n",
       "  <tbody>\n",
       "    <tr>\n",
       "      <th>release_speed</th>\n",
       "      <td>424553.0</td>\n",
       "      <td>88.798635</td>\n",
       "      <td>5.800155</td>\n",
       "      <td>38.100000</td>\n",
       "      <td>84.800000</td>\n",
       "      <td>90.000000</td>\n",
       "      <td>93.300000</td>\n",
       "      <td>104.300000</td>\n",
       "    </tr>\n",
       "    <tr>\n",
       "      <th>release_pos_x</th>\n",
       "      <td>424553.0</td>\n",
       "      <td>-0.790019</td>\n",
       "      <td>1.944780</td>\n",
       "      <td>-5.380000</td>\n",
       "      <td>-2.180000</td>\n",
       "      <td>-1.530000</td>\n",
       "      <td>1.060000</td>\n",
       "      <td>5.730000</td>\n",
       "    </tr>\n",
       "    <tr>\n",
       "      <th>release_pos_z</th>\n",
       "      <td>424553.0</td>\n",
       "      <td>5.876864</td>\n",
       "      <td>0.510650</td>\n",
       "      <td>0.010000</td>\n",
       "      <td>5.620000</td>\n",
       "      <td>5.910000</td>\n",
       "      <td>6.200000</td>\n",
       "      <td>8.610000</td>\n",
       "    </tr>\n",
       "    <tr>\n",
       "      <th>pfx_x</th>\n",
       "      <td>424553.0</td>\n",
       "      <td>-0.198198</td>\n",
       "      <td>0.893293</td>\n",
       "      <td>-3.780000</td>\n",
       "      <td>-0.970000</td>\n",
       "      <td>-0.310000</td>\n",
       "      <td>0.520000</td>\n",
       "      <td>2.520000</td>\n",
       "    </tr>\n",
       "    <tr>\n",
       "      <th>pfx_z</th>\n",
       "      <td>424553.0</td>\n",
       "      <td>0.702425</td>\n",
       "      <td>0.704498</td>\n",
       "      <td>-3.390000</td>\n",
       "      <td>0.310000</td>\n",
       "      <td>0.830000</td>\n",
       "      <td>1.240000</td>\n",
       "      <td>4.050000</td>\n",
       "    </tr>\n",
       "    <tr>\n",
       "      <th>plate_x</th>\n",
       "      <td>424553.0</td>\n",
       "      <td>0.000023</td>\n",
       "      <td>0.557024</td>\n",
       "      <td>-5.730000</td>\n",
       "      <td>-0.400000</td>\n",
       "      <td>0.000000</td>\n",
       "      <td>0.400000</td>\n",
       "      <td>11.300000</td>\n",
       "    </tr>\n",
       "    <tr>\n",
       "      <th>plate_z</th>\n",
       "      <td>424553.0</td>\n",
       "      <td>2.327696</td>\n",
       "      <td>0.569634</td>\n",
       "      <td>-3.080000</td>\n",
       "      <td>1.930000</td>\n",
       "      <td>2.320000</td>\n",
       "      <td>2.720000</td>\n",
       "      <td>9.600000</td>\n",
       "    </tr>\n",
       "    <tr>\n",
       "      <th>vx0</th>\n",
       "      <td>424553.0</td>\n",
       "      <td>2.403462</td>\n",
       "      <td>5.802372</td>\n",
       "      <td>-17.308003</td>\n",
       "      <td>-2.505515</td>\n",
       "      <td>4.339494</td>\n",
       "      <td>6.641375</td>\n",
       "      <td>17.960186</td>\n",
       "    </tr>\n",
       "    <tr>\n",
       "      <th>vy0</th>\n",
       "      <td>424553.0</td>\n",
       "      <td>-129.057909</td>\n",
       "      <td>8.402662</td>\n",
       "      <td>-151.890909</td>\n",
       "      <td>-135.527283</td>\n",
       "      <td>-130.823551</td>\n",
       "      <td>-123.310004</td>\n",
       "      <td>-54.554375</td>\n",
       "    </tr>\n",
       "    <tr>\n",
       "      <th>vz0</th>\n",
       "      <td>424553.0</td>\n",
       "      <td>-4.108115</td>\n",
       "      <td>2.671727</td>\n",
       "      <td>-14.773393</td>\n",
       "      <td>-5.944635</td>\n",
       "      <td>-4.323049</td>\n",
       "      <td>-2.477211</td>\n",
       "      <td>13.946815</td>\n",
       "    </tr>\n",
       "    <tr>\n",
       "      <th>ax</th>\n",
       "      <td>424553.0</td>\n",
       "      <td>-3.087912</td>\n",
       "      <td>10.847822</td>\n",
       "      <td>-50.620401</td>\n",
       "      <td>-12.315950</td>\n",
       "      <td>-3.835765</td>\n",
       "      <td>5.193237</td>\n",
       "      <td>32.098318</td>\n",
       "    </tr>\n",
       "    <tr>\n",
       "      <th>ay</th>\n",
       "      <td>424553.0</td>\n",
       "      <td>25.918932</td>\n",
       "      <td>3.757269</td>\n",
       "      <td>-0.524375</td>\n",
       "      <td>23.114691</td>\n",
       "      <td>25.954722</td>\n",
       "      <td>28.650257</td>\n",
       "      <td>44.946248</td>\n",
       "    </tr>\n",
       "    <tr>\n",
       "      <th>az</th>\n",
       "      <td>424553.0</td>\n",
       "      <td>-23.010118</td>\n",
       "      <td>8.404759</td>\n",
       "      <td>-72.189659</td>\n",
       "      <td>-28.572367</td>\n",
       "      <td>-22.109674</td>\n",
       "      <td>-16.289170</td>\n",
       "      <td>22.305201</td>\n",
       "    </tr>\n",
       "    <tr>\n",
       "      <th>sz_top</th>\n",
       "      <td>424553.0</td>\n",
       "      <td>3.389791</td>\n",
       "      <td>0.211226</td>\n",
       "      <td>2.500000</td>\n",
       "      <td>3.260000</td>\n",
       "      <td>3.380000</td>\n",
       "      <td>3.510000</td>\n",
       "      <td>4.430000</td>\n",
       "    </tr>\n",
       "    <tr>\n",
       "      <th>sz_bot</th>\n",
       "      <td>424553.0</td>\n",
       "      <td>1.526837</td>\n",
       "      <td>0.137641</td>\n",
       "      <td>0.750000</td>\n",
       "      <td>1.440000</td>\n",
       "      <td>1.540000</td>\n",
       "      <td>1.610000</td>\n",
       "      <td>2.500000</td>\n",
       "    </tr>\n",
       "    <tr>\n",
       "      <th>launch_speed</th>\n",
       "      <td>424575.0</td>\n",
       "      <td>87.971295</td>\n",
       "      <td>13.963603</td>\n",
       "      <td>5.200000</td>\n",
       "      <td>80.000000</td>\n",
       "      <td>90.100000</td>\n",
       "      <td>98.600000</td>\n",
       "      <td>122.200000</td>\n",
       "    </tr>\n",
       "    <tr>\n",
       "      <th>launch_angle</th>\n",
       "      <td>424575.0</td>\n",
       "      <td>12.220387</td>\n",
       "      <td>27.381119</td>\n",
       "      <td>-89.000000</td>\n",
       "      <td>-6.000000</td>\n",
       "      <td>12.000000</td>\n",
       "      <td>30.000000</td>\n",
       "      <td>90.000000</td>\n",
       "    </tr>\n",
       "    <tr>\n",
       "      <th>effective_speed</th>\n",
       "      <td>424211.0</td>\n",
       "      <td>88.415556</td>\n",
       "      <td>6.422105</td>\n",
       "      <td>0.000000</td>\n",
       "      <td>84.400000</td>\n",
       "      <td>89.700000</td>\n",
       "      <td>93.100000</td>\n",
       "      <td>194.600000</td>\n",
       "    </tr>\n",
       "    <tr>\n",
       "      <th>release_spin_rate</th>\n",
       "      <td>418011.0</td>\n",
       "      <td>2210.206047</td>\n",
       "      <td>320.266240</td>\n",
       "      <td>428.000000</td>\n",
       "      <td>2061.000000</td>\n",
       "      <td>2232.000000</td>\n",
       "      <td>2398.000000</td>\n",
       "      <td>3670.000000</td>\n",
       "    </tr>\n",
       "    <tr>\n",
       "      <th>release_extension</th>\n",
       "      <td>424325.0</td>\n",
       "      <td>6.042571</td>\n",
       "      <td>0.509152</td>\n",
       "      <td>0.600000</td>\n",
       "      <td>5.700000</td>\n",
       "      <td>6.000000</td>\n",
       "      <td>6.400000</td>\n",
       "      <td>31.900000</td>\n",
       "    </tr>\n",
       "    <tr>\n",
       "      <th>release_pos_y</th>\n",
       "      <td>424553.0</td>\n",
       "      <td>54.457077</td>\n",
       "      <td>0.508004</td>\n",
       "      <td>28.580000</td>\n",
       "      <td>54.120000</td>\n",
       "      <td>54.450000</td>\n",
       "      <td>54.790000</td>\n",
       "      <td>59.870000</td>\n",
       "    </tr>\n",
       "    <tr>\n",
       "      <th>spin_axis</th>\n",
       "      <td>424357.0</td>\n",
       "      <td>181.973371</td>\n",
       "      <td>67.589940</td>\n",
       "      <td>0.000000</td>\n",
       "      <td>137.000000</td>\n",
       "      <td>199.000000</td>\n",
       "      <td>229.000000</td>\n",
       "      <td>360.000000</td>\n",
       "    </tr>\n",
       "  </tbody>\n",
       "</table>\n",
       "</div>"
      ],
      "text/plain": [
       "                      count         mean         std         min          25%  \\\n",
       "release_speed      424553.0    88.798635    5.800155   38.100000    84.800000   \n",
       "release_pos_x      424553.0    -0.790019    1.944780   -5.380000    -2.180000   \n",
       "release_pos_z      424553.0     5.876864    0.510650    0.010000     5.620000   \n",
       "pfx_x              424553.0    -0.198198    0.893293   -3.780000    -0.970000   \n",
       "pfx_z              424553.0     0.702425    0.704498   -3.390000     0.310000   \n",
       "plate_x            424553.0     0.000023    0.557024   -5.730000    -0.400000   \n",
       "plate_z            424553.0     2.327696    0.569634   -3.080000     1.930000   \n",
       "vx0                424553.0     2.403462    5.802372  -17.308003    -2.505515   \n",
       "vy0                424553.0  -129.057909    8.402662 -151.890909  -135.527283   \n",
       "vz0                424553.0    -4.108115    2.671727  -14.773393    -5.944635   \n",
       "ax                 424553.0    -3.087912   10.847822  -50.620401   -12.315950   \n",
       "ay                 424553.0    25.918932    3.757269   -0.524375    23.114691   \n",
       "az                 424553.0   -23.010118    8.404759  -72.189659   -28.572367   \n",
       "sz_top             424553.0     3.389791    0.211226    2.500000     3.260000   \n",
       "sz_bot             424553.0     1.526837    0.137641    0.750000     1.440000   \n",
       "launch_speed       424575.0    87.971295   13.963603    5.200000    80.000000   \n",
       "launch_angle       424575.0    12.220387   27.381119  -89.000000    -6.000000   \n",
       "effective_speed    424211.0    88.415556    6.422105    0.000000    84.400000   \n",
       "release_spin_rate  418011.0  2210.206047  320.266240  428.000000  2061.000000   \n",
       "release_extension  424325.0     6.042571    0.509152    0.600000     5.700000   \n",
       "release_pos_y      424553.0    54.457077    0.508004   28.580000    54.120000   \n",
       "spin_axis          424357.0   181.973371   67.589940    0.000000   137.000000   \n",
       "\n",
       "                           50%          75%          max  \n",
       "release_speed        90.000000    93.300000   104.300000  \n",
       "release_pos_x        -1.530000     1.060000     5.730000  \n",
       "release_pos_z         5.910000     6.200000     8.610000  \n",
       "pfx_x                -0.310000     0.520000     2.520000  \n",
       "pfx_z                 0.830000     1.240000     4.050000  \n",
       "plate_x               0.000000     0.400000    11.300000  \n",
       "plate_z               2.320000     2.720000     9.600000  \n",
       "vx0                   4.339494     6.641375    17.960186  \n",
       "vy0                -130.823551  -123.310004   -54.554375  \n",
       "vz0                  -4.323049    -2.477211    13.946815  \n",
       "ax                   -3.835765     5.193237    32.098318  \n",
       "ay                   25.954722    28.650257    44.946248  \n",
       "az                  -22.109674   -16.289170    22.305201  \n",
       "sz_top                3.380000     3.510000     4.430000  \n",
       "sz_bot                1.540000     1.610000     2.500000  \n",
       "launch_speed         90.100000    98.600000   122.200000  \n",
       "launch_angle         12.000000    30.000000    90.000000  \n",
       "effective_speed      89.700000    93.100000   194.600000  \n",
       "release_spin_rate  2232.000000  2398.000000  3670.000000  \n",
       "release_extension     6.000000     6.400000    31.900000  \n",
       "release_pos_y        54.450000    54.790000    59.870000  \n",
       "spin_axis           199.000000   229.000000   360.000000  "
      ]
     },
     "execution_count": 5,
     "metadata": {},
     "output_type": "execute_result"
    }
   ],
   "source": [
    "num_var.describe().T"
   ]
  },
  {
   "cell_type": "code",
   "execution_count": 6,
   "id": "5ac0a0d3-0ec3-47eb-84db-47eb4c526e32",
   "metadata": {},
   "outputs": [],
   "source": [
    "# Categorical Variable Exploration\n",
    "\n",
    "cat_var = df[['pitch_type', 'zone', 'p_throws', 'stand', 'pitch_name']]"
   ]
  },
  {
   "cell_type": "code",
   "execution_count": 7,
   "id": "e51ca19a-016a-4aae-9b07-c7120fe1b985",
   "metadata": {},
   "outputs": [
    {
     "name": "stdout",
     "output_type": "stream",
     "text": [
      "\n",
      "FF    140164\n",
      "SL     66138\n",
      "CH     50754\n",
      "FT     47586\n",
      "SI     45708\n",
      "CU     29759\n",
      "FC     27104\n",
      "KC      9323\n",
      "FS      6762\n",
      "KN       711\n",
      "FA       189\n",
      "EP        92\n",
      "FO        61\n",
      "CS        45\n",
      "SC        18\n",
      "Name: pitch_type, dtype: int64\n",
      "---------------------------------------------\n",
      "\n",
      "5.0     63267\n",
      "8.0     47614\n",
      "4.0     46821\n",
      "6.0     45368\n",
      "9.0     34478\n",
      "7.0     31447\n",
      "14.0    28771\n",
      "2.0     28113\n",
      "13.0    25236\n",
      "1.0     20892\n",
      "3.0     18785\n",
      "11.0    18173\n",
      "12.0    15588\n",
      "Name: zone, dtype: int64\n",
      "---------------------------------------------\n",
      "\n",
      "R    308563\n",
      "L    116012\n",
      "Name: p_throws, dtype: int64\n",
      "---------------------------------------------\n",
      "\n",
      "R    250581\n",
      "L    173994\n",
      "Name: stand, dtype: int64\n",
      "---------------------------------------------\n",
      "\n",
      "4-Seam Fastball    140164\n",
      "Slider              66138\n",
      "Changeup            50754\n",
      "2-Seam Fastball     47586\n",
      "Sinker              45708\n",
      "Curveball           29804\n",
      "Cutter              27104\n",
      "Knuckle Curve        9323\n",
      "Split-Finger         6762\n",
      "Knuckleball           711\n",
      "Fastball              189\n",
      "Eephus                 92\n",
      "Forkball               61\n",
      "Screwball              18\n",
      "Name: pitch_name, dtype: int64\n",
      "---------------------------------------------\n"
     ]
    }
   ],
   "source": [
    "for i in cat_var:\n",
    "    print()\n",
    "    print(cat_var[i].value_counts())\n",
    "    print('---------------------------------------------')"
   ]
  },
  {
   "cell_type": "markdown",
   "id": "b5e6ffae-778c-45cb-85cd-b606277ca1fe",
   "metadata": {},
   "source": [
    "<br>\n",
    "<br>"
   ]
  },
  {
   "cell_type": "markdown",
   "id": "f62e1718-1612-421f-97f8-4f543f9effdc",
   "metadata": {},
   "source": [
    "# No Nulls Batted Ball Issue Investigation"
   ]
  },
  {
   "cell_type": "code",
   "execution_count": 8,
   "id": "e6d7d64f-7fec-454d-87d5-33c2c9021c0d",
   "metadata": {},
   "outputs": [
    {
     "data": {
      "image/png": "[encoded data removed]",
      "text/plain": [
       "<Figure size 432x288 with 1 Axes>"
      ]
     },
     "metadata": {
      "needs_background": "light"
     },
     "output_type": "display_data"
    }
   ],
   "source": [
    "# Evaluate Outliers for Numeric Variables\n",
    "\n",
    "ax = sns.boxplot(data=num_var, orient='h', palette='Set2')"
   ]
  },
  {
   "cell_type": "code",
   "execution_count": 9,
   "id": "7c1af607-94f2-4d13-aba4-5fa82f95a34b",
   "metadata": {},
   "outputs": [
    {
     "data": {
      "text/plain": [
       "Text(0.5, 0, 'Launch Speed (Exit Velocity) Distribution')"
      ]
     },
     "execution_count": 9,
     "metadata": {},
     "output_type": "execute_result"
    },
    {
     "data": {
      "image/png": "[encoded data removed]",
      "text/plain": [
       "<Figure size 432x288 with 1 Axes>"
      ]
     },
     "metadata": {
      "needs_background": "light"
     },
     "output_type": "display_data"
    }
   ],
   "source": [
    "# Launch Speed\n",
    "\n",
    "ax = sns.boxplot(x=num_var['launch_speed'])\n",
    "ax.set_xlabel('Launch Speed (Exit Velocity) Distribution')"
   ]
  },
  {
   "cell_type": "markdown",
   "id": "044d96f0-e331-4bfd-90a2-0ee3b8f0a3b2",
   "metadata": {},
   "source": [
    "<br>"
   ]
  },
  {
   "cell_type": "markdown",
   "id": "0a910a5d-0031-4f94-b419-2956977b6259",
   "metadata": {},
   "source": [
    "**Overall Distribution**"
   ]
  },
  {
   "cell_type": "code",
   "execution_count": 10,
   "id": "6a9b37c3-3b2f-40ef-b8a1-85832efb7339",
   "metadata": {},
   "outputs": [
    {
     "data": {
      "text/plain": [
       "<seaborn.axisgrid.FacetGrid at 0x7f245bc5ba50>"
      ]
     },
     "execution_count": 10,
     "metadata": {},
     "output_type": "execute_result"
    },
    {
     "data": {
      "image/png": "[encoded data removed]",
      "text/plain": [
       "<Figure size 360x360 with 1 Axes>"
      ]
     },
     "metadata": {
      "needs_background": "light"
     },
     "output_type": "display_data"
    }
   ],
   "source": [
    "# Histogram of Launch Speed (No Filters)\n",
    "\n",
    "sns.displot(df.launch_speed)"
   ]
  },
  {
   "cell_type": "markdown",
   "id": "83e93ae5-33a5-4539-8c18-af3de60aaf01",
   "metadata": {},
   "source": [
    "**Interpretation:**\n",
    "You can clearly see that there is something odd going on here. The unusually high volume of launch speeds are a reflection of MLB's solution to handle batted ball events not properly measured by Statcast.\n",
    "\n",
    "Now, let's evaluate ground balls (as an example) for each year present in the data (2017-2020). "
   ]
  },
  {
   "cell_type": "code",
   "execution_count": 11,
   "id": "949a2821-fde2-4504-8ad3-35b9f02e32a7",
   "metadata": {},
   "outputs": [
    {
     "data": {
      "text/plain": [
       "<seaborn.axisgrid.FacetGrid at 0x7f2459cfd390>"
      ]
     },
     "execution_count": 11,
     "metadata": {},
     "output_type": "execute_result"
    },
    {
     "data": {
      "image/png": "[encoded data removed]",
      "text/plain": [
       "<Figure size 360x360 with 1 Axes>"
      ]
     },
     "metadata": {
      "needs_background": "light"
     },
     "output_type": "display_data"
    }
   ],
   "source": [
    "# Histogram for 2017\n",
    "\n",
    "sns.displot(df[(df.bb_type == 'ground_ball') & (df.game_year == 2017)].launch_speed)"
   ]
  },
  {
   "cell_type": "code",
   "execution_count": 12,
   "id": "8ed4fe3e-7e90-4153-a554-7cf5cad6a605",
   "metadata": {},
   "outputs": [
    {
     "data": {
      "text/plain": [
       "<seaborn.axisgrid.FacetGrid at 0x7f2459e76e90>"
      ]
     },
     "execution_count": 12,
     "metadata": {},
     "output_type": "execute_result"
    },
    {
     "data": {
      "image/png": "[encoded data removed]",
      "text/plain": [
       "<Figure size 360x360 with 1 Axes>"
      ]
     },
     "metadata": {
      "needs_background": "light"
     },
     "output_type": "display_data"
    }
   ],
   "source": [
    "# Histogram for 2018\n",
    "\n",
    "sns.displot(df[(df.bb_type == 'ground_ball') & (df.game_year == 2018)].launch_speed)"
   ]
  },
  {
   "cell_type": "code",
   "execution_count": 13,
   "id": "569973a3-c039-4153-a840-bf403d9d44dc",
   "metadata": {},
   "outputs": [
    {
     "data": {
      "text/plain": [
       "<seaborn.axisgrid.FacetGrid at 0x7f24594ed410>"
      ]
     },
     "execution_count": 13,
     "metadata": {},
     "output_type": "execute_result"
    },
    {
     "data": {
      "image/png": "[encoded data removed]",
      "text/plain": [
       "<Figure size 360x360 with 1 Axes>"
      ]
     },
     "metadata": {
      "needs_background": "light"
     },
     "output_type": "display_data"
    }
   ],
   "source": [
    "# Histogram for 2019\n",
    "\n",
    "sns.displot(df[(df.bb_type == 'ground_ball') & (df.game_year == 2019)].launch_speed)"
   ]
  },
  {
   "cell_type": "code",
   "execution_count": 14,
   "id": "46d72af9-4b18-4374-9a7e-ad947b87556b",
   "metadata": {},
   "outputs": [
    {
     "data": {
      "text/plain": [
       "<seaborn.axisgrid.FacetGrid at 0x7f2459d3d810>"
      ]
     },
     "execution_count": 14,
     "metadata": {},
     "output_type": "execute_result"
    },
    {
     "data": {
      "image/png": "[encoded data removed]",
      "text/plain": [
       "<Figure size 360x360 with 1 Axes>"
      ]
     },
     "metadata": {
      "needs_background": "light"
     },
     "output_type": "display_data"
    }
   ],
   "source": [
    "# Histogram for 2020\n",
    "\n",
    "sns.displot(df[(df.bb_type == 'ground_ball') & (df.game_year == 2020)].launch_speed)"
   ]
  },
  {
   "cell_type": "markdown",
   "id": "f8546df7-53b7-4b54-b513-4b8d4900f66c",
   "metadata": {},
   "source": [
    "**Interpretation:**\n",
    "\n",
    "It is no surprise to see the distribution \"improve\" once we got to 2020. This is when MLB introduced the use of Hawk-Eye. Per MLB's website: \n",
    "\n",
    " \"the Hawk-Eye Statcast system utilizes a total of 12 cameras around the park for full-field optical pitch, hit and player tracking. Five cameras operating at 100 frames per second are primarily dedicated to pitch tracking, while an additional seven cameras are focused on tracking players and batted balls at 50 frames per second.\n",
    "\n",
    "That's compared to a single radar and two sets of three cameras apiece in the old system, and so far, so good. Now, what does this mean to you, the interested observer? At the lowest possible hanging fruit level, it means simply that more balls are being tracked. With the old radar/camera system, about 89% of batted balls were tracked; this year, through the end of August, that number is more like 99%. That's noticeable, right away.\"\n",
    "\n",
    "**But what do we do with the imputed launch speed and launch angle values that led to this strange distribution? We will use Andrew Perpetua's solution to mark which occurences were likely an imputed batted ball, and drop them from the data-set.** Here is an article Perpetua wrote for The Hardball Times & Fangraphs on his solution: https://tht.fangraphs.com/43416-2/. \n",
    "\n",
    "Using the provided guidelines, I first evaluated the data for the presence of combinations of (launch speed, launch angle, and batted ball) that had suspiciously high occurences within the data. Below is a quick snap shot of what I observed. "
   ]
  },
  {
   "cell_type": "markdown",
   "id": "527d56b6-e95b-4742-aab3-cf777b5e78ae",
   "metadata": {},
   "source": [
    "<br>"
   ]
  },
  {
   "cell_type": "markdown",
   "id": "94a2bf96-e536-4fd0-a676-49d6354f9053",
   "metadata": {},
   "source": [
    "### No Null Occurences"
   ]
  },
  {
   "cell_type": "code",
   "execution_count": 15,
   "id": "c1b4c4bb-d1e3-44f8-984f-c750dfb6174f",
   "metadata": {},
   "outputs": [
    {
     "name": "stdout",
     "output_type": "stream",
     "text": [
      "(127207, 3)\n"
     ]
    },
    {
     "data": {
      "text/plain": [
       "launch_speed  launch_angle  bb_type    \n",
       "82.9          -21           ground_ball    6025\n",
       "80.0           69           popup          3398\n",
       "90.3          -17           ground_ball    1116\n",
       "89.2           39           fly_ball        550\n",
       "90.4           15           line_drive      121\n",
       "91.1           18           line_drive      115\n",
       "98.8           17           line_drive      101\n",
       "102.8          30           fly_ball         99\n",
       "90.2          -13           ground_ball      94\n",
       "104.4          24           line_drive       40\n",
       "93.1           32           fly_ball         37\n",
       "71.4           36           fly_ball         19\n",
       "100.8          15           line_drive       17\n",
       "98.4           18           line_drive       17\n",
       "101.8          19           line_drive       17\n",
       "102.5          11           line_drive       17\n",
       "103.3          8            line_drive       17\n",
       "101.2          16           line_drive       16\n",
       "96.9           14           line_drive       16\n",
       "97.2           19           line_drive       15\n",
       "dtype: int64"
      ]
     },
     "execution_count": 15,
     "metadata": {},
     "output_type": "execute_result"
    }
   ],
   "source": [
    "# Filter years and columns to make groupby quicker\n",
    "\n",
    "df_2017 = df[(df.game_year == 2017)]\n",
    "df_final_2017 = df_2017[['launch_speed', 'launch_angle', 'bb_type']]\n",
    "df_final_2017 = df_final_2017.dropna()\n",
    "\n",
    "\n",
    "print(df_final_2017.shape)\n",
    "\n",
    "df_final_2017[['launch_speed', 'launch_angle', 'bb_type']].value_counts().sort_values(ascending=False).head(20)"
   ]
  },
  {
   "cell_type": "code",
   "execution_count": 16,
   "id": "99d8d704-5a0f-4701-8eec-26eaeacd8dbe",
   "metadata": {},
   "outputs": [
    {
     "name": "stdout",
     "output_type": "stream",
     "text": [
      "(125977, 3)\n"
     ]
    },
    {
     "data": {
      "text/plain": [
       "launch_speed  launch_angle  bb_type    \n",
       "80.0           69           popup          4272\n",
       "82.9          -21           ground_ball    3869\n",
       "90.3          -17           ground_ball     705\n",
       "89.2           39           fly_ball        406\n",
       "102.8          30           fly_ball        102\n",
       "91.1           18           line_drive       39\n",
       "90.4           15           line_drive       35\n",
       "90.2          -13           ground_ball      31\n",
       "98.8           17           line_drive       21\n",
       "98.9           20           line_drive       18\n",
       "92.8           30           fly_ball         17\n",
       "101.4          15           line_drive       17\n",
       "91.6           22           line_drive       17\n",
       "99.7           17           line_drive       17\n",
       "102.1          13           line_drive       16\n",
       "94.3           15           line_drive       16\n",
       "97.0           23           line_drive       15\n",
       "98.5           18           line_drive       15\n",
       "100.5          17           line_drive       15\n",
       "               10           line_drive       15\n",
       "dtype: int64"
      ]
     },
     "execution_count": 16,
     "metadata": {},
     "output_type": "execute_result"
    }
   ],
   "source": [
    "# 2018\n",
    "\n",
    "df_2018 = df[(df.game_year == 2018)]\n",
    "df_final_2018 = df_2018[['launch_speed', 'launch_angle', 'bb_type']]\n",
    "df_final_2018 = df_final_2018.dropna()\n",
    "\n",
    "\n",
    "print(df_final_2018.shape)\n",
    "\n",
    "df_final_2018[['launch_speed', 'launch_angle', 'bb_type']].value_counts().sort_values(ascending=False).head(20)"
   ]
  },
  {
   "cell_type": "code",
   "execution_count": 17,
   "id": "6d35cc6f-9e9e-4bc9-81a6-452b0eb52e1e",
   "metadata": {},
   "outputs": [
    {
     "name": "stdout",
     "output_type": "stream",
     "text": [
      "(125184, 3)\n"
     ]
    },
    {
     "data": {
      "text/plain": [
       "launch_speed  launch_angle  bb_type    \n",
       "80.0           69           popup          4433\n",
       "82.9          -21           ground_ball    3801\n",
       "90.3          -17           ground_ball     639\n",
       "89.2           39           fly_ball        417\n",
       "102.8          30           fly_ball         30\n",
       "90.2          -13           ground_ball      23\n",
       "97.7           18           line_drive       19\n",
       "102.1          11           line_drive       18\n",
       "99.8           17           line_drive       17\n",
       "103.9          9            line_drive       16\n",
       "103.8          9            line_drive       16\n",
       "98.8           12           line_drive       16\n",
       "96.1           18           line_drive       16\n",
       "99.0           16           line_drive       15\n",
       "97.1           4            ground_ball      15\n",
       "105.2          5            ground_ball      15\n",
       "98.2           14           line_drive       15\n",
       "98.3           18           line_drive       15\n",
       "96.3           15           line_drive       15\n",
       "99.7           2            ground_ball      15\n",
       "dtype: int64"
      ]
     },
     "execution_count": 17,
     "metadata": {},
     "output_type": "execute_result"
    }
   ],
   "source": [
    "# 2019\n",
    "\n",
    "df_2019 = df[(df.game_year == 2019)]\n",
    "df_final_2019 = df_2019[['launch_speed', 'launch_angle', 'bb_type']]\n",
    "df_final_2019 = df_final_2019.dropna()\n",
    "\n",
    "\n",
    "print(df_final_2019.shape)\n",
    "\n",
    "df_final_2019[['launch_speed', 'launch_angle', 'bb_type']].value_counts().sort_values(ascending=False).head(20)"
   ]
  },
  {
   "cell_type": "code",
   "execution_count": 18,
   "id": "f0fbedcc-cc81-406a-b2f9-ae8c2f9755cd",
   "metadata": {},
   "outputs": [
    {
     "name": "stdout",
     "output_type": "stream",
     "text": [
      "(46207, 3)\n"
     ]
    },
    {
     "data": {
      "text/plain": [
       "launch_speed  launch_angle  bb_type    \n",
       "100.8         -1            ground_ball    9\n",
       "102.4          1            ground_ball    9\n",
       "101.8          9            line_drive     9\n",
       "96.6           26           line_drive     9\n",
       "101.2          18           line_drive     9\n",
       "101.0          14           line_drive     8\n",
       "101.4          3            ground_ball    8\n",
       "100.8          23           line_drive     8\n",
       "99.6           3            ground_ball    8\n",
       "98.1           13           line_drive     8\n",
       "94.1           16           line_drive     8\n",
       "100.6          24           line_drive     8\n",
       "102.7          15           line_drive     8\n",
       "105.6          0            ground_ball    8\n",
       "101.0          19           line_drive     8\n",
       "101.5          16           line_drive     7\n",
       "98.6           16           line_drive     7\n",
       "99.7           8            line_drive     7\n",
       "105.8          15           line_drive     7\n",
       "89.2           16           line_drive     7\n",
       "dtype: int64"
      ]
     },
     "execution_count": 18,
     "metadata": {},
     "output_type": "execute_result"
    }
   ],
   "source": [
    "# 2020\n",
    "\n",
    "df_2020 = df[(df.game_year == 2020)]\n",
    "df_final_2020 = df_2020[['launch_speed', 'launch_angle', 'bb_type']]\n",
    "df_final_2020 = df_final_2020.dropna()\n",
    "\n",
    "\n",
    "print(df_final_2020.shape)\n",
    "\n",
    "df_final_2020[['launch_speed', 'launch_angle', 'bb_type']].value_counts().sort_values(ascending=False).head(20)"
   ]
  },
  {
   "cell_type": "markdown",
   "id": "2f511700-47b5-4560-96e3-d229aa387cd4",
   "metadata": {},
   "source": [
    "<br>"
   ]
  },
  {
   "cell_type": "markdown",
   "id": "075b62b1-03e2-4855-a282-6fb584502c51",
   "metadata": {},
   "source": [
    "### Now, let's look at distributions with No Null observations removed"
   ]
  },
  {
   "cell_type": "code",
   "execution_count": 19,
   "id": "47b3d311-749e-416d-8a72-86b0e2ec2dd9",
   "metadata": {},
   "outputs": [
    {
     "data": {
      "text/plain": [
       "(393655, 93)"
      ]
     },
     "execution_count": 19,
     "metadata": {},
     "output_type": "execute_result"
    }
   ],
   "source": [
    "# Filter Out No Nulls\n",
    "\n",
    "df_nn_removed = df[(df.no_nulls_flag == 0)]\n",
    "\n",
    "df_nn_removed.shape"
   ]
  },
  {
   "cell_type": "markdown",
   "id": "88caf826-e5c1-4caf-b14f-6dc0517fef5b",
   "metadata": {},
   "source": [
    "**Note: no observations that met previous \"No Null\" designation criteria were applied a No Nulls Flag for data from the 2020 season. This is due to vastly improved data 2020 and beyond from the integreation of the Hawk-Eye technology.**"
   ]
  },
  {
   "cell_type": "markdown",
   "id": "3f2b9ece-6056-4066-aeca-52f88f07fbd8",
   "metadata": {},
   "source": [
    "<br>"
   ]
  },
  {
   "cell_type": "markdown",
   "id": "ae948b5c-473f-4213-9c52-76116fda711c",
   "metadata": {},
   "source": [
    "**2017 Batted Ball Type Launch Speed Distributions**"
   ]
  },
  {
   "cell_type": "code",
   "execution_count": 20,
   "id": "5bfd982b-7dfd-417e-a13f-a24cd18fe800",
   "metadata": {},
   "outputs": [
    {
     "data": {
      "text/plain": [
       "<seaborn.axisgrid.FacetGrid at 0x7f245941aa10>"
      ]
     },
     "execution_count": 20,
     "metadata": {},
     "output_type": "execute_result"
    },
    {
     "data": {
      "image/png": "[encoded data removed]",
      "text/plain": [
       "<Figure size 360x360 with 1 Axes>"
      ]
     },
     "metadata": {
      "needs_background": "light"
     },
     "output_type": "display_data"
    }
   ],
   "source": [
    "# Overall\n",
    "\n",
    "sns.displot(df_nn_removed[(df_nn_removed.game_year == 2017)].launch_speed)"
   ]
  },
  {
   "cell_type": "code",
   "execution_count": 21,
   "id": "6e4525e1-3be8-46df-bc96-06820bb0c4e4",
   "metadata": {},
   "outputs": [
    {
     "data": {
      "text/plain": [
       "<seaborn.axisgrid.FacetGrid at 0x7f24592f4bd0>"
      ]
     },
     "execution_count": 21,
     "metadata": {},
     "output_type": "execute_result"
    },
    {
     "data": {
      "image/png": "[encoded data removed]",
      "text/plain": [
       "<Figure size 360x360 with 1 Axes>"
      ]
     },
     "metadata": {
      "needs_background": "light"
     },
     "output_type": "display_data"
    }
   ],
   "source": [
    "# Ground Ball\n",
    "\n",
    "sns.displot(df_nn_removed[(df_nn_removed.bb_type == 'ground_ball') & (df_nn_removed.game_year == 2017)].launch_speed)"
   ]
  },
  {
   "cell_type": "code",
   "execution_count": 22,
   "id": "6d2491b2-83ab-438c-8e72-249663695de7",
   "metadata": {},
   "outputs": [
    {
     "data": {
      "text/plain": [
       "<seaborn.axisgrid.FacetGrid at 0x7f24592464d0>"
      ]
     },
     "execution_count": 22,
     "metadata": {},
     "output_type": "execute_result"
    },
    {
     "data": {
      "image/png": "[encoded data removed]",
      "text/plain": [
       "<Figure size 360x360 with 1 Axes>"
      ]
     },
     "metadata": {
      "needs_background": "light"
     },
     "output_type": "display_data"
    }
   ],
   "source": [
    "# Fly Ball\n",
    "\n",
    "sns.displot(df_nn_removed[(df_nn_removed.bb_type == 'fly_ball') & (df_nn_removed.game_year == 2017)].launch_speed)"
   ]
  },
  {
   "cell_type": "code",
   "execution_count": 23,
   "id": "2c50b7db-b9b3-41b1-8637-767a1ea15cf2",
   "metadata": {},
   "outputs": [
    {
     "data": {
      "text/plain": [
       "<seaborn.axisgrid.FacetGrid at 0x7f2459fb2890>"
      ]
     },
     "execution_count": 23,
     "metadata": {},
     "output_type": "execute_result"
    },
    {
     "data": {
      "image/png": "[encoded data removed]",
      "text/plain": [
       "<Figure size 360x360 with 1 Axes>"
      ]
     },
     "metadata": {
      "needs_background": "light"
     },
     "output_type": "display_data"
    }
   ],
   "source": [
    "# Line Drive\n",
    "\n",
    "sns.displot(df_nn_removed[(df_nn_removed.bb_type == 'line_drive') & (df_nn_removed.game_year == 2017)].launch_speed)"
   ]
  },
  {
   "cell_type": "code",
   "execution_count": 24,
   "id": "9088394c-2f23-4df0-a392-1c0e54ce991d",
   "metadata": {},
   "outputs": [
    {
     "data": {
      "text/plain": [
       "<seaborn.axisgrid.FacetGrid at 0x7f2459fb2a90>"
      ]
     },
     "execution_count": 24,
     "metadata": {},
     "output_type": "execute_result"
    },
    {
     "data": {
      "image/png": "[encoded data removed]",
      "text/plain": [
       "<Figure size 360x360 with 1 Axes>"
      ]
     },
     "metadata": {
      "needs_background": "light"
     },
     "output_type": "display_data"
    }
   ],
   "source": [
    "# Popup\n",
    "\n",
    "sns.displot(df_nn_removed[(df_nn_removed.bb_type == 'popup') & (df_nn_removed.game_year == 2017)].launch_speed)"
   ]
  },
  {
   "cell_type": "markdown",
   "id": "c4a93e9f-7bc9-4e55-8e84-7552208910c3",
   "metadata": {},
   "source": [
    "<br>"
   ]
  },
  {
   "cell_type": "markdown",
   "id": "c06d0e9b-27eb-4f8f-8bfb-5a0376c70f28",
   "metadata": {},
   "source": [
    "**2018 Batted Ball Type Launch Speed Distributions**"
   ]
  },
  {
   "cell_type": "code",
   "execution_count": 25,
   "id": "d21bc900-94f0-4796-9031-e3f5ffaea5bd",
   "metadata": {},
   "outputs": [
    {
     "data": {
      "text/plain": [
       "<seaborn.axisgrid.FacetGrid at 0x7f2458ea0210>"
      ]
     },
     "execution_count": 25,
     "metadata": {},
     "output_type": "execute_result"
    },
    {
     "data": {
      "image/png": "[encoded data removed]",
      "text/plain": [
       "<Figure size 360x360 with 1 Axes>"
      ]
     },
     "metadata": {
      "needs_background": "light"
     },
     "output_type": "display_data"
    }
   ],
   "source": [
    "# Overall\n",
    "\n",
    "sns.displot(df_nn_removed[(df_nn_removed.game_year == 2018)].launch_speed)"
   ]
  },
  {
   "cell_type": "code",
   "execution_count": 26,
   "id": "0f8ffd18-0035-4bf7-bf4e-e5696b17ccff",
   "metadata": {},
   "outputs": [
    {
     "data": {
      "text/plain": [
       "<seaborn.axisgrid.FacetGrid at 0x7f24590d6d50>"
      ]
     },
     "execution_count": 26,
     "metadata": {},
     "output_type": "execute_result"
    },
    {
     "data": {
      "image/png": "[encoded data removed]",
      "text/plain": [
       "<Figure size 360x360 with 1 Axes>"
      ]
     },
     "metadata": {
      "needs_background": "light"
     },
     "output_type": "display_data"
    }
   ],
   "source": [
    "# Ground Ball\n",
    "\n",
    "sns.displot(df_nn_removed[(df_nn_removed.bb_type == 'ground_ball') & (df_nn_removed.game_year == 2018)].launch_speed)"
   ]
  },
  {
   "cell_type": "code",
   "execution_count": 27,
   "id": "c8327867-e9d6-4830-a18c-8a3e6e58d511",
   "metadata": {},
   "outputs": [
    {
     "data": {
      "text/plain": [
       "<seaborn.axisgrid.FacetGrid at 0x7f2458a1c090>"
      ]
     },
     "execution_count": 27,
     "metadata": {},
     "output_type": "execute_result"
    },
    {
     "data": {
      "image/png": "[encoded data removed]",
      "text/plain": [
       "<Figure size 360x360 with 1 Axes>"
      ]
     },
     "metadata": {
      "needs_background": "light"
     },
     "output_type": "display_data"
    }
   ],
   "source": [
    "# Fly Ball\n",
    "\n",
    "sns.displot(df_nn_removed[(df_nn_removed.bb_type == 'fly_ball') & (df_nn_removed.game_year == 2018)].launch_speed)"
   ]
  },
  {
   "cell_type": "code",
   "execution_count": 28,
   "id": "5ae189c4-1aa2-4287-92e6-202d20524ac1",
   "metadata": {},
   "outputs": [
    {
     "data": {
      "text/plain": [
       "<seaborn.axisgrid.FacetGrid at 0x7f2458a7e7d0>"
      ]
     },
     "execution_count": 28,
     "metadata": {},
     "output_type": "execute_result"
    },
    {
     "data": {
      "image/png": "[encoded data removed]",
      "text/plain": [
       "<Figure size 360x360 with 1 Axes>"
      ]
     },
     "metadata": {
      "needs_background": "light"
     },
     "output_type": "display_data"
    }
   ],
   "source": [
    "# Line Drive\n",
    "\n",
    "sns.displot(df_nn_removed[(df_nn_removed.bb_type == 'line_drive') & (df_nn_removed.game_year == 2018)].launch_speed)"
   ]
  },
  {
   "cell_type": "code",
   "execution_count": 29,
   "id": "b89ad611-2cbd-4c92-9130-7680af5df561",
   "metadata": {},
   "outputs": [
    {
     "data": {
      "text/plain": [
       "<seaborn.axisgrid.FacetGrid at 0x7f2459fb2750>"
      ]
     },
     "execution_count": 29,
     "metadata": {},
     "output_type": "execute_result"
    },
    {
     "data": {
      "image/png": "[encoded data removed]",
      "text/plain": [
       "<Figure size 360x360 with 1 Axes>"
      ]
     },
     "metadata": {
      "needs_background": "light"
     },
     "output_type": "display_data"
    }
   ],
   "source": [
    "# Popup\n",
    "\n",
    "sns.displot(df_nn_removed[(df_nn_removed.bb_type == 'popup') & (df_nn_removed.game_year == 2018)].launch_speed)"
   ]
  },
  {
   "cell_type": "markdown",
   "id": "b0e7d07f-c503-41a6-85f6-c5a6a884b324",
   "metadata": {},
   "source": [
    "<br>"
   ]
  },
  {
   "cell_type": "markdown",
   "id": "c8e11283-5840-4351-93b3-809ed51821a6",
   "metadata": {},
   "source": [
    "**2019 Batted Ball Type Launch Speed Distributions**"
   ]
  },
  {
   "cell_type": "code",
   "execution_count": 30,
   "id": "36236f7d-a931-4825-84f4-da3297159fe5",
   "metadata": {},
   "outputs": [
    {
     "data": {
      "text/plain": [
       "<seaborn.axisgrid.FacetGrid at 0x7f24588553d0>"
      ]
     },
     "execution_count": 30,
     "metadata": {},
     "output_type": "execute_result"
    },
    {
     "data": {
      "image/png": "[encoded data removed]",
      "text/plain": [
       "<Figure size 360x360 with 1 Axes>"
      ]
     },
     "metadata": {
      "needs_background": "light"
     },
     "output_type": "display_data"
    }
   ],
   "source": [
    "# Overall\n",
    "\n",
    "sns.displot(df_nn_removed[(df_nn_removed.game_year == 2019)].launch_speed)"
   ]
  },
  {
   "cell_type": "code",
   "execution_count": 31,
   "id": "b4ea0b95-0de1-4eef-9fca-83fb21504381",
   "metadata": {},
   "outputs": [
    {
     "data": {
      "text/plain": [
       "<seaborn.axisgrid.FacetGrid at 0x7f245886e8d0>"
      ]
     },
     "execution_count": 31,
     "metadata": {},
     "output_type": "execute_result"
    },
    {
     "data": {
      "image/png": "[encoded data removed]",
      "text/plain": [
       "<Figure size 360x360 with 1 Axes>"
      ]
     },
     "metadata": {
      "needs_background": "light"
     },
     "output_type": "display_data"
    }
   ],
   "source": [
    "# Ground Ball\n",
    "\n",
    "sns.displot(df_nn_removed[(df_nn_removed.bb_type == 'ground_ball') & (df_nn_removed.game_year == 2019)].launch_speed)"
   ]
  },
  {
   "cell_type": "code",
   "execution_count": 32,
   "id": "5404169c-543c-4683-9f8e-862a2e03b162",
   "metadata": {},
   "outputs": [
    {
     "data": {
      "text/plain": [
       "<seaborn.axisgrid.FacetGrid at 0x7f2458c6ed90>"
      ]
     },
     "execution_count": 32,
     "metadata": {},
     "output_type": "execute_result"
    },
    {
     "data": {
      "image/png": "[encoded data removed]",
      "text/plain": [
       "<Figure size 360x360 with 1 Axes>"
      ]
     },
     "metadata": {
      "needs_background": "light"
     },
     "output_type": "display_data"
    }
   ],
   "source": [
    "# Fly Ball\n",
    "\n",
    "sns.displot(df_nn_removed[(df_nn_removed.bb_type == 'fly_ball') & (df_nn_removed.game_year == 2019)].launch_speed)"
   ]
  },
  {
   "cell_type": "code",
   "execution_count": 33,
   "id": "64032168-1353-4e19-b842-9f8dbfd07b36",
   "metadata": {},
   "outputs": [
    {
     "data": {
      "text/plain": [
       "<seaborn.axisgrid.FacetGrid at 0x7f2458839bd0>"
      ]
     },
     "execution_count": 33,
     "metadata": {},
     "output_type": "execute_result"
    },
    {
     "data": {
      "image/png": "[encoded data removed]",
      "text/plain": [
       "<Figure size 360x360 with 1 Axes>"
      ]
     },
     "metadata": {
      "needs_background": "light"
     },
     "output_type": "display_data"
    }
   ],
   "source": [
    "# Line Drive\n",
    "\n",
    "sns.displot(df_nn_removed[(df_nn_removed.bb_type == 'line_drive') & (df_nn_removed.game_year == 2019)].launch_speed)"
   ]
  },
  {
   "cell_type": "code",
   "execution_count": 34,
   "id": "4606805e-ea37-42f9-9220-6c87b0a21f3f",
   "metadata": {},
   "outputs": [
    {
     "data": {
      "text/plain": [
       "<seaborn.axisgrid.FacetGrid at 0x7f2453ea9390>"
      ]
     },
     "execution_count": 34,
     "metadata": {},
     "output_type": "execute_result"
    },
    {
     "data": {
      "image/png": "[encoded data removed]",
      "text/plain": [
       "<Figure size 360x360 with 1 Axes>"
      ]
     },
     "metadata": {
      "needs_background": "light"
     },
     "output_type": "display_data"
    }
   ],
   "source": [
    "# Popup\n",
    "\n",
    "sns.displot(df_nn_removed[(df_nn_removed.bb_type == 'popup') & (df_nn_removed.game_year == 2019)].launch_speed)"
   ]
  },
  {
   "cell_type": "markdown",
   "id": "1889c14e-c8c9-40de-8b8b-de12a99a9102",
   "metadata": {},
   "source": [
    "<br>"
   ]
  },
  {
   "cell_type": "markdown",
   "id": "3135a225-ed1f-46f6-96a4-3698f0f3a153",
   "metadata": {},
   "source": [
    "**2020 Batted Ball Type Launch Speed Distributions**"
   ]
  },
  {
   "cell_type": "code",
   "execution_count": 35,
   "id": "4b57c147-2a9b-45f4-90b8-44526d7ee3eb",
   "metadata": {},
   "outputs": [
    {
     "data": {
      "text/plain": [
       "<seaborn.axisgrid.FacetGrid at 0x7f2453ce7e50>"
      ]
     },
     "execution_count": 35,
     "metadata": {},
     "output_type": "execute_result"
    },
    {
     "data": {
      "image/png": "[encoded data removed]",
      "text/plain": [
       "<Figure size 360x360 with 1 Axes>"
      ]
     },
     "metadata": {
      "needs_background": "light"
     },
     "output_type": "display_data"
    }
   ],
   "source": [
    "# Overall\n",
    "\n",
    "sns.displot(df_nn_removed[(df_nn_removed.game_year == 2020)].launch_speed)"
   ]
  },
  {
   "cell_type": "code",
   "execution_count": 36,
   "id": "14d046da-1e59-4a7a-b47d-ec3e3a7c30f5",
   "metadata": {},
   "outputs": [
    {
     "data": {
      "text/plain": [
       "<seaborn.axisgrid.FacetGrid at 0x7f2453ccc050>"
      ]
     },
     "execution_count": 36,
     "metadata": {},
     "output_type": "execute_result"
    },
    {
     "data": {
      "image/png": "[encoded data removed]",
      "text/plain": [
       "<Figure size 360x360 with 1 Axes>"
      ]
     },
     "metadata": {
      "needs_background": "light"
     },
     "output_type": "display_data"
    }
   ],
   "source": [
    "# Ground Ball\n",
    "\n",
    "sns.displot(df_nn_removed[(df_nn_removed.bb_type == 'ground_ball') & (df_nn_removed.game_year == 2020)].launch_speed)"
   ]
  },
  {
   "cell_type": "code",
   "execution_count": 37,
   "id": "ebd607b3-74d1-49c9-8ebd-bb5b2e3cad35",
   "metadata": {},
   "outputs": [
    {
     "data": {
      "text/plain": [
       "<seaborn.axisgrid.FacetGrid at 0x7f2453af0b90>"
      ]
     },
     "execution_count": 37,
     "metadata": {},
     "output_type": "execute_result"
    },
    {
     "data": {
      "image/png": "[encoded data removed]",
      "text/plain": [
       "<Figure size 360x360 with 1 Axes>"
      ]
     },
     "metadata": {
      "needs_background": "light"
     },
     "output_type": "display_data"
    }
   ],
   "source": [
    "# Fly Ball\n",
    "\n",
    "sns.displot(df_nn_removed[(df_nn_removed.bb_type == 'fly_ball') & (df_nn_removed.game_year == 2020)].launch_speed)"
   ]
  },
  {
   "cell_type": "code",
   "execution_count": 38,
   "id": "b02d299c-2014-4414-b5b7-019408e65a45",
   "metadata": {},
   "outputs": [
    {
     "data": {
      "text/plain": [
       "<seaborn.axisgrid.FacetGrid at 0x7f24539efe90>"
      ]
     },
     "execution_count": 38,
     "metadata": {},
     "output_type": "execute_result"
    },
    {
     "data": {
      "image/png": "[encoded data removed]",
      "text/plain": [
       "<Figure size 360x360 with 1 Axes>"
      ]
     },
     "metadata": {
      "needs_background": "light"
     },
     "output_type": "display_data"
    }
   ],
   "source": [
    "# Line Drive\n",
    "\n",
    "sns.displot(df_nn_removed[(df_nn_removed.bb_type == 'line_drive') & (df_nn_removed.game_year == 2020)].launch_speed)"
   ]
  },
  {
   "cell_type": "code",
   "execution_count": 39,
   "id": "f737dd66-9787-4618-91f8-3c5179895df0",
   "metadata": {},
   "outputs": [
    {
     "data": {
      "text/plain": [
       "<seaborn.axisgrid.FacetGrid at 0x7f2453d01c90>"
      ]
     },
     "execution_count": 39,
     "metadata": {},
     "output_type": "execute_result"
    },
    {
     "data": {
      "image/png": "[encoded data removed]",
      "text/plain": [
       "<Figure size 360x360 with 1 Axes>"
      ]
     },
     "metadata": {
      "needs_background": "light"
     },
     "output_type": "display_data"
    }
   ],
   "source": [
    "# Popup\n",
    "\n",
    "sns.displot(df_nn_removed[(df_nn_removed.bb_type == 'popup') & (df_nn_removed.game_year == 2020)].launch_speed)"
   ]
  },
  {
   "cell_type": "markdown",
   "id": "028a6f47-c8a2-44ab-9bf4-a66a9bddaecc",
   "metadata": {},
   "source": [
    "<br>"
   ]
  },
  {
   "cell_type": "markdown",
   "id": "e93b14e1-dfa0-4099-bf9c-67d33cc2ba4e",
   "metadata": {},
   "source": [
    "<br>\n",
    "<br>"
   ]
  },
  {
   "cell_type": "markdown",
   "id": "be296842-4bd0-4dbf-a1b3-aee5b6f1e7f3",
   "metadata": {},
   "source": [
    "# Outlier Detection/Investigation"
   ]
  },
  {
   "cell_type": "code",
   "execution_count": 42,
   "id": "4a067615-cb4a-44fb-9277-c7fcd008e596",
   "metadata": {},
   "outputs": [
    {
     "data": {
      "text/plain": [
       "Text(0.5, 0, 'Launch Speed (Exit Velocity) Distribution')"
      ]
     },
     "execution_count": 42,
     "metadata": {},
     "output_type": "execute_result"
    },
    {
     "data": {
      "image/png": "[encoded data removed]",
      "text/plain": [
       "<Figure size 432x288 with 1 Axes>"
      ]
     },
     "metadata": {
      "needs_background": "light"
     },
     "output_type": "display_data"
    }
   ],
   "source": [
    "# Plot No Null Cleaned DF\n",
    "\n",
    "ax = sns.boxplot(x=df_nn_removed['launch_speed'])\n",
    "ax.set_xlabel('Launch Speed (Exit Velocity) Distribution')"
   ]
  },
  {
   "cell_type": "code",
   "execution_count": 43,
   "id": "74c115b0-af3b-4b05-ab89-e1eb25bbd86d",
   "metadata": {},
   "outputs": [
    {
     "name": "stdout",
     "output_type": "stream",
     "text": [
      "19.299999999999997\n"
     ]
    }
   ],
   "source": [
    "# Let's use IQR Method\n",
    "\n",
    "# Calculate Q1(25 percentile) & Q3(75 percentile) for Height column\n",
    "Q1 = df_nn_removed['launch_speed'].quantile(0.25)\n",
    "Q3 = df_nn_removed['launch_speed'].quantile(0.75)\n",
    "\n",
    "# Calculate \"IQR\" for Height column\n",
    "IQR = Q3 - Q1\n",
    "\n",
    "#Interquartile range \n",
    "print(IQR)"
   ]
  },
  {
   "cell_type": "code",
   "execution_count": 44,
   "id": "25f9b35d-aed7-4af0-b364-b40fcf0d3ea1",
   "metadata": {},
   "outputs": [
    {
     "name": "stdout",
     "output_type": "stream",
     "text": [
      "Upper Limit : 128.15\n",
      "Lower Limit : 50.95000000000001\n"
     ]
    }
   ],
   "source": [
    "Upper_Limit = Q3 + 1.5*IQR\n",
    "Lower_Limit = Q1 - 1.5*IQR\n",
    "\n",
    "print(f\"Upper Limit : {Upper_Limit}\")\n",
    "print(f\"Lower Limit : {Lower_Limit}\")"
   ]
  },
  {
   "cell_type": "code",
   "execution_count": 45,
   "id": "e87275a7-5cef-476b-b934-a29e85dc19f8",
   "metadata": {},
   "outputs": [
    {
     "name": "stdout",
     "output_type": "stream",
     "text": [
      "Number of Outliers : 7208\n"
     ]
    }
   ],
   "source": [
    "# Find Potential Outliers\n",
    "\n",
    "outliers = df_nn_removed['launch_speed'][(df_nn_removed['launch_speed']>Upper_Limit ) | (df_nn_removed['launch_speed'] < Lower_Limit)]\n",
    "\n",
    "#print(f\"Outliers in Launch Speed column : \\n{outliers}\\n\")\n",
    "print(f\"Number of Outliers : {outliers.shape[0]}\")"
   ]
  },
  {
   "cell_type": "markdown",
   "id": "6d6fd999-dc81-427a-810b-162b6a1ce935",
   "metadata": {},
   "source": [
    "**Interpretation:**\n",
    "\n",
    "About 7.2k observations, out of 393k are outliers (2%), if the IQR Method is used. At this point, two paths can be taken: remove perceived outliers or leave them in. It is a small percentage of the overall population, but it may have a large impact on the model's ability to predic launch speed. The case for removal is to combat the impact that outliers have. But, the case for leaving in, is that it is feasable for players to hit the ball quite softly (where most of outliers are). Knowing that the observed outliers are what I am deeming a \"reasonable\" outcome of a batted ball, I will not remove them. "
   ]
  },
  {
   "cell_type": "markdown",
   "id": "466fe92a-c2a2-4187-8182-5a8747704673",
   "metadata": {},
   "source": [
    "<br>\n",
    "<br>"
   ]
  },
  {
   "cell_type": "markdown",
   "id": "e3d2f7dd-6af9-4141-b0d4-f713b12a00dc",
   "metadata": {},
   "source": [
    "***"
   ]
  },
  {
   "cell_type": "markdown",
   "id": "cd2f6ef0-0fb7-4ec0-b0c2-954e5be93dc0",
   "metadata": {},
   "source": [
    "# Data Prep For Modeling"
   ]
  },
  {
   "cell_type": "code",
   "execution_count": 47,
   "id": "347229a7-25ba-4180-866f-c54a7d5e3ee7",
   "metadata": {},
   "outputs": [],
   "source": [
    "# Grab Only the Columns We Want\n",
    "\n",
    "data = df_nn_removed[['release_speed', 'release_pos_x', 'release_pos_z', 'pfx_x', 'pfx_z', 'plate_x', 'plate_z', 'vx0', 'vy0', 'vz0', 'ax', 'ay', 'az', 'sz_top', 'sz_bot', \n",
    "                 'launch_speed', 'launch_angle', 'effective_speed', 'release_spin_rate', 'release_extension', 'release_pos_y', 'spin_axis','zone', 'p_throws', 'stand', \n",
    "                 'pitch_name']]"
   ]
  },
  {
   "cell_type": "code",
   "execution_count": 48,
   "id": "47151acc-aa69-489c-afcc-6a05f59c6217",
   "metadata": {},
   "outputs": [
    {
     "data": {
      "text/plain": [
       "True"
      ]
     },
     "execution_count": 48,
     "metadata": {},
     "output_type": "execute_result"
    }
   ],
   "source": [
    "# Check for Null Values\n",
    "\n",
    "data.isnull().values.any()"
   ]
  },
  {
   "cell_type": "code",
   "execution_count": 49,
   "id": "ff3b813a-5446-4c8e-980f-5a480859c91f",
   "metadata": {},
   "outputs": [
    {
     "data": {
      "text/plain": [
       "release_speed          17\n",
       "release_pos_x          17\n",
       "release_pos_z          17\n",
       "pfx_x                  17\n",
       "pfx_z                  17\n",
       "plate_x                17\n",
       "plate_z                17\n",
       "vx0                    17\n",
       "vy0                    17\n",
       "vz0                    17\n",
       "ax                     17\n",
       "ay                     17\n",
       "az                     17\n",
       "sz_top                 17\n",
       "sz_bot                 17\n",
       "launch_speed            0\n",
       "launch_angle            0\n",
       "effective_speed       364\n",
       "release_spin_rate    6013\n",
       "release_extension     245\n",
       "release_pos_y          17\n",
       "spin_axis             213\n",
       "zone                   17\n",
       "p_throws                0\n",
       "stand                   0\n",
       "pitch_name            138\n",
       "dtype: int64"
      ]
     },
     "execution_count": 49,
     "metadata": {},
     "output_type": "execute_result"
    }
   ],
   "source": [
    "# Okay, so which columns?\n",
    "\n",
    "data.isnull().sum()"
   ]
  },
  {
   "cell_type": "code",
   "execution_count": 50,
   "id": "2d5bcfb3-6d15-4f2b-bd77-0adf6d8ad0d8",
   "metadata": {},
   "outputs": [
    {
     "data": {
      "text/plain": [
       "(387486, 26)"
      ]
     },
     "execution_count": 50,
     "metadata": {},
     "output_type": "execute_result"
    }
   ],
   "source": [
    "# We do not feel comfortable imputing missing values here, so we will drop any row with missing data\n",
    "\n",
    "data_clean = data.dropna()\n",
    "\n",
    "data_clean.shape"
   ]
  },
  {
   "cell_type": "code",
   "execution_count": 51,
   "id": "765131d8-bc0f-450e-a4cf-68bfdcb5ae42",
   "metadata": {},
   "outputs": [
    {
     "data": {
      "text/plain": [
       "release_speed        0\n",
       "release_pos_x        0\n",
       "release_pos_z        0\n",
       "pfx_x                0\n",
       "pfx_z                0\n",
       "plate_x              0\n",
       "plate_z              0\n",
       "vx0                  0\n",
       "vy0                  0\n",
       "vz0                  0\n",
       "ax                   0\n",
       "ay                   0\n",
       "az                   0\n",
       "sz_top               0\n",
       "sz_bot               0\n",
       "launch_speed         0\n",
       "launch_angle         0\n",
       "effective_speed      0\n",
       "release_spin_rate    0\n",
       "release_extension    0\n",
       "release_pos_y        0\n",
       "spin_axis            0\n",
       "zone                 0\n",
       "p_throws             0\n",
       "stand                0\n",
       "pitch_name           0\n",
       "dtype: int64"
      ]
     },
     "execution_count": 51,
     "metadata": {},
     "output_type": "execute_result"
    }
   ],
   "source": [
    "# Double Check It Worked As Intended\n",
    "\n",
    "# Okay, so which columns?\n",
    "\n",
    "data_clean.isnull().sum()"
   ]
  },
  {
   "cell_type": "code",
   "execution_count": 52,
   "id": "c62e2833-25da-409c-a9df-dba1bb297f22",
   "metadata": {},
   "outputs": [
    {
     "data": {
      "text/plain": [
       "count    387486.000000\n",
       "mean         88.383734\n",
       "std          14.383640\n",
       "min           5.200000\n",
       "25%          79.900000\n",
       "50%          91.200000\n",
       "75%          99.200000\n",
       "max         122.200000\n",
       "Name: launch_speed, dtype: float64"
      ]
     },
     "execution_count": 52,
     "metadata": {},
     "output_type": "execute_result"
    }
   ],
   "source": [
    "# Briefly Describe Cleaned Launch Speed Distribution\n",
    "\n",
    "data_clean['launch_speed'].describe().T"
   ]
  },
  {
   "cell_type": "markdown",
   "id": "eb14dcb2-2566-4637-8f81-f142e676fe02",
   "metadata": {},
   "source": [
    "<br>"
   ]
  },
  {
   "cell_type": "markdown",
   "id": "d526649a-e632-43da-a4e6-b500e58a66ed",
   "metadata": {},
   "source": [
    "### Create X and Y "
   ]
  },
  {
   "cell_type": "code",
   "execution_count": 53,
   "id": "78770419-fa25-429f-862a-28f2dc983d0f",
   "metadata": {},
   "outputs": [
    {
     "name": "stderr",
     "output_type": "stream",
     "text": [
      "/opt/conda/lib/python3.7/site-packages/ipykernel_launcher.py:2: FutureWarning: In a future version of pandas all arguments of DataFrame.drop except for the argument 'labels' will be keyword-only\n",
      "  \n"
     ]
    }
   ],
   "source": [
    "# X\n",
    "x = data_clean.drop(['launch_speed'],1)\n",
    "\n",
    "\n",
    "# Y\n",
    "y = data_clean['launch_speed']"
   ]
  },
  {
   "cell_type": "code",
   "execution_count": 54,
   "id": "79975206-b16b-47d4-baca-c6945085468c",
   "metadata": {},
   "outputs": [
    {
     "data": {
      "text/plain": [
       "Index(['release_speed', 'release_pos_x', 'release_pos_z', 'pfx_x', 'pfx_z',\n",
       "       'plate_x', 'plate_z', 'vx0', 'vy0', 'vz0', 'ax', 'ay', 'az', 'sz_top',\n",
       "       'sz_bot', 'launch_angle', 'effective_speed', 'release_spin_rate',\n",
       "       'release_extension', 'release_pos_y', 'spin_axis', 'zone_1.0',\n",
       "       'zone_2.0', 'zone_3.0', 'zone_4.0', 'zone_5.0', 'zone_6.0', 'zone_7.0',\n",
       "       'zone_8.0', 'zone_9.0', 'zone_11.0', 'zone_12.0', 'zone_13.0',\n",
       "       'zone_14.0', 'p_throws_L', 'p_throws_R', 'stand_L', 'stand_R',\n",
       "       'pitch_name_2-Seam Fastball', 'pitch_name_4-Seam Fastball',\n",
       "       'pitch_name_Changeup', 'pitch_name_Curveball', 'pitch_name_Cutter',\n",
       "       'pitch_name_Eephus', 'pitch_name_Fastball', 'pitch_name_Forkball',\n",
       "       'pitch_name_Knuckle Curve', 'pitch_name_Knuckleball',\n",
       "       'pitch_name_Screwball', 'pitch_name_Sinker', 'pitch_name_Slider',\n",
       "       'pitch_name_Split-Finger'],\n",
       "      dtype='object')"
      ]
     },
     "execution_count": 54,
     "metadata": {},
     "output_type": "execute_result"
    }
   ],
   "source": [
    "# Turn x categorical variables into dummies\n",
    "\n",
    "x = pd.get_dummies(x, columns=['zone', 'p_throws', 'stand', 'pitch_name'])\n",
    "\n",
    "x.columns"
   ]
  },
  {
   "cell_type": "code",
   "execution_count": 55,
   "id": "47cef692-7b3e-4009-a052-035079a8b6e1",
   "metadata": {},
   "outputs": [
    {
     "name": "stdout",
     "output_type": "stream",
     "text": [
      "(387486, 52)\n",
      "(387486,)\n"
     ]
    }
   ],
   "source": [
    "# Look at shape\n",
    "\n",
    "print(x.shape)\n",
    "print(y.shape)"
   ]
  },
  {
   "cell_type": "code",
   "execution_count": 56,
   "id": "27fc9409-ebd2-429f-a2ce-f4ce8fbcee69",
   "metadata": {},
   "outputs": [
    {
     "name": "stdout",
     "output_type": "stream",
     "text": [
      "(271240, 52)\n",
      "(116246, 52)\n",
      "(271240,)\n",
      "(116246,)\n"
     ]
    }
   ],
   "source": [
    "# Split Into Sets\n",
    "\n",
    "x_train, x_test, y_train, y_test = train_test_split(x,y, test_size=0.3, random_state = 21)\n",
    "\n",
    "print(x_train.shape)\n",
    "print(x_test.shape)\n",
    "print(y_train.shape)\n",
    "print(y_test.shape)"
   ]
  },
  {
   "cell_type": "markdown",
   "id": "3ed5dc64-deb1-47c9-9d8b-3914cd0ca39b",
   "metadata": {},
   "source": [
    "<br>\n",
    "<br>"
   ]
  },
  {
   "cell_type": "markdown",
   "id": "e3174f33-7152-4343-9300-ee731c5c42bd",
   "metadata": {},
   "source": [
    "***"
   ]
  },
  {
   "cell_type": "markdown",
   "id": "3355e2cc-b65c-4833-9815-10761c4182c7",
   "metadata": {},
   "source": [
    "# Model Process: Train Baseline, Cross Validate, Final Model pip install xgboost"
   ]
  },
  {
   "cell_type": "code",
   "execution_count": null,
   "id": "452262fd-d344-416c-a808-7da9a0359f61",
   "metadata": {},
   "outputs": [],
   "source": [
    "pip install xgboost"
   ]
  },
  {
   "cell_type": "code",
   "execution_count": 57,
   "id": "0cd04c35-8104-4e8d-ab88-bbe9b7cd2eb0",
   "metadata": {},
   "outputs": [],
   "source": [
    "import xgboost as xgb\n",
    "import time\n",
    "\n",
    "from sklearn.metrics import r2_score,mean_squared_error, mean_absolute_error\n",
    "from sklearn.model_selection import GridSearchCV\n",
    "from sklearn.model_selection import KFold"
   ]
  },
  {
   "cell_type": "markdown",
   "id": "366e2f21-64b7-4d05-b100-1f2da5dc0dd7",
   "metadata": {},
   "source": [
    "<br>"
   ]
  },
  {
   "cell_type": "markdown",
   "id": "aa2daefe-36a5-4341-8f9d-3e5627d94d85",
   "metadata": {},
   "source": [
    "### Baseline Model"
   ]
  },
  {
   "cell_type": "code",
   "execution_count": 58,
   "id": "fb001da2-f0fe-4ace-afcf-33d02682f6f7",
   "metadata": {},
   "outputs": [
    {
     "name": "stdout",
     "output_type": "stream",
     "text": [
      "Runtime:  13.96941351890564\n"
     ]
    }
   ],
   "source": [
    "# Run Model with Default Settings\n",
    "\n",
    "start = time.time()\n",
    "\n",
    "model = xgb.XGBRegressor(seed=21)\n",
    "\n",
    "model.fit(x_train, y_train)\n",
    "\n",
    "print('Runtime: ', time.time() - start)"
   ]
  },
  {
   "cell_type": "code",
   "execution_count": 59,
   "id": "ae1f58fb-0536-4582-b8f5-50d1b8ccab5c",
   "metadata": {},
   "outputs": [
    {
     "name": "stdout",
     "output_type": "stream",
     "text": [
      "R^2 =  0.4027955489169234\n",
      "MAE =  8.515547199688013\n",
      "RMSE =  11.14487323734746\n"
     ]
    }
   ],
   "source": [
    "# Evaluate Model\n",
    "\n",
    "# Evaluate\n",
    "y_pred = model.predict(x_test)\n",
    "\n",
    "\n",
    "# R^2\n",
    "print('R^2 = ', r2_score(y_test, y_pred))\n",
    "# MAE\n",
    "print('MAE = ', mean_absolute_error(y_test, y_pred))\n",
    "# RMSE\n",
    "print('RMSE = ', np.sqrt(mean_squared_error(y_test, y_pred)))"
   ]
  },
  {
   "cell_type": "markdown",
   "id": "95451d0a-a9c5-4b8c-aed9-3bf37082d9b9",
   "metadata": {},
   "source": [
    "**Interpretation:**\n",
    "\n",
    "**R^2:** 0.40 isn't fantastic, but it's not terrible. The closer to 1 would be ideal, but we will see if this can be improved upon. \n",
    "\n",
    "**MAE:** 8.52 mph seems to be an \"okay\" value for the Mean Absolute Error. We'd like it to be lower and will try to improve the results! \n",
    "\n",
    "**RMSE:** 11.14 mph is a little higher than the MAE and is a bit more sensitive to when the model makes an incorrect prediction of a higher magnitude. "
   ]
  },
  {
   "cell_type": "markdown",
   "id": "dc1ca45c-04c9-4419-b592-8bb841ace11e",
   "metadata": {},
   "source": [
    "<br>"
   ]
  },
  {
   "cell_type": "markdown",
   "id": "8d43a02b-47b4-4f21-be5f-f0ec2e019146",
   "metadata": {},
   "source": [
    "### Model Performance Improvement Investigation: RandomizedSearchCV"
   ]
  },
  {
   "cell_type": "code",
   "execution_count": null,
   "id": "70c4a676-fac2-4646-a283-30e1123961c1",
   "metadata": {},
   "outputs": [],
   "source": [
    "# Define Parameters for CV\n",
    "'''\n",
    "param_grid_to_test = {\n",
    "    'max_depth': [3,4,5,6,7,8,9,10],\n",
    "    'learning_rate': [0.01,0.07,0.13,0.19,0.25,0.3],\n",
    "    'n_estimators': [100, 280, 460, 640, 820, 1000],\n",
    "    'colsample_bytree': [0.5, 0.6, 0.7, 0.8, 0.9, 1],\n",
    "    'sub_sample': [0.5, 0.6, 0.7, 0.8, 0.9, 1], \n",
    "    'min_child_weight': [1,2,3,4,5,6],\n",
    "    'alpha': [0, 1, 5, 10, 15],\n",
    "    'lambda': [0, 1, 5, 10, 15],\n",
    "    'gamma': [0, 1, 2, 3, 4, 5]\n",
    "}\n",
    "'''"
   ]
  },
  {
   "cell_type": "code",
   "execution_count": null,
   "id": "f87f9aef-a022-422f-a3bf-fba3a6c6cd28",
   "metadata": {},
   "outputs": [],
   "source": [
    "# Informed Grid Search CV Approach\n",
    "\n",
    "params_testing = {\n",
    "    'gamma': [0, 1, 2, 3, 4, 5]\n",
    "        }\n",
    "\n",
    "\n",
    "model = xgb.XGBRegressor(seed=21, verbosity = 0)\n",
    "\n",
    "\n",
    "grid_search = GridSearchCV(\n",
    "        estimator = model, \n",
    "        param_grid = params_testing, \n",
    "        scoring = 'neg_mean_squared_error', \n",
    "        n_jobs = 1, \n",
    "        cv = 10,\n",
    "        verbose = True\n",
    "        )\n",
    "\n",
    "\n",
    "start = time.time()\n",
    "grid_search.fit(x_train,y_train)\n",
    "print('Runtime: ', time.time() - start)\n",
    "\n",
    "\n",
    "print(\"Best parameters:\", grid_search.best_params_)\n",
    "print(\"Lowest RMSE: \", (np.sqrt(-grid_search.best_score_)))"
   ]
  },
  {
   "cell_type": "markdown",
   "id": "71c91555-8996-4e9f-9b4c-e1a0e9d04524",
   "metadata": {},
   "source": [
    "<br>"
   ]
  },
  {
   "cell_type": "markdown",
   "id": "8eeda8e0-86c3-42f7-aa80-cbbccfbebf01",
   "metadata": {},
   "source": [
    "### Run with Previously Tuned Model's Parameters"
   ]
  },
  {
   "cell_type": "code",
   "execution_count": 60,
   "id": "0456ff88-0637-4dba-8872-d990c353ee70",
   "metadata": {},
   "outputs": [
    {
     "name": "stdout",
     "output_type": "stream",
     "text": [
      "[21:32:18] WARNING: ../src/learner.cc:576: \n",
      "Parameters: { \"lamba\", \"sub_sample\" } might not be used.\n",
      "\n",
      "  This could be a false alarm, with some parameters getting used by language bindings but\n",
      "  then being mistakenly passed down to XGBoost core, or some parameter actually being used\n",
      "  but getting flagged wrongly here. Please open an issue if you find any such cases.\n",
      "\n",
      "\n",
      "Runtime:  13.904317617416382\n"
     ]
    }
   ],
   "source": [
    "# Run Model with Default Settings\n",
    "\n",
    "start = time.time()\n",
    "\n",
    "model = xgb.XGBRegressor(seed = 21, max_depth = 6, learning_rate = 0.19,\n",
    "                         n_estimators = 100, colsample_bytree = 0.9, sub_sample = 0.5,\n",
    "                         alpha = 15, lamba = 15, gamma = 1, min_child_weight = 2)\n",
    "\n",
    "model.fit(x_train, y_train)\n",
    "\n",
    "print('Runtime: ', time.time() - start)"
   ]
  },
  {
   "cell_type": "code",
   "execution_count": 61,
   "id": "d46d2d9a-5b2e-434c-9fa4-ece5e8ef36f2",
   "metadata": {},
   "outputs": [
    {
     "name": "stdout",
     "output_type": "stream",
     "text": [
      "R^2 =  0.4048630893736046\n",
      "MAE =  8.51611766352812\n",
      "RMSE =  11.12556456148162\n"
     ]
    }
   ],
   "source": [
    "# Evaluate Model\n",
    "\n",
    "# Evaluate\n",
    "y_pred = model.predict(x_test)\n",
    "\n",
    "\n",
    "# R^2\n",
    "print('R^2 = ', r2_score(y_test, y_pred))\n",
    "# MAE\n",
    "print('MAE = ', mean_absolute_error(y_test, y_pred))\n",
    "# RMSE\n",
    "print('RMSE = ', np.sqrt(mean_squared_error(y_test, y_pred)))"
   ]
  },
  {
   "cell_type": "markdown",
   "id": "63c3c039-6a7f-4d76-9aa6-670141716efc",
   "metadata": {},
   "source": [
    "**Interpretation:**\n",
    "\n",
    "As you can see, the tuned model's performance is actually slightly better than the base model. So, we will move forward with this one. "
   ]
  },
  {
   "cell_type": "markdown",
   "id": "0f0c823b-9e49-4f46-a4bb-32577b0f0a0f",
   "metadata": {},
   "source": [
    "<br>"
   ]
  },
  {
   "cell_type": "markdown",
   "id": "66672f0c-0366-408d-a00a-87089b0c9260",
   "metadata": {},
   "source": [
    "### Feature Importance"
   ]
  },
  {
   "cell_type": "code",
   "execution_count": 62,
   "id": "41eb8d51-4c4b-4979-87b8-59e5a000901d",
   "metadata": {},
   "outputs": [
    {
     "data": {
      "image/png": "[encoded data removed]",
      "text/plain": [
       "<Figure size 432x288 with 1 Axes>"
      ]
     },
     "metadata": {
      "needs_background": "light"
     },
     "output_type": "display_data"
    }
   ],
   "source": [
    "# Feature Importance\n",
    "from xgboost import plot_importance\n",
    "import matplotlib.pyplot as plt\n",
    "\n",
    "# plot feature importance\n",
    "plot_importance(model, max_num_features=20, importance_type = 'gain')\n",
    "plt.show()"
   ]
  },
  {
   "cell_type": "markdown",
   "id": "f51d4add-0cea-4a0d-bf33-7ce8d1600ada",
   "metadata": {},
   "source": [
    "<br>"
   ]
  },
  {
   "cell_type": "markdown",
   "id": "0922f046-ee6b-4615-9699-7d5a79e3f42c",
   "metadata": {},
   "source": [
    "### Now, let's experiment with feature selection."
   ]
  },
  {
   "cell_type": "code",
   "execution_count": 63,
   "id": "f7bcd8cc-4445-4abb-a195-6fe83b8533b2",
   "metadata": {},
   "outputs": [
    {
     "data": {
      "text/plain": [
       "32"
      ]
     },
     "execution_count": 63,
     "metadata": {},
     "output_type": "execute_result"
    }
   ],
   "source": [
    "from sklearn.feature_selection import SelectFromModel\n",
    "\n",
    "threshold = np.sort(model.feature_importances_)[20:]\n",
    "\n",
    "len(threshold)"
   ]
  },
  {
   "cell_type": "code",
   "execution_count": 64,
   "id": "f3899f38-eb2a-47ad-b0c1-b33175b2264c",
   "metadata": {},
   "outputs": [
    {
     "data": {
      "text/plain": [
       "array([0.00379325, 0.00400005, 0.00443321, 0.00470003, 0.00470632,\n",
       "       0.00475665, 0.00585787, 0.00604245, 0.00712676, 0.00714804,\n",
       "       0.00734766, 0.00864867, 0.00981128, 0.01121457, 0.01174375,\n",
       "       0.01433662, 0.01620142, 0.01931212, 0.02171871, 0.02195149,\n",
       "       0.02640094, 0.02686452, 0.0272569 , 0.04719719, 0.04926137,\n",
       "       0.05512753, 0.06075206, 0.06288952, 0.06423714, 0.06993811,\n",
       "       0.12988542, 0.15158395], dtype=float32)"
      ]
     },
     "execution_count": 64,
     "metadata": {},
     "output_type": "execute_result"
    }
   ],
   "source": [
    "threshold"
   ]
  },
  {
   "cell_type": "code",
   "execution_count": 65,
   "id": "a09b6ac0-84a3-444a-87c0-1443e8662d83",
   "metadata": {},
   "outputs": [
    {
     "name": "stderr",
     "output_type": "stream",
     "text": [
      "/opt/conda/lib/python3.7/site-packages/sklearn/base.py:439: UserWarning: X has feature names, but SelectFromModel was fitted without feature names\n",
      "  f\"X has feature names, but {self.__class__.__name__} was fitted without\"\n"
     ]
    },
    {
     "name": "stdout",
     "output_type": "stream",
     "text": [
      "[21:34:08] WARNING: ../src/learner.cc:576: \n",
      "Parameters: { \"lamba\", \"sub_sample\" } might not be used.\n",
      "\n",
      "  This could be a false alarm, with some parameters getting used by language bindings but\n",
      "  then being mistakenly passed down to XGBoost core, or some parameter actually being used\n",
      "  but getting flagged wrongly here. Please open an issue if you find any such cases.\n",
      "\n",
      "\n"
     ]
    },
    {
     "name": "stderr",
     "output_type": "stream",
     "text": [
      "/opt/conda/lib/python3.7/site-packages/sklearn/base.py:439: UserWarning: X has feature names, but SelectFromModel was fitted without feature names\n",
      "  f\"X has feature names, but {self.__class__.__name__} was fitted without\"\n"
     ]
    },
    {
     "name": "stdout",
     "output_type": "stream",
     "text": [
      "Thresh=0.004, n=32, RMSE: 11.10 mph\n",
      "[21:34:21] WARNING: ../src/learner.cc:576: \n",
      "Parameters: { \"lamba\", \"sub_sample\" } might not be used.\n",
      "\n",
      "  This could be a false alarm, with some parameters getting used by language bindings but\n",
      "  then being mistakenly passed down to XGBoost core, or some parameter actually being used\n",
      "  but getting flagged wrongly here. Please open an issue if you find any such cases.\n",
      "\n",
      "\n"
     ]
    },
    {
     "name": "stderr",
     "output_type": "stream",
     "text": [
      "/opt/conda/lib/python3.7/site-packages/sklearn/base.py:439: UserWarning: X has feature names, but SelectFromModel was fitted without feature names\n",
      "  f\"X has feature names, but {self.__class__.__name__} was fitted without\"\n",
      "/opt/conda/lib/python3.7/site-packages/sklearn/base.py:439: UserWarning: X has feature names, but SelectFromModel was fitted without feature names\n",
      "  f\"X has feature names, but {self.__class__.__name__} was fitted without\"\n"
     ]
    },
    {
     "name": "stdout",
     "output_type": "stream",
     "text": [
      "Thresh=0.004, n=31, RMSE: 11.12 mph\n",
      "[21:34:34] WARNING: ../src/learner.cc:576: \n",
      "Parameters: { \"lamba\", \"sub_sample\" } might not be used.\n",
      "\n",
      "  This could be a false alarm, with some parameters getting used by language bindings but\n",
      "  then being mistakenly passed down to XGBoost core, or some parameter actually being used\n",
      "  but getting flagged wrongly here. Please open an issue if you find any such cases.\n",
      "\n",
      "\n"
     ]
    },
    {
     "name": "stderr",
     "output_type": "stream",
     "text": [
      "/opt/conda/lib/python3.7/site-packages/sklearn/base.py:439: UserWarning: X has feature names, but SelectFromModel was fitted without feature names\n",
      "  f\"X has feature names, but {self.__class__.__name__} was fitted without\"\n",
      "/opt/conda/lib/python3.7/site-packages/sklearn/base.py:439: UserWarning: X has feature names, but SelectFromModel was fitted without feature names\n",
      "  f\"X has feature names, but {self.__class__.__name__} was fitted without\"\n"
     ]
    },
    {
     "name": "stdout",
     "output_type": "stream",
     "text": [
      "Thresh=0.004, n=30, RMSE: 11.11 mph\n",
      "[21:34:46] WARNING: ../src/learner.cc:576: \n",
      "Parameters: { \"lamba\", \"sub_sample\" } might not be used.\n",
      "\n",
      "  This could be a false alarm, with some parameters getting used by language bindings but\n",
      "  then being mistakenly passed down to XGBoost core, or some parameter actually being used\n",
      "  but getting flagged wrongly here. Please open an issue if you find any such cases.\n",
      "\n",
      "\n"
     ]
    },
    {
     "name": "stderr",
     "output_type": "stream",
     "text": [
      "/opt/conda/lib/python3.7/site-packages/sklearn/base.py:439: UserWarning: X has feature names, but SelectFromModel was fitted without feature names\n",
      "  f\"X has feature names, but {self.__class__.__name__} was fitted without\"\n",
      "/opt/conda/lib/python3.7/site-packages/sklearn/base.py:439: UserWarning: X has feature names, but SelectFromModel was fitted without feature names\n",
      "  f\"X has feature names, but {self.__class__.__name__} was fitted without\"\n"
     ]
    },
    {
     "name": "stdout",
     "output_type": "stream",
     "text": [
      "Thresh=0.005, n=29, RMSE: 11.16 mph\n",
      "[21:34:57] WARNING: ../src/learner.cc:576: \n",
      "Parameters: { \"lamba\", \"sub_sample\" } might not be used.\n",
      "\n",
      "  This could be a false alarm, with some parameters getting used by language bindings but\n",
      "  then being mistakenly passed down to XGBoost core, or some parameter actually being used\n",
      "  but getting flagged wrongly here. Please open an issue if you find any such cases.\n",
      "\n",
      "\n"
     ]
    },
    {
     "name": "stderr",
     "output_type": "stream",
     "text": [
      "/opt/conda/lib/python3.7/site-packages/sklearn/base.py:439: UserWarning: X has feature names, but SelectFromModel was fitted without feature names\n",
      "  f\"X has feature names, but {self.__class__.__name__} was fitted without\"\n",
      "/opt/conda/lib/python3.7/site-packages/sklearn/base.py:439: UserWarning: X has feature names, but SelectFromModel was fitted without feature names\n",
      "  f\"X has feature names, but {self.__class__.__name__} was fitted without\"\n"
     ]
    },
    {
     "name": "stdout",
     "output_type": "stream",
     "text": [
      "Thresh=0.005, n=28, RMSE: 11.13 mph\n",
      "[21:35:09] WARNING: ../src/learner.cc:576: \n",
      "Parameters: { \"lamba\", \"sub_sample\" } might not be used.\n",
      "\n",
      "  This could be a false alarm, with some parameters getting used by language bindings but\n",
      "  then being mistakenly passed down to XGBoost core, or some parameter actually being used\n",
      "  but getting flagged wrongly here. Please open an issue if you find any such cases.\n",
      "\n",
      "\n"
     ]
    },
    {
     "name": "stderr",
     "output_type": "stream",
     "text": [
      "/opt/conda/lib/python3.7/site-packages/sklearn/base.py:439: UserWarning: X has feature names, but SelectFromModel was fitted without feature names\n",
      "  f\"X has feature names, but {self.__class__.__name__} was fitted without\"\n",
      "/opt/conda/lib/python3.7/site-packages/sklearn/base.py:439: UserWarning: X has feature names, but SelectFromModel was fitted without feature names\n",
      "  f\"X has feature names, but {self.__class__.__name__} was fitted without\"\n"
     ]
    },
    {
     "name": "stdout",
     "output_type": "stream",
     "text": [
      "Thresh=0.005, n=27, RMSE: 11.16 mph\n",
      "[21:35:20] WARNING: ../src/learner.cc:576: \n",
      "Parameters: { \"lamba\", \"sub_sample\" } might not be used.\n",
      "\n",
      "  This could be a false alarm, with some parameters getting used by language bindings but\n",
      "  then being mistakenly passed down to XGBoost core, or some parameter actually being used\n",
      "  but getting flagged wrongly here. Please open an issue if you find any such cases.\n",
      "\n",
      "\n"
     ]
    },
    {
     "name": "stderr",
     "output_type": "stream",
     "text": [
      "/opt/conda/lib/python3.7/site-packages/sklearn/base.py:439: UserWarning: X has feature names, but SelectFromModel was fitted without feature names\n",
      "  f\"X has feature names, but {self.__class__.__name__} was fitted without\"\n",
      "/opt/conda/lib/python3.7/site-packages/sklearn/base.py:439: UserWarning: X has feature names, but SelectFromModel was fitted without feature names\n",
      "  f\"X has feature names, but {self.__class__.__name__} was fitted without\"\n"
     ]
    },
    {
     "name": "stdout",
     "output_type": "stream",
     "text": [
      "Thresh=0.006, n=26, RMSE: 11.17 mph\n",
      "[21:35:32] WARNING: ../src/learner.cc:576: \n",
      "Parameters: { \"lamba\", \"sub_sample\" } might not be used.\n",
      "\n",
      "  This could be a false alarm, with some parameters getting used by language bindings but\n",
      "  then being mistakenly passed down to XGBoost core, or some parameter actually being used\n",
      "  but getting flagged wrongly here. Please open an issue if you find any such cases.\n",
      "\n",
      "\n"
     ]
    },
    {
     "name": "stderr",
     "output_type": "stream",
     "text": [
      "/opt/conda/lib/python3.7/site-packages/sklearn/base.py:439: UserWarning: X has feature names, but SelectFromModel was fitted without feature names\n",
      "  f\"X has feature names, but {self.__class__.__name__} was fitted without\"\n",
      "/opt/conda/lib/python3.7/site-packages/sklearn/base.py:439: UserWarning: X has feature names, but SelectFromModel was fitted without feature names\n",
      "  f\"X has feature names, but {self.__class__.__name__} was fitted without\"\n"
     ]
    },
    {
     "name": "stdout",
     "output_type": "stream",
     "text": [
      "Thresh=0.006, n=25, RMSE: 11.16 mph\n",
      "[21:35:43] WARNING: ../src/learner.cc:576: \n",
      "Parameters: { \"lamba\", \"sub_sample\" } might not be used.\n",
      "\n",
      "  This could be a false alarm, with some parameters getting used by language bindings but\n",
      "  then being mistakenly passed down to XGBoost core, or some parameter actually being used\n",
      "  but getting flagged wrongly here. Please open an issue if you find any such cases.\n",
      "\n",
      "\n"
     ]
    },
    {
     "name": "stderr",
     "output_type": "stream",
     "text": [
      "/opt/conda/lib/python3.7/site-packages/sklearn/base.py:439: UserWarning: X has feature names, but SelectFromModel was fitted without feature names\n",
      "  f\"X has feature names, but {self.__class__.__name__} was fitted without\"\n",
      "/opt/conda/lib/python3.7/site-packages/sklearn/base.py:439: UserWarning: X has feature names, but SelectFromModel was fitted without feature names\n",
      "  f\"X has feature names, but {self.__class__.__name__} was fitted without\"\n"
     ]
    },
    {
     "name": "stdout",
     "output_type": "stream",
     "text": [
      "Thresh=0.007, n=24, RMSE: 11.17 mph\n",
      "[21:35:54] WARNING: ../src/learner.cc:576: \n",
      "Parameters: { \"lamba\", \"sub_sample\" } might not be used.\n",
      "\n",
      "  This could be a false alarm, with some parameters getting used by language bindings but\n",
      "  then being mistakenly passed down to XGBoost core, or some parameter actually being used\n",
      "  but getting flagged wrongly here. Please open an issue if you find any such cases.\n",
      "\n",
      "\n"
     ]
    },
    {
     "name": "stderr",
     "output_type": "stream",
     "text": [
      "/opt/conda/lib/python3.7/site-packages/sklearn/base.py:439: UserWarning: X has feature names, but SelectFromModel was fitted without feature names\n",
      "  f\"X has feature names, but {self.__class__.__name__} was fitted without\"\n",
      "/opt/conda/lib/python3.7/site-packages/sklearn/base.py:439: UserWarning: X has feature names, but SelectFromModel was fitted without feature names\n",
      "  f\"X has feature names, but {self.__class__.__name__} was fitted without\"\n"
     ]
    },
    {
     "name": "stdout",
     "output_type": "stream",
     "text": [
      "Thresh=0.007, n=23, RMSE: 11.23 mph\n",
      "[21:36:05] WARNING: ../src/learner.cc:576: \n",
      "Parameters: { \"lamba\", \"sub_sample\" } might not be used.\n",
      "\n",
      "  This could be a false alarm, with some parameters getting used by language bindings but\n",
      "  then being mistakenly passed down to XGBoost core, or some parameter actually being used\n",
      "  but getting flagged wrongly here. Please open an issue if you find any such cases.\n",
      "\n",
      "\n"
     ]
    },
    {
     "name": "stderr",
     "output_type": "stream",
     "text": [
      "/opt/conda/lib/python3.7/site-packages/sklearn/base.py:439: UserWarning: X has feature names, but SelectFromModel was fitted without feature names\n",
      "  f\"X has feature names, but {self.__class__.__name__} was fitted without\"\n",
      "/opt/conda/lib/python3.7/site-packages/sklearn/base.py:439: UserWarning: X has feature names, but SelectFromModel was fitted without feature names\n",
      "  f\"X has feature names, but {self.__class__.__name__} was fitted without\"\n"
     ]
    },
    {
     "name": "stdout",
     "output_type": "stream",
     "text": [
      "Thresh=0.007, n=22, RMSE: 11.23 mph\n",
      "[21:36:17] WARNING: ../src/learner.cc:576: \n",
      "Parameters: { \"lamba\", \"sub_sample\" } might not be used.\n",
      "\n",
      "  This could be a false alarm, with some parameters getting used by language bindings but\n",
      "  then being mistakenly passed down to XGBoost core, or some parameter actually being used\n",
      "  but getting flagged wrongly here. Please open an issue if you find any such cases.\n",
      "\n",
      "\n"
     ]
    },
    {
     "name": "stderr",
     "output_type": "stream",
     "text": [
      "/opt/conda/lib/python3.7/site-packages/sklearn/base.py:439: UserWarning: X has feature names, but SelectFromModel was fitted without feature names\n",
      "  f\"X has feature names, but {self.__class__.__name__} was fitted without\"\n",
      "/opt/conda/lib/python3.7/site-packages/sklearn/base.py:439: UserWarning: X has feature names, but SelectFromModel was fitted without feature names\n",
      "  f\"X has feature names, but {self.__class__.__name__} was fitted without\"\n"
     ]
    },
    {
     "name": "stdout",
     "output_type": "stream",
     "text": [
      "Thresh=0.009, n=21, RMSE: 11.25 mph\n",
      "[21:36:28] WARNING: ../src/learner.cc:576: \n",
      "Parameters: { \"lamba\", \"sub_sample\" } might not be used.\n",
      "\n",
      "  This could be a false alarm, with some parameters getting used by language bindings but\n",
      "  then being mistakenly passed down to XGBoost core, or some parameter actually being used\n",
      "  but getting flagged wrongly here. Please open an issue if you find any such cases.\n",
      "\n",
      "\n"
     ]
    },
    {
     "name": "stderr",
     "output_type": "stream",
     "text": [
      "/opt/conda/lib/python3.7/site-packages/sklearn/base.py:439: UserWarning: X has feature names, but SelectFromModel was fitted without feature names\n",
      "  f\"X has feature names, but {self.__class__.__name__} was fitted without\"\n",
      "/opt/conda/lib/python3.7/site-packages/sklearn/base.py:439: UserWarning: X has feature names, but SelectFromModel was fitted without feature names\n",
      "  f\"X has feature names, but {self.__class__.__name__} was fitted without\"\n"
     ]
    },
    {
     "name": "stdout",
     "output_type": "stream",
     "text": [
      "Thresh=0.010, n=20, RMSE: 11.24 mph\n",
      "[21:36:39] WARNING: ../src/learner.cc:576: \n",
      "Parameters: { \"lamba\", \"sub_sample\" } might not be used.\n",
      "\n",
      "  This could be a false alarm, with some parameters getting used by language bindings but\n",
      "  then being mistakenly passed down to XGBoost core, or some parameter actually being used\n",
      "  but getting flagged wrongly here. Please open an issue if you find any such cases.\n",
      "\n",
      "\n"
     ]
    },
    {
     "name": "stderr",
     "output_type": "stream",
     "text": [
      "/opt/conda/lib/python3.7/site-packages/sklearn/base.py:439: UserWarning: X has feature names, but SelectFromModel was fitted without feature names\n",
      "  f\"X has feature names, but {self.__class__.__name__} was fitted without\"\n",
      "/opt/conda/lib/python3.7/site-packages/sklearn/base.py:439: UserWarning: X has feature names, but SelectFromModel was fitted without feature names\n",
      "  f\"X has feature names, but {self.__class__.__name__} was fitted without\"\n"
     ]
    },
    {
     "name": "stdout",
     "output_type": "stream",
     "text": [
      "Thresh=0.011, n=19, RMSE: 11.24 mph\n",
      "[21:36:50] WARNING: ../src/learner.cc:576: \n",
      "Parameters: { \"lamba\", \"sub_sample\" } might not be used.\n",
      "\n",
      "  This could be a false alarm, with some parameters getting used by language bindings but\n",
      "  then being mistakenly passed down to XGBoost core, or some parameter actually being used\n",
      "  but getting flagged wrongly here. Please open an issue if you find any such cases.\n",
      "\n",
      "\n"
     ]
    },
    {
     "name": "stderr",
     "output_type": "stream",
     "text": [
      "/opt/conda/lib/python3.7/site-packages/sklearn/base.py:439: UserWarning: X has feature names, but SelectFromModel was fitted without feature names\n",
      "  f\"X has feature names, but {self.__class__.__name__} was fitted without\"\n",
      "/opt/conda/lib/python3.7/site-packages/sklearn/base.py:439: UserWarning: X has feature names, but SelectFromModel was fitted without feature names\n",
      "  f\"X has feature names, but {self.__class__.__name__} was fitted without\"\n"
     ]
    },
    {
     "name": "stdout",
     "output_type": "stream",
     "text": [
      "Thresh=0.012, n=18, RMSE: 11.28 mph\n",
      "[21:37:01] WARNING: ../src/learner.cc:576: \n",
      "Parameters: { \"lamba\", \"sub_sample\" } might not be used.\n",
      "\n",
      "  This could be a false alarm, with some parameters getting used by language bindings but\n",
      "  then being mistakenly passed down to XGBoost core, or some parameter actually being used\n",
      "  but getting flagged wrongly here. Please open an issue if you find any such cases.\n",
      "\n",
      "\n"
     ]
    },
    {
     "name": "stderr",
     "output_type": "stream",
     "text": [
      "/opt/conda/lib/python3.7/site-packages/sklearn/base.py:439: UserWarning: X has feature names, but SelectFromModel was fitted without feature names\n",
      "  f\"X has feature names, but {self.__class__.__name__} was fitted without\"\n",
      "/opt/conda/lib/python3.7/site-packages/sklearn/base.py:439: UserWarning: X has feature names, but SelectFromModel was fitted without feature names\n",
      "  f\"X has feature names, but {self.__class__.__name__} was fitted without\"\n"
     ]
    },
    {
     "name": "stdout",
     "output_type": "stream",
     "text": [
      "Thresh=0.014, n=17, RMSE: 11.28 mph\n",
      "[21:37:11] WARNING: ../src/learner.cc:576: \n",
      "Parameters: { \"lamba\", \"sub_sample\" } might not be used.\n",
      "\n",
      "  This could be a false alarm, with some parameters getting used by language bindings but\n",
      "  then being mistakenly passed down to XGBoost core, or some parameter actually being used\n",
      "  but getting flagged wrongly here. Please open an issue if you find any such cases.\n",
      "\n",
      "\n"
     ]
    },
    {
     "name": "stderr",
     "output_type": "stream",
     "text": [
      "/opt/conda/lib/python3.7/site-packages/sklearn/base.py:439: UserWarning: X has feature names, but SelectFromModel was fitted without feature names\n",
      "  f\"X has feature names, but {self.__class__.__name__} was fitted without\"\n",
      "/opt/conda/lib/python3.7/site-packages/sklearn/base.py:439: UserWarning: X has feature names, but SelectFromModel was fitted without feature names\n",
      "  f\"X has feature names, but {self.__class__.__name__} was fitted without\"\n"
     ]
    },
    {
     "name": "stdout",
     "output_type": "stream",
     "text": [
      "Thresh=0.016, n=16, RMSE: 11.29 mph\n",
      "[21:37:23] WARNING: ../src/learner.cc:576: \n",
      "Parameters: { \"lamba\", \"sub_sample\" } might not be used.\n",
      "\n",
      "  This could be a false alarm, with some parameters getting used by language bindings but\n",
      "  then being mistakenly passed down to XGBoost core, or some parameter actually being used\n",
      "  but getting flagged wrongly here. Please open an issue if you find any such cases.\n",
      "\n",
      "\n"
     ]
    },
    {
     "name": "stderr",
     "output_type": "stream",
     "text": [
      "/opt/conda/lib/python3.7/site-packages/sklearn/base.py:439: UserWarning: X has feature names, but SelectFromModel was fitted without feature names\n",
      "  f\"X has feature names, but {self.__class__.__name__} was fitted without\"\n",
      "/opt/conda/lib/python3.7/site-packages/sklearn/base.py:439: UserWarning: X has feature names, but SelectFromModel was fitted without feature names\n",
      "  f\"X has feature names, but {self.__class__.__name__} was fitted without\"\n"
     ]
    },
    {
     "name": "stdout",
     "output_type": "stream",
     "text": [
      "Thresh=0.019, n=15, RMSE: 11.38 mph\n",
      "[21:37:27] WARNING: ../src/learner.cc:576: \n",
      "Parameters: { \"lamba\", \"sub_sample\" } might not be used.\n",
      "\n",
      "  This could be a false alarm, with some parameters getting used by language bindings but\n",
      "  then being mistakenly passed down to XGBoost core, or some parameter actually being used\n",
      "  but getting flagged wrongly here. Please open an issue if you find any such cases.\n",
      "\n",
      "\n"
     ]
    },
    {
     "name": "stderr",
     "output_type": "stream",
     "text": [
      "/opt/conda/lib/python3.7/site-packages/sklearn/base.py:439: UserWarning: X has feature names, but SelectFromModel was fitted without feature names\n",
      "  f\"X has feature names, but {self.__class__.__name__} was fitted without\"\n",
      "/opt/conda/lib/python3.7/site-packages/sklearn/base.py:439: UserWarning: X has feature names, but SelectFromModel was fitted without feature names\n",
      "  f\"X has feature names, but {self.__class__.__name__} was fitted without\"\n"
     ]
    },
    {
     "name": "stdout",
     "output_type": "stream",
     "text": [
      "Thresh=0.022, n=14, RMSE: 11.38 mph\n",
      "[21:37:31] WARNING: ../src/learner.cc:576: \n",
      "Parameters: { \"lamba\", \"sub_sample\" } might not be used.\n",
      "\n",
      "  This could be a false alarm, with some parameters getting used by language bindings but\n",
      "  then being mistakenly passed down to XGBoost core, or some parameter actually being used\n",
      "  but getting flagged wrongly here. Please open an issue if you find any such cases.\n",
      "\n",
      "\n"
     ]
    },
    {
     "name": "stderr",
     "output_type": "stream",
     "text": [
      "/opt/conda/lib/python3.7/site-packages/sklearn/base.py:439: UserWarning: X has feature names, but SelectFromModel was fitted without feature names\n",
      "  f\"X has feature names, but {self.__class__.__name__} was fitted without\"\n",
      "/opt/conda/lib/python3.7/site-packages/sklearn/base.py:439: UserWarning: X has feature names, but SelectFromModel was fitted without feature names\n",
      "  f\"X has feature names, but {self.__class__.__name__} was fitted without\"\n"
     ]
    },
    {
     "name": "stdout",
     "output_type": "stream",
     "text": [
      "Thresh=0.022, n=13, RMSE: 11.59 mph\n",
      "[21:37:35] WARNING: ../src/learner.cc:576: \n",
      "Parameters: { \"lamba\", \"sub_sample\" } might not be used.\n",
      "\n",
      "  This could be a false alarm, with some parameters getting used by language bindings but\n",
      "  then being mistakenly passed down to XGBoost core, or some parameter actually being used\n",
      "  but getting flagged wrongly here. Please open an issue if you find any such cases.\n",
      "\n",
      "\n"
     ]
    },
    {
     "name": "stderr",
     "output_type": "stream",
     "text": [
      "/opt/conda/lib/python3.7/site-packages/sklearn/base.py:439: UserWarning: X has feature names, but SelectFromModel was fitted without feature names\n",
      "  f\"X has feature names, but {self.__class__.__name__} was fitted without\"\n",
      "/opt/conda/lib/python3.7/site-packages/sklearn/base.py:439: UserWarning: X has feature names, but SelectFromModel was fitted without feature names\n",
      "  f\"X has feature names, but {self.__class__.__name__} was fitted without\"\n"
     ]
    },
    {
     "name": "stdout",
     "output_type": "stream",
     "text": [
      "Thresh=0.026, n=12, RMSE: 11.67 mph\n",
      "[21:37:39] WARNING: ../src/learner.cc:576: \n",
      "Parameters: { \"lamba\", \"sub_sample\" } might not be used.\n",
      "\n",
      "  This could be a false alarm, with some parameters getting used by language bindings but\n",
      "  then being mistakenly passed down to XGBoost core, or some parameter actually being used\n",
      "  but getting flagged wrongly here. Please open an issue if you find any such cases.\n",
      "\n",
      "\n"
     ]
    },
    {
     "name": "stderr",
     "output_type": "stream",
     "text": [
      "/opt/conda/lib/python3.7/site-packages/sklearn/base.py:439: UserWarning: X has feature names, but SelectFromModel was fitted without feature names\n",
      "  f\"X has feature names, but {self.__class__.__name__} was fitted without\"\n",
      "/opt/conda/lib/python3.7/site-packages/sklearn/base.py:439: UserWarning: X has feature names, but SelectFromModel was fitted without feature names\n",
      "  f\"X has feature names, but {self.__class__.__name__} was fitted without\"\n"
     ]
    },
    {
     "name": "stdout",
     "output_type": "stream",
     "text": [
      "Thresh=0.027, n=11, RMSE: 11.66 mph\n",
      "[21:37:44] WARNING: ../src/learner.cc:576: \n",
      "Parameters: { \"lamba\", \"sub_sample\" } might not be used.\n",
      "\n",
      "  This could be a false alarm, with some parameters getting used by language bindings but\n",
      "  then being mistakenly passed down to XGBoost core, or some parameter actually being used\n",
      "  but getting flagged wrongly here. Please open an issue if you find any such cases.\n",
      "\n",
      "\n"
     ]
    },
    {
     "name": "stderr",
     "output_type": "stream",
     "text": [
      "/opt/conda/lib/python3.7/site-packages/sklearn/base.py:439: UserWarning: X has feature names, but SelectFromModel was fitted without feature names\n",
      "  f\"X has feature names, but {self.__class__.__name__} was fitted without\"\n",
      "/opt/conda/lib/python3.7/site-packages/sklearn/base.py:439: UserWarning: X has feature names, but SelectFromModel was fitted without feature names\n",
      "  f\"X has feature names, but {self.__class__.__name__} was fitted without\"\n"
     ]
    },
    {
     "name": "stdout",
     "output_type": "stream",
     "text": [
      "Thresh=0.027, n=10, RMSE: 11.97 mph\n",
      "[21:37:48] WARNING: ../src/learner.cc:576: \n",
      "Parameters: { \"lamba\", \"sub_sample\" } might not be used.\n",
      "\n",
      "  This could be a false alarm, with some parameters getting used by language bindings but\n",
      "  then being mistakenly passed down to XGBoost core, or some parameter actually being used\n",
      "  but getting flagged wrongly here. Please open an issue if you find any such cases.\n",
      "\n",
      "\n"
     ]
    },
    {
     "name": "stderr",
     "output_type": "stream",
     "text": [
      "/opt/conda/lib/python3.7/site-packages/sklearn/base.py:439: UserWarning: X has feature names, but SelectFromModel was fitted without feature names\n",
      "  f\"X has feature names, but {self.__class__.__name__} was fitted without\"\n",
      "/opt/conda/lib/python3.7/site-packages/sklearn/base.py:439: UserWarning: X has feature names, but SelectFromModel was fitted without feature names\n",
      "  f\"X has feature names, but {self.__class__.__name__} was fitted without\"\n"
     ]
    },
    {
     "name": "stdout",
     "output_type": "stream",
     "text": [
      "Thresh=0.047, n=9, RMSE: 11.98 mph\n",
      "[21:37:52] WARNING: ../src/learner.cc:576: \n",
      "Parameters: { \"lamba\", \"sub_sample\" } might not be used.\n",
      "\n",
      "  This could be a false alarm, with some parameters getting used by language bindings but\n",
      "  then being mistakenly passed down to XGBoost core, or some parameter actually being used\n",
      "  but getting flagged wrongly here. Please open an issue if you find any such cases.\n",
      "\n",
      "\n"
     ]
    },
    {
     "name": "stderr",
     "output_type": "stream",
     "text": [
      "/opt/conda/lib/python3.7/site-packages/sklearn/base.py:439: UserWarning: X has feature names, but SelectFromModel was fitted without feature names\n",
      "  f\"X has feature names, but {self.__class__.__name__} was fitted without\"\n",
      "/opt/conda/lib/python3.7/site-packages/sklearn/base.py:439: UserWarning: X has feature names, but SelectFromModel was fitted without feature names\n",
      "  f\"X has feature names, but {self.__class__.__name__} was fitted without\"\n"
     ]
    },
    {
     "name": "stdout",
     "output_type": "stream",
     "text": [
      "Thresh=0.049, n=8, RMSE: 12.22 mph\n",
      "[21:37:56] WARNING: ../src/learner.cc:576: \n",
      "Parameters: { \"lamba\", \"sub_sample\" } might not be used.\n",
      "\n",
      "  This could be a false alarm, with some parameters getting used by language bindings but\n",
      "  then being mistakenly passed down to XGBoost core, or some parameter actually being used\n",
      "  but getting flagged wrongly here. Please open an issue if you find any such cases.\n",
      "\n",
      "\n"
     ]
    },
    {
     "name": "stderr",
     "output_type": "stream",
     "text": [
      "/opt/conda/lib/python3.7/site-packages/sklearn/base.py:439: UserWarning: X has feature names, but SelectFromModel was fitted without feature names\n",
      "  f\"X has feature names, but {self.__class__.__name__} was fitted without\"\n",
      "/opt/conda/lib/python3.7/site-packages/sklearn/base.py:439: UserWarning: X has feature names, but SelectFromModel was fitted without feature names\n",
      "  f\"X has feature names, but {self.__class__.__name__} was fitted without\"\n"
     ]
    },
    {
     "name": "stdout",
     "output_type": "stream",
     "text": [
      "Thresh=0.055, n=7, RMSE: 12.22 mph\n",
      "[21:38:00] WARNING: ../src/learner.cc:576: \n",
      "Parameters: { \"lamba\", \"sub_sample\" } might not be used.\n",
      "\n",
      "  This could be a false alarm, with some parameters getting used by language bindings but\n",
      "  then being mistakenly passed down to XGBoost core, or some parameter actually being used\n",
      "  but getting flagged wrongly here. Please open an issue if you find any such cases.\n",
      "\n",
      "\n"
     ]
    },
    {
     "name": "stderr",
     "output_type": "stream",
     "text": [
      "/opt/conda/lib/python3.7/site-packages/sklearn/base.py:439: UserWarning: X has feature names, but SelectFromModel was fitted without feature names\n",
      "  f\"X has feature names, but {self.__class__.__name__} was fitted without\"\n",
      "/opt/conda/lib/python3.7/site-packages/sklearn/base.py:439: UserWarning: X has feature names, but SelectFromModel was fitted without feature names\n",
      "  f\"X has feature names, but {self.__class__.__name__} was fitted without\"\n"
     ]
    },
    {
     "name": "stdout",
     "output_type": "stream",
     "text": [
      "Thresh=0.061, n=6, RMSE: 12.29 mph\n",
      "[21:38:03] WARNING: ../src/learner.cc:576: \n",
      "Parameters: { \"lamba\", \"sub_sample\" } might not be used.\n",
      "\n",
      "  This could be a false alarm, with some parameters getting used by language bindings but\n",
      "  then being mistakenly passed down to XGBoost core, or some parameter actually being used\n",
      "  but getting flagged wrongly here. Please open an issue if you find any such cases.\n",
      "\n",
      "\n"
     ]
    },
    {
     "name": "stderr",
     "output_type": "stream",
     "text": [
      "/opt/conda/lib/python3.7/site-packages/sklearn/base.py:439: UserWarning: X has feature names, but SelectFromModel was fitted without feature names\n",
      "  f\"X has feature names, but {self.__class__.__name__} was fitted without\"\n",
      "/opt/conda/lib/python3.7/site-packages/sklearn/base.py:439: UserWarning: X has feature names, but SelectFromModel was fitted without feature names\n",
      "  f\"X has feature names, but {self.__class__.__name__} was fitted without\"\n"
     ]
    },
    {
     "name": "stdout",
     "output_type": "stream",
     "text": [
      "Thresh=0.063, n=5, RMSE: 12.37 mph\n",
      "[21:38:07] WARNING: ../src/learner.cc:576: \n",
      "Parameters: { \"lamba\", \"sub_sample\" } might not be used.\n",
      "\n",
      "  This could be a false alarm, with some parameters getting used by language bindings but\n",
      "  then being mistakenly passed down to XGBoost core, or some parameter actually being used\n",
      "  but getting flagged wrongly here. Please open an issue if you find any such cases.\n",
      "\n",
      "\n"
     ]
    },
    {
     "name": "stderr",
     "output_type": "stream",
     "text": [
      "/opt/conda/lib/python3.7/site-packages/sklearn/base.py:439: UserWarning: X has feature names, but SelectFromModel was fitted without feature names\n",
      "  f\"X has feature names, but {self.__class__.__name__} was fitted without\"\n",
      "/opt/conda/lib/python3.7/site-packages/sklearn/base.py:439: UserWarning: X has feature names, but SelectFromModel was fitted without feature names\n",
      "  f\"X has feature names, but {self.__class__.__name__} was fitted without\"\n"
     ]
    },
    {
     "name": "stdout",
     "output_type": "stream",
     "text": [
      "Thresh=0.064, n=4, RMSE: 12.53 mph\n",
      "[21:38:10] WARNING: ../src/learner.cc:576: \n",
      "Parameters: { \"lamba\", \"sub_sample\" } might not be used.\n",
      "\n",
      "  This could be a false alarm, with some parameters getting used by language bindings but\n",
      "  then being mistakenly passed down to XGBoost core, or some parameter actually being used\n",
      "  but getting flagged wrongly here. Please open an issue if you find any such cases.\n",
      "\n",
      "\n"
     ]
    },
    {
     "name": "stderr",
     "output_type": "stream",
     "text": [
      "/opt/conda/lib/python3.7/site-packages/sklearn/base.py:439: UserWarning: X has feature names, but SelectFromModel was fitted without feature names\n",
      "  f\"X has feature names, but {self.__class__.__name__} was fitted without\"\n",
      "/opt/conda/lib/python3.7/site-packages/sklearn/base.py:439: UserWarning: X has feature names, but SelectFromModel was fitted without feature names\n",
      "  f\"X has feature names, but {self.__class__.__name__} was fitted without\"\n"
     ]
    },
    {
     "name": "stdout",
     "output_type": "stream",
     "text": [
      "Thresh=0.070, n=3, RMSE: 12.57 mph\n",
      "[21:38:13] WARNING: ../src/learner.cc:576: \n",
      "Parameters: { \"lamba\", \"sub_sample\" } might not be used.\n",
      "\n",
      "  This could be a false alarm, with some parameters getting used by language bindings but\n",
      "  then being mistakenly passed down to XGBoost core, or some parameter actually being used\n",
      "  but getting flagged wrongly here. Please open an issue if you find any such cases.\n",
      "\n",
      "\n"
     ]
    },
    {
     "name": "stderr",
     "output_type": "stream",
     "text": [
      "/opt/conda/lib/python3.7/site-packages/sklearn/base.py:439: UserWarning: X has feature names, but SelectFromModel was fitted without feature names\n",
      "  f\"X has feature names, but {self.__class__.__name__} was fitted without\"\n",
      "/opt/conda/lib/python3.7/site-packages/sklearn/base.py:439: UserWarning: X has feature names, but SelectFromModel was fitted without feature names\n",
      "  f\"X has feature names, but {self.__class__.__name__} was fitted without\"\n"
     ]
    },
    {
     "name": "stdout",
     "output_type": "stream",
     "text": [
      "Thresh=0.130, n=2, RMSE: 12.76 mph\n",
      "[21:38:15] WARNING: ../src/learner.cc:576: \n",
      "Parameters: { \"lamba\", \"sub_sample\" } might not be used.\n",
      "\n",
      "  This could be a false alarm, with some parameters getting used by language bindings but\n",
      "  then being mistakenly passed down to XGBoost core, or some parameter actually being used\n",
      "  but getting flagged wrongly here. Please open an issue if you find any such cases.\n",
      "\n",
      "\n"
     ]
    },
    {
     "name": "stderr",
     "output_type": "stream",
     "text": [
      "/opt/conda/lib/python3.7/site-packages/sklearn/base.py:439: UserWarning: X has feature names, but SelectFromModel was fitted without feature names\n",
      "  f\"X has feature names, but {self.__class__.__name__} was fitted without\"\n"
     ]
    },
    {
     "name": "stdout",
     "output_type": "stream",
     "text": [
      "Thresh=0.152, n=1, RMSE: 14.31 mph\n"
     ]
    },
    {
     "name": "stderr",
     "output_type": "stream",
     "text": [
      "/opt/conda/lib/python3.7/site-packages/sklearn/base.py:439: UserWarning: X has feature names, but SelectFromModel was fitted without feature names\n",
      "  f\"X has feature names, but {self.__class__.__name__} was fitted without\"\n"
     ]
    }
   ],
   "source": [
    "for thresh in threshold:\n",
    "    \n",
    "    # select features using threshold\n",
    "    selection = SelectFromModel(model, threshold=thresh, prefit=True)\n",
    "    select_x_train = selection.transform(x_train)\n",
    "    \n",
    "    # train model\n",
    "    selection_model = xgb.XGBRegressor(seed = 21, max_depth = 6, learning_rate = 0.19,\n",
    "                         n_estimators = 100, colsample_bytree = 0.9, sub_sample = 0.5,\n",
    "                         alpha = 15, lamba = 15, gamma = 1, min_child_weight = 2)\n",
    "    selection_model.fit(select_x_train, y_train)\n",
    "    \n",
    "    # eval model\n",
    "    select_x_test = selection.transform(x_test)\n",
    "    y_pred = selection_model.predict(select_x_test)\n",
    "    predictions = [round(value) for value in y_pred]\n",
    "    RMSE = np.sqrt(mean_squared_error(y_test, predictions))\n",
    "    \n",
    "    print(\"Thresh=%.3f, n=%d, RMSE: %.2f mph\" % (thresh, select_x_train.shape[1], RMSE))"
   ]
  },
  {
   "cell_type": "markdown",
   "id": "b5126def-b628-4645-9a48-015f532beb06",
   "metadata": {},
   "source": [
    "<br>"
   ]
  },
  {
   "cell_type": "markdown",
   "id": "bc5f8b24-649f-422a-923c-79bfd25ce9bc",
   "metadata": {},
   "source": [
    "<br>"
   ]
  },
  {
   "cell_type": "markdown",
   "id": "c93a6d6c-169d-4a7d-b16a-8912cf118fb1",
   "metadata": {},
   "source": [
    "**We see from here that using the top 32 features resulted in an RMSE of 11.10 mph. Let's see which features they are and use those in the model.**"
   ]
  },
  {
   "cell_type": "code",
   "execution_count": 66,
   "id": "38473162-379d-4f7e-96d3-41997d8ead73",
   "metadata": {},
   "outputs": [
    {
     "data": {
      "text/html": [
       "<div>\n",
       "<style scoped>\n",
       "    .dataframe tbody tr th:only-of-type {\n",
       "        vertical-align: middle;\n",
       "    }\n",
       "\n",
       "    .dataframe tbody tr th {\n",
       "        vertical-align: top;\n",
       "    }\n",
       "\n",
       "    .dataframe thead th {\n",
       "        text-align: right;\n",
       "    }\n",
       "</style>\n",
       "<table border=\"1\" class=\"dataframe\">\n",
       "  <thead>\n",
       "    <tr style=\"text-align: right;\">\n",
       "      <th></th>\n",
       "      <th>columns</th>\n",
       "      <th>importances</th>\n",
       "    </tr>\n",
       "  </thead>\n",
       "  <tbody>\n",
       "    <tr>\n",
       "      <th>32</th>\n",
       "      <td>zone_13.0</td>\n",
       "      <td>0.151584</td>\n",
       "    </tr>\n",
       "    <tr>\n",
       "      <th>15</th>\n",
       "      <td>launch_angle</td>\n",
       "      <td>0.129885</td>\n",
       "    </tr>\n",
       "    <tr>\n",
       "      <th>33</th>\n",
       "      <td>zone_14.0</td>\n",
       "      <td>0.069938</td>\n",
       "    </tr>\n",
       "    <tr>\n",
       "      <th>28</th>\n",
       "      <td>zone_8.0</td>\n",
       "      <td>0.064237</td>\n",
       "    </tr>\n",
       "    <tr>\n",
       "      <th>30</th>\n",
       "      <td>zone_11.0</td>\n",
       "      <td>0.062890</td>\n",
       "    </tr>\n",
       "    <tr>\n",
       "      <th>31</th>\n",
       "      <td>zone_12.0</td>\n",
       "      <td>0.060752</td>\n",
       "    </tr>\n",
       "    <tr>\n",
       "      <th>25</th>\n",
       "      <td>zone_5.0</td>\n",
       "      <td>0.055128</td>\n",
       "    </tr>\n",
       "    <tr>\n",
       "      <th>23</th>\n",
       "      <td>zone_3.0</td>\n",
       "      <td>0.049261</td>\n",
       "    </tr>\n",
       "    <tr>\n",
       "      <th>5</th>\n",
       "      <td>plate_x</td>\n",
       "      <td>0.047197</td>\n",
       "    </tr>\n",
       "    <tr>\n",
       "      <th>21</th>\n",
       "      <td>zone_1.0</td>\n",
       "      <td>0.027257</td>\n",
       "    </tr>\n",
       "    <tr>\n",
       "      <th>36</th>\n",
       "      <td>stand_L</td>\n",
       "      <td>0.026865</td>\n",
       "    </tr>\n",
       "    <tr>\n",
       "      <th>37</th>\n",
       "      <td>stand_R</td>\n",
       "      <td>0.026401</td>\n",
       "    </tr>\n",
       "    <tr>\n",
       "      <th>39</th>\n",
       "      <td>pitch_name_4-Seam Fastball</td>\n",
       "      <td>0.021951</td>\n",
       "    </tr>\n",
       "    <tr>\n",
       "      <th>6</th>\n",
       "      <td>plate_z</td>\n",
       "      <td>0.021719</td>\n",
       "    </tr>\n",
       "    <tr>\n",
       "      <th>27</th>\n",
       "      <td>zone_7.0</td>\n",
       "      <td>0.019312</td>\n",
       "    </tr>\n",
       "    <tr>\n",
       "      <th>8</th>\n",
       "      <td>vy0</td>\n",
       "      <td>0.016201</td>\n",
       "    </tr>\n",
       "    <tr>\n",
       "      <th>26</th>\n",
       "      <td>zone_6.0</td>\n",
       "      <td>0.014337</td>\n",
       "    </tr>\n",
       "    <tr>\n",
       "      <th>29</th>\n",
       "      <td>zone_9.0</td>\n",
       "      <td>0.011744</td>\n",
       "    </tr>\n",
       "    <tr>\n",
       "      <th>34</th>\n",
       "      <td>p_throws_L</td>\n",
       "      <td>0.011215</td>\n",
       "    </tr>\n",
       "    <tr>\n",
       "      <th>50</th>\n",
       "      <td>pitch_name_Slider</td>\n",
       "      <td>0.009811</td>\n",
       "    </tr>\n",
       "    <tr>\n",
       "      <th>24</th>\n",
       "      <td>zone_4.0</td>\n",
       "      <td>0.008649</td>\n",
       "    </tr>\n",
       "    <tr>\n",
       "      <th>40</th>\n",
       "      <td>pitch_name_Changeup</td>\n",
       "      <td>0.007348</td>\n",
       "    </tr>\n",
       "    <tr>\n",
       "      <th>0</th>\n",
       "      <td>release_speed</td>\n",
       "      <td>0.007148</td>\n",
       "    </tr>\n",
       "    <tr>\n",
       "      <th>3</th>\n",
       "      <td>pfx_x</td>\n",
       "      <td>0.007127</td>\n",
       "    </tr>\n",
       "    <tr>\n",
       "      <th>49</th>\n",
       "      <td>pitch_name_Sinker</td>\n",
       "      <td>0.006042</td>\n",
       "    </tr>\n",
       "    <tr>\n",
       "      <th>42</th>\n",
       "      <td>pitch_name_Cutter</td>\n",
       "      <td>0.005858</td>\n",
       "    </tr>\n",
       "    <tr>\n",
       "      <th>14</th>\n",
       "      <td>sz_bot</td>\n",
       "      <td>0.004757</td>\n",
       "    </tr>\n",
       "    <tr>\n",
       "      <th>1</th>\n",
       "      <td>release_pos_x</td>\n",
       "      <td>0.004706</td>\n",
       "    </tr>\n",
       "    <tr>\n",
       "      <th>16</th>\n",
       "      <td>effective_speed</td>\n",
       "      <td>0.004700</td>\n",
       "    </tr>\n",
       "    <tr>\n",
       "      <th>4</th>\n",
       "      <td>pfx_z</td>\n",
       "      <td>0.004433</td>\n",
       "    </tr>\n",
       "    <tr>\n",
       "      <th>12</th>\n",
       "      <td>az</td>\n",
       "      <td>0.004000</td>\n",
       "    </tr>\n",
       "    <tr>\n",
       "      <th>13</th>\n",
       "      <td>sz_top</td>\n",
       "      <td>0.003793</td>\n",
       "    </tr>\n",
       "  </tbody>\n",
       "</table>\n",
       "</div>"
      ],
      "text/plain": [
       "                       columns  importances\n",
       "32                   zone_13.0     0.151584\n",
       "15                launch_angle     0.129885\n",
       "33                   zone_14.0     0.069938\n",
       "28                    zone_8.0     0.064237\n",
       "30                   zone_11.0     0.062890\n",
       "31                   zone_12.0     0.060752\n",
       "25                    zone_5.0     0.055128\n",
       "23                    zone_3.0     0.049261\n",
       "5                      plate_x     0.047197\n",
       "21                    zone_1.0     0.027257\n",
       "36                     stand_L     0.026865\n",
       "37                     stand_R     0.026401\n",
       "39  pitch_name_4-Seam Fastball     0.021951\n",
       "6                      plate_z     0.021719\n",
       "27                    zone_7.0     0.019312\n",
       "8                          vy0     0.016201\n",
       "26                    zone_6.0     0.014337\n",
       "29                    zone_9.0     0.011744\n",
       "34                  p_throws_L     0.011215\n",
       "50           pitch_name_Slider     0.009811\n",
       "24                    zone_4.0     0.008649\n",
       "40         pitch_name_Changeup     0.007348\n",
       "0                release_speed     0.007148\n",
       "3                        pfx_x     0.007127\n",
       "49           pitch_name_Sinker     0.006042\n",
       "42           pitch_name_Cutter     0.005858\n",
       "14                      sz_bot     0.004757\n",
       "1                release_pos_x     0.004706\n",
       "16             effective_speed     0.004700\n",
       "4                        pfx_z     0.004433\n",
       "12                          az     0.004000\n",
       "13                      sz_top     0.003793"
      ]
     },
     "execution_count": 66,
     "metadata": {},
     "output_type": "execute_result"
    }
   ],
   "source": [
    "# \n",
    "\n",
    "results = pd.DataFrame()\n",
    "\n",
    "results['columns'] = x.columns\n",
    "results['importances'] = model.feature_importances_\n",
    "results.sort_values(by='importances', ascending=False, inplace=True)\n",
    "\n",
    "results[:32]"
   ]
  },
  {
   "cell_type": "code",
   "execution_count": 67,
   "id": "22679330-f646-4d27-a725-9be4cc3e8cba",
   "metadata": {},
   "outputs": [],
   "source": [
    "list = results['columns'][:32].to_list()"
   ]
  },
  {
   "cell_type": "code",
   "execution_count": 68,
   "id": "d88f6ca6-ea20-4b22-aa15-bbf0b029e283",
   "metadata": {},
   "outputs": [
    {
     "name": "stdout",
     "output_type": "stream",
     "text": [
      "32\n"
     ]
    }
   ],
   "source": [
    "print(len(list))"
   ]
  },
  {
   "cell_type": "code",
   "execution_count": 69,
   "id": "82dd2927-9e62-47a8-846d-25f6ead4405c",
   "metadata": {},
   "outputs": [
    {
     "data": {
      "text/plain": [
       "['zone_13.0',\n",
       " 'launch_angle',\n",
       " 'zone_14.0',\n",
       " 'zone_8.0',\n",
       " 'zone_11.0',\n",
       " 'zone_12.0',\n",
       " 'zone_5.0',\n",
       " 'zone_3.0',\n",
       " 'plate_x',\n",
       " 'zone_1.0',\n",
       " 'stand_L',\n",
       " 'stand_R',\n",
       " 'pitch_name_4-Seam Fastball',\n",
       " 'plate_z',\n",
       " 'zone_7.0',\n",
       " 'vy0',\n",
       " 'zone_6.0',\n",
       " 'zone_9.0',\n",
       " 'p_throws_L',\n",
       " 'pitch_name_Slider',\n",
       " 'zone_4.0',\n",
       " 'pitch_name_Changeup',\n",
       " 'release_speed',\n",
       " 'pfx_x',\n",
       " 'pitch_name_Sinker',\n",
       " 'pitch_name_Cutter',\n",
       " 'sz_bot',\n",
       " 'release_pos_x',\n",
       " 'effective_speed',\n",
       " 'pfx_z',\n",
       " 'az',\n",
       " 'sz_top']"
      ]
     },
     "execution_count": 69,
     "metadata": {},
     "output_type": "execute_result"
    }
   ],
   "source": [
    "list"
   ]
  },
  {
   "cell_type": "code",
   "execution_count": 70,
   "id": "0d2d7129-999e-48e1-9a31-3d23f0aea292",
   "metadata": {},
   "outputs": [],
   "source": [
    "# Let's run the model with these features\n",
    "\n",
    "# Filter Data\n",
    "\n",
    "x_fs = x[['zone_13.0',\n",
    " 'launch_angle',\n",
    " 'zone_14.0',\n",
    " 'zone_8.0',\n",
    " 'zone_11.0',\n",
    " 'zone_12.0',\n",
    " 'zone_5.0',\n",
    " 'zone_3.0',\n",
    " 'plate_x',\n",
    " 'zone_1.0',\n",
    " 'stand_L',\n",
    " 'stand_R',\n",
    " 'pitch_name_4-Seam Fastball',\n",
    " 'plate_z',\n",
    " 'zone_7.0',\n",
    " 'vy0',\n",
    " 'zone_6.0',\n",
    " 'zone_9.0',\n",
    " 'p_throws_L',\n",
    " 'pitch_name_Slider',\n",
    " 'zone_4.0',\n",
    " 'pitch_name_Changeup',\n",
    " 'release_speed',\n",
    " 'pfx_x',\n",
    " 'pitch_name_Sinker',\n",
    " 'pitch_name_Cutter',\n",
    " 'sz_bot',\n",
    " 'release_pos_x',\n",
    " 'effective_speed',\n",
    " 'pfx_z',\n",
    " 'az',\n",
    " 'sz_top']]"
   ]
  },
  {
   "cell_type": "code",
   "execution_count": 71,
   "id": "f126fbe9-3b06-42e7-9aca-b1c7cea87f1b",
   "metadata": {},
   "outputs": [
    {
     "name": "stdout",
     "output_type": "stream",
     "text": [
      "(271240, 32)\n",
      "(116246, 32)\n",
      "(271240,)\n",
      "(116246,)\n"
     ]
    }
   ],
   "source": [
    "x_train_fs, x_test_fs, y_train_fs, y_test_fs = train_test_split(x_fs,y, test_size=0.3, random_state = 21)\n",
    "\n",
    "print(x_train_fs.shape)\n",
    "print(x_test_fs.shape)\n",
    "print(y_train_fs.shape)\n",
    "print(y_test_fs.shape)"
   ]
  },
  {
   "cell_type": "code",
   "execution_count": 72,
   "id": "4637d52c-6cf4-4c4f-abcb-5a4c74cd1047",
   "metadata": {},
   "outputs": [
    {
     "name": "stdout",
     "output_type": "stream",
     "text": [
      "[21:39:22] WARNING: ../src/learner.cc:576: \n",
      "Parameters: { \"lamba\", \"sub_sample\" } might not be used.\n",
      "\n",
      "  This could be a false alarm, with some parameters getting used by language bindings but\n",
      "  then being mistakenly passed down to XGBoost core, or some parameter actually being used\n",
      "  but getting flagged wrongly here. Please open an issue if you find any such cases.\n",
      "\n",
      "\n",
      "Runtime:  13.899661779403687\n"
     ]
    }
   ],
   "source": [
    "# Run Model with Default Settings\n",
    "\n",
    "start = time.time()\n",
    "\n",
    "model_final = xgb.XGBRegressor(seed = 21, max_depth = 6, learning_rate = 0.19,\n",
    "                         n_estimators = 100, colsample_bytree = 0.9, sub_sample = 0.5,\n",
    "                         alpha = 15, lamba = 15, gamma = 1, min_child_weight = 2)\n",
    "\n",
    "model_final.fit(x_train_fs, y_train_fs)\n",
    "\n",
    "print('Runtime: ', time.time() - start)"
   ]
  },
  {
   "cell_type": "code",
   "execution_count": 73,
   "id": "a5cbe5d3-1fd6-49b3-a0c7-93ef637348b5",
   "metadata": {},
   "outputs": [
    {
     "name": "stdout",
     "output_type": "stream",
     "text": [
      "R^2 =  0.40812753947616953\n",
      "MAE =  8.480740957997009\n",
      "RMSE =  11.095009582530434\n"
     ]
    }
   ],
   "source": [
    "# Evaluate Model\n",
    "\n",
    "# Evaluate\n",
    "y_pred = model_final.predict(x_test_fs)\n",
    "\n",
    "\n",
    "# R^2\n",
    "print('R^2 = ', r2_score(y_test_fs, y_pred))\n",
    "# MAE\n",
    "print('MAE = ', mean_absolute_error(y_test_fs, y_pred))\n",
    "# RMSE\n",
    "print('RMSE = ', np.sqrt(mean_squared_error(y_test_fs, y_pred)))"
   ]
  },
  {
   "cell_type": "markdown",
   "id": "971309f8-5a06-4850-9825-3f9cca66569d",
   "metadata": {},
   "source": [
    "<br>"
   ]
  },
  {
   "cell_type": "markdown",
   "id": "79ece3ee-0f61-40a9-9791-87c8e6e95eb7",
   "metadata": {},
   "source": [
    "**Interpretation:** Using feature selection, the performance of the model is marginally better when evaluating R^2, MAE, and RMSE. There is a slight gain in run time. I would argue that with the goal of simplicity in mind, we should move forward with the baseline model and the selected features. "
   ]
  },
  {
   "cell_type": "markdown",
   "id": "6dbd0a20-4c35-48a6-b4dc-aef77accfe94",
   "metadata": {},
   "source": [
    "<br>\n",
    "<br>\n",
    "<br>"
   ]
  },
  {
   "cell_type": "markdown",
   "id": "03557921-2377-4c31-807b-bf0d37f5fba3",
   "metadata": {},
   "source": [
    "***"
   ]
  },
  {
   "cell_type": "markdown",
   "id": "844560df-f4e7-45c7-8dcc-3a2da0576260",
   "metadata": {},
   "source": [
    "# Load 2021 Data and Prep for Modeling"
   ]
  },
  {
   "cell_type": "code",
   "execution_count": 74,
   "id": "3be9722c-9172-4ecc-8884-c67234393924",
   "metadata": {},
   "outputs": [],
   "source": [
    "# Load Data\n",
    "\n",
    "prod = pd.read_csv('gs://sean_sullivan_projects/MLB_EVOE_Project/January_2022_Data/January_2022_Refresh_Data_Production.csv')"
   ]
  },
  {
   "cell_type": "code",
   "execution_count": 75,
   "id": "5c5139d5-e51d-4049-a1bb-181b5e351e8f",
   "metadata": {},
   "outputs": [
    {
     "data": {
      "text/plain": [
       "(123147, 28)"
      ]
     },
     "execution_count": 75,
     "metadata": {},
     "output_type": "execute_result"
    }
   ],
   "source": [
    "# Only use columns of interest\n",
    "\n",
    "prod_1 = prod[['release_speed', 'release_pos_x', 'release_pos_z', 'pfx_x', 'pfx_z', 'plate_x', 'plate_z', 'vx0', 'vy0', 'vz0', 'ax', 'ay', 'az', 'sz_top', 'sz_bot', \n",
    "                 'launch_speed', 'launch_angle', 'effective_speed', 'release_spin_rate', 'release_extension', 'release_pos_y', 'spin_axis','zone', 'p_throws', 'stand', \n",
    "                 'pitch_name', 'batter', 'pitcher']]\n",
    "\n",
    "prod_1.shape"
   ]
  },
  {
   "cell_type": "code",
   "execution_count": 76,
   "id": "11c16700-4a91-4ae2-b90b-a19f4f0cfe09",
   "metadata": {},
   "outputs": [
    {
     "data": {
      "text/plain": [
       "True"
      ]
     },
     "execution_count": 76,
     "metadata": {},
     "output_type": "execute_result"
    }
   ],
   "source": [
    "# Check for Null Values\n",
    "\n",
    "prod_1.isnull().values.any()"
   ]
  },
  {
   "cell_type": "code",
   "execution_count": 77,
   "id": "44d0d182-011a-44c7-9ef1-40dcc30cf161",
   "metadata": {},
   "outputs": [
    {
     "data": {
      "text/plain": [
       "release_speed          0\n",
       "release_pos_x          0\n",
       "release_pos_z          0\n",
       "pfx_x                  0\n",
       "pfx_z                  0\n",
       "plate_x                0\n",
       "plate_z                0\n",
       "vx0                    0\n",
       "vy0                    0\n",
       "vz0                    0\n",
       "ax                     0\n",
       "ay                     0\n",
       "az                     0\n",
       "sz_top                 0\n",
       "sz_bot                 0\n",
       "launch_speed           0\n",
       "launch_angle           0\n",
       "effective_speed        0\n",
       "release_spin_rate    405\n",
       "release_extension    416\n",
       "release_pos_y          0\n",
       "spin_axis            405\n",
       "zone                   0\n",
       "p_throws               0\n",
       "stand                  0\n",
       "pitch_name             0\n",
       "batter                 0\n",
       "pitcher                0\n",
       "dtype: int64"
      ]
     },
     "execution_count": 77,
     "metadata": {},
     "output_type": "execute_result"
    }
   ],
   "source": [
    "# Okay, so which columns?\n",
    "\n",
    "prod_1.isnull().sum()"
   ]
  },
  {
   "cell_type": "code",
   "execution_count": 78,
   "id": "e1b1cb5f-d2ba-42e1-ae62-472a2093eb1b",
   "metadata": {},
   "outputs": [
    {
     "data": {
      "text/plain": [
       "(122716, 28)"
      ]
     },
     "execution_count": 78,
     "metadata": {},
     "output_type": "execute_result"
    }
   ],
   "source": [
    "# We do not feel comfortable imputing missing values here, so we will drop any row with missing data\n",
    "\n",
    "prod_clean = prod_1.dropna()\n",
    "\n",
    "prod_clean.shape"
   ]
  },
  {
   "cell_type": "code",
   "execution_count": 79,
   "id": "b69b89ea-7934-4b72-b97e-fd3b0ff4c46f",
   "metadata": {},
   "outputs": [
    {
     "data": {
      "text/plain": [
       "release_speed        0\n",
       "release_pos_x        0\n",
       "release_pos_z        0\n",
       "pfx_x                0\n",
       "pfx_z                0\n",
       "plate_x              0\n",
       "plate_z              0\n",
       "vx0                  0\n",
       "vy0                  0\n",
       "vz0                  0\n",
       "ax                   0\n",
       "ay                   0\n",
       "az                   0\n",
       "sz_top               0\n",
       "sz_bot               0\n",
       "launch_speed         0\n",
       "launch_angle         0\n",
       "effective_speed      0\n",
       "release_spin_rate    0\n",
       "release_extension    0\n",
       "release_pos_y        0\n",
       "spin_axis            0\n",
       "zone                 0\n",
       "p_throws             0\n",
       "stand                0\n",
       "pitch_name           0\n",
       "batter               0\n",
       "pitcher              0\n",
       "dtype: int64"
      ]
     },
     "execution_count": 79,
     "metadata": {},
     "output_type": "execute_result"
    }
   ],
   "source": [
    "# Double Check It Worked As Intended\n",
    "\n",
    "prod_clean.isnull().sum()"
   ]
  },
  {
   "cell_type": "markdown",
   "id": "95b1a527-6c87-4a49-92f7-4cec06178c84",
   "metadata": {},
   "source": [
    "<br>"
   ]
  },
  {
   "cell_type": "markdown",
   "id": "96055b8b-31cb-431a-bc3d-7fd00c89768c",
   "metadata": {},
   "source": [
    "### Evaluate Variable Distributions and Launch Speed Histogram"
   ]
  },
  {
   "cell_type": "code",
   "execution_count": 80,
   "id": "a1dbd59d-5656-44ce-a9a3-0593cbd85550",
   "metadata": {},
   "outputs": [],
   "source": [
    "# Numeric Variable Exploration\n",
    "\n",
    "num_var = prod_clean[['release_speed', 'release_pos_x', 'release_pos_z', 'pfx_x', 'pfx_z', 'plate_x', 'plate_z', 'vx0', 'vy0', 'vz0', 'ax', 'ay', 'az', 'sz_top', 'sz_bot', 'launch_speed', \n",
    "              'launch_angle', 'effective_speed', 'release_spin_rate', 'release_extension', 'release_pos_y', 'spin_axis']]"
   ]
  },
  {
   "cell_type": "code",
   "execution_count": 81,
   "id": "a05163ed-738e-421c-a5d0-4ce667a7b939",
   "metadata": {
    "tags": []
   },
   "outputs": [
    {
     "data": {
      "text/html": [
       "<div>\n",
       "<style scoped>\n",
       "    .dataframe tbody tr th:only-of-type {\n",
       "        vertical-align: middle;\n",
       "    }\n",
       "\n",
       "    .dataframe tbody tr th {\n",
       "        vertical-align: top;\n",
       "    }\n",
       "\n",
       "    .dataframe thead th {\n",
       "        text-align: right;\n",
       "    }\n",
       "</style>\n",
       "<table border=\"1\" class=\"dataframe\">\n",
       "  <thead>\n",
       "    <tr style=\"text-align: right;\">\n",
       "      <th></th>\n",
       "      <th>count</th>\n",
       "      <th>mean</th>\n",
       "      <th>std</th>\n",
       "      <th>min</th>\n",
       "      <th>25%</th>\n",
       "      <th>50%</th>\n",
       "      <th>75%</th>\n",
       "      <th>max</th>\n",
       "    </tr>\n",
       "  </thead>\n",
       "  <tbody>\n",
       "    <tr>\n",
       "      <th>release_speed</th>\n",
       "      <td>122716.0</td>\n",
       "      <td>88.926213</td>\n",
       "      <td>5.964826</td>\n",
       "      <td>30.100000</td>\n",
       "      <td>84.900000</td>\n",
       "      <td>90.000000</td>\n",
       "      <td>93.700000</td>\n",
       "      <td>102.500000</td>\n",
       "    </tr>\n",
       "    <tr>\n",
       "      <th>release_pos_x</th>\n",
       "      <td>122716.0</td>\n",
       "      <td>-0.681322</td>\n",
       "      <td>1.892853</td>\n",
       "      <td>-4.630000</td>\n",
       "      <td>-2.050000</td>\n",
       "      <td>-1.400000</td>\n",
       "      <td>1.300000</td>\n",
       "      <td>4.480000</td>\n",
       "    </tr>\n",
       "    <tr>\n",
       "      <th>release_pos_z</th>\n",
       "      <td>122716.0</td>\n",
       "      <td>5.853936</td>\n",
       "      <td>0.540867</td>\n",
       "      <td>1.000000</td>\n",
       "      <td>5.610000</td>\n",
       "      <td>5.890000</td>\n",
       "      <td>6.180000</td>\n",
       "      <td>7.730000</td>\n",
       "    </tr>\n",
       "    <tr>\n",
       "      <th>pfx_x</th>\n",
       "      <td>122716.0</td>\n",
       "      <td>-0.124394</td>\n",
       "      <td>0.881088</td>\n",
       "      <td>-2.310000</td>\n",
       "      <td>-0.890000</td>\n",
       "      <td>-0.210000</td>\n",
       "      <td>0.590000</td>\n",
       "      <td>2.400000</td>\n",
       "    </tr>\n",
       "    <tr>\n",
       "      <th>pfx_z</th>\n",
       "      <td>122716.0</td>\n",
       "      <td>0.661657</td>\n",
       "      <td>0.704335</td>\n",
       "      <td>-2.130000</td>\n",
       "      <td>0.240000</td>\n",
       "      <td>0.760000</td>\n",
       "      <td>1.230000</td>\n",
       "      <td>2.430000</td>\n",
       "    </tr>\n",
       "    <tr>\n",
       "      <th>plate_x</th>\n",
       "      <td>122716.0</td>\n",
       "      <td>0.003719</td>\n",
       "      <td>0.545457</td>\n",
       "      <td>-2.080000</td>\n",
       "      <td>-0.380000</td>\n",
       "      <td>0.000000</td>\n",
       "      <td>0.390000</td>\n",
       "      <td>2.390000</td>\n",
       "    </tr>\n",
       "    <tr>\n",
       "      <th>plate_z</th>\n",
       "      <td>122716.0</td>\n",
       "      <td>2.354087</td>\n",
       "      <td>0.572246</td>\n",
       "      <td>0.090000</td>\n",
       "      <td>1.950000</td>\n",
       "      <td>2.340000</td>\n",
       "      <td>2.750000</td>\n",
       "      <td>5.030000</td>\n",
       "    </tr>\n",
       "    <tr>\n",
       "      <th>vx0</th>\n",
       "      <td>122716.0</td>\n",
       "      <td>2.001597</td>\n",
       "      <td>5.679707</td>\n",
       "      <td>-16.608454</td>\n",
       "      <td>-3.312000</td>\n",
       "      <td>3.851532</td>\n",
       "      <td>6.278777</td>\n",
       "      <td>16.162399</td>\n",
       "    </tr>\n",
       "    <tr>\n",
       "      <th>vy0</th>\n",
       "      <td>122716.0</td>\n",
       "      <td>-129.361169</td>\n",
       "      <td>8.632199</td>\n",
       "      <td>-148.992834</td>\n",
       "      <td>-136.202530</td>\n",
       "      <td>-130.859293</td>\n",
       "      <td>-123.515218</td>\n",
       "      <td>-40.422498</td>\n",
       "    </tr>\n",
       "    <tr>\n",
       "      <th>vz0</th>\n",
       "      <td>122716.0</td>\n",
       "      <td>-3.956510</td>\n",
       "      <td>2.753711</td>\n",
       "      <td>-13.125103</td>\n",
       "      <td>-5.811277</td>\n",
       "      <td>-4.134107</td>\n",
       "      <td>-2.339752</td>\n",
       "      <td>13.967712</td>\n",
       "    </tr>\n",
       "    <tr>\n",
       "      <th>ax</th>\n",
       "      <td>122716.0</td>\n",
       "      <td>-2.196036</td>\n",
       "      <td>10.805439</td>\n",
       "      <td>-29.574151</td>\n",
       "      <td>-11.443325</td>\n",
       "      <td>-2.409393</td>\n",
       "      <td>6.236139</td>\n",
       "      <td>29.761284</td>\n",
       "    </tr>\n",
       "    <tr>\n",
       "      <th>ay</th>\n",
       "      <td>122716.0</td>\n",
       "      <td>26.571214</td>\n",
       "      <td>3.927385</td>\n",
       "      <td>3.249950</td>\n",
       "      <td>23.646632</td>\n",
       "      <td>26.549841</td>\n",
       "      <td>29.468409</td>\n",
       "      <td>44.329768</td>\n",
       "    </tr>\n",
       "    <tr>\n",
       "      <th>az</th>\n",
       "      <td>122716.0</td>\n",
       "      <td>-23.347188</td>\n",
       "      <td>8.593668</td>\n",
       "      <td>-51.271290</td>\n",
       "      <td>-29.293986</td>\n",
       "      <td>-22.910036</td>\n",
       "      <td>-16.039393</td>\n",
       "      <td>-3.089565</td>\n",
       "    </tr>\n",
       "    <tr>\n",
       "      <th>sz_top</th>\n",
       "      <td>122716.0</td>\n",
       "      <td>3.411163</td>\n",
       "      <td>0.097182</td>\n",
       "      <td>3.020000</td>\n",
       "      <td>3.320000</td>\n",
       "      <td>3.410000</td>\n",
       "      <td>3.470000</td>\n",
       "      <td>3.820000</td>\n",
       "    </tr>\n",
       "    <tr>\n",
       "      <th>sz_bot</th>\n",
       "      <td>122716.0</td>\n",
       "      <td>1.560221</td>\n",
       "      <td>0.052034</td>\n",
       "      <td>1.430000</td>\n",
       "      <td>1.510000</td>\n",
       "      <td>1.560000</td>\n",
       "      <td>1.590000</td>\n",
       "      <td>1.750000</td>\n",
       "    </tr>\n",
       "    <tr>\n",
       "      <th>launch_speed</th>\n",
       "      <td>122716.0</td>\n",
       "      <td>88.069332</td>\n",
       "      <td>15.361367</td>\n",
       "      <td>7.100000</td>\n",
       "      <td>79.600000</td>\n",
       "      <td>91.100000</td>\n",
       "      <td>99.400000</td>\n",
       "      <td>122.200000</td>\n",
       "    </tr>\n",
       "    <tr>\n",
       "      <th>launch_angle</th>\n",
       "      <td>122716.0</td>\n",
       "      <td>12.061426</td>\n",
       "      <td>29.250728</td>\n",
       "      <td>-89.000000</td>\n",
       "      <td>-6.000000</td>\n",
       "      <td>13.000000</td>\n",
       "      <td>31.000000</td>\n",
       "      <td>90.000000</td>\n",
       "    </tr>\n",
       "    <tr>\n",
       "      <th>effective_speed</th>\n",
       "      <td>122716.0</td>\n",
       "      <td>88.988226</td>\n",
       "      <td>6.107641</td>\n",
       "      <td>26.400000</td>\n",
       "      <td>84.900000</td>\n",
       "      <td>90.000000</td>\n",
       "      <td>93.800000</td>\n",
       "      <td>104.100000</td>\n",
       "    </tr>\n",
       "    <tr>\n",
       "      <th>release_spin_rate</th>\n",
       "      <td>122716.0</td>\n",
       "      <td>2207.288072</td>\n",
       "      <td>336.816531</td>\n",
       "      <td>43.000000</td>\n",
       "      <td>2045.000000</td>\n",
       "      <td>2230.000000</td>\n",
       "      <td>2407.000000</td>\n",
       "      <td>3722.000000</td>\n",
       "    </tr>\n",
       "    <tr>\n",
       "      <th>release_extension</th>\n",
       "      <td>122716.0</td>\n",
       "      <td>6.294980</td>\n",
       "      <td>0.446026</td>\n",
       "      <td>3.500000</td>\n",
       "      <td>6.000000</td>\n",
       "      <td>6.300000</td>\n",
       "      <td>6.600000</td>\n",
       "      <td>8.400000</td>\n",
       "    </tr>\n",
       "    <tr>\n",
       "      <th>release_pos_y</th>\n",
       "      <td>122716.0</td>\n",
       "      <td>54.205166</td>\n",
       "      <td>0.445126</td>\n",
       "      <td>52.150000</td>\n",
       "      <td>53.910000</td>\n",
       "      <td>54.210000</td>\n",
       "      <td>54.510000</td>\n",
       "      <td>56.990000</td>\n",
       "    </tr>\n",
       "    <tr>\n",
       "      <th>spin_axis</th>\n",
       "      <td>122716.0</td>\n",
       "      <td>177.242894</td>\n",
       "      <td>67.660381</td>\n",
       "      <td>0.000000</td>\n",
       "      <td>136.000000</td>\n",
       "      <td>199.000000</td>\n",
       "      <td>221.000000</td>\n",
       "      <td>360.000000</td>\n",
       "    </tr>\n",
       "  </tbody>\n",
       "</table>\n",
       "</div>"
      ],
      "text/plain": [
       "                      count         mean         std         min          25%  \\\n",
       "release_speed      122716.0    88.926213    5.964826   30.100000    84.900000   \n",
       "release_pos_x      122716.0    -0.681322    1.892853   -4.630000    -2.050000   \n",
       "release_pos_z      122716.0     5.853936    0.540867    1.000000     5.610000   \n",
       "pfx_x              122716.0    -0.124394    0.881088   -2.310000    -0.890000   \n",
       "pfx_z              122716.0     0.661657    0.704335   -2.130000     0.240000   \n",
       "plate_x            122716.0     0.003719    0.545457   -2.080000    -0.380000   \n",
       "plate_z            122716.0     2.354087    0.572246    0.090000     1.950000   \n",
       "vx0                122716.0     2.001597    5.679707  -16.608454    -3.312000   \n",
       "vy0                122716.0  -129.361169    8.632199 -148.992834  -136.202530   \n",
       "vz0                122716.0    -3.956510    2.753711  -13.125103    -5.811277   \n",
       "ax                 122716.0    -2.196036   10.805439  -29.574151   -11.443325   \n",
       "ay                 122716.0    26.571214    3.927385    3.249950    23.646632   \n",
       "az                 122716.0   -23.347188    8.593668  -51.271290   -29.293986   \n",
       "sz_top             122716.0     3.411163    0.097182    3.020000     3.320000   \n",
       "sz_bot             122716.0     1.560221    0.052034    1.430000     1.510000   \n",
       "launch_speed       122716.0    88.069332   15.361367    7.100000    79.600000   \n",
       "launch_angle       122716.0    12.061426   29.250728  -89.000000    -6.000000   \n",
       "effective_speed    122716.0    88.988226    6.107641   26.400000    84.900000   \n",
       "release_spin_rate  122716.0  2207.288072  336.816531   43.000000  2045.000000   \n",
       "release_extension  122716.0     6.294980    0.446026    3.500000     6.000000   \n",
       "release_pos_y      122716.0    54.205166    0.445126   52.150000    53.910000   \n",
       "spin_axis          122716.0   177.242894   67.660381    0.000000   136.000000   \n",
       "\n",
       "                           50%          75%          max  \n",
       "release_speed        90.000000    93.700000   102.500000  \n",
       "release_pos_x        -1.400000     1.300000     4.480000  \n",
       "release_pos_z         5.890000     6.180000     7.730000  \n",
       "pfx_x                -0.210000     0.590000     2.400000  \n",
       "pfx_z                 0.760000     1.230000     2.430000  \n",
       "plate_x               0.000000     0.390000     2.390000  \n",
       "plate_z               2.340000     2.750000     5.030000  \n",
       "vx0                   3.851532     6.278777    16.162399  \n",
       "vy0                -130.859293  -123.515218   -40.422498  \n",
       "vz0                  -4.134107    -2.339752    13.967712  \n",
       "ax                   -2.409393     6.236139    29.761284  \n",
       "ay                   26.549841    29.468409    44.329768  \n",
       "az                  -22.910036   -16.039393    -3.089565  \n",
       "sz_top                3.410000     3.470000     3.820000  \n",
       "sz_bot                1.560000     1.590000     1.750000  \n",
       "launch_speed         91.100000    99.400000   122.200000  \n",
       "launch_angle         13.000000    31.000000    90.000000  \n",
       "effective_speed      90.000000    93.800000   104.100000  \n",
       "release_spin_rate  2230.000000  2407.000000  3722.000000  \n",
       "release_extension     6.300000     6.600000     8.400000  \n",
       "release_pos_y        54.210000    54.510000    56.990000  \n",
       "spin_axis           199.000000   221.000000   360.000000  "
      ]
     },
     "execution_count": 81,
     "metadata": {},
     "output_type": "execute_result"
    }
   ],
   "source": [
    "num_var.describe().T"
   ]
  },
  {
   "cell_type": "code",
   "execution_count": 82,
   "id": "b6a8db1b-e3f6-4348-960c-7774b5407e59",
   "metadata": {},
   "outputs": [],
   "source": [
    "# Categorical Variable Exploration\n",
    "\n",
    "cat_var = prod_clean[['zone', 'p_throws', 'stand', 'pitch_name']]"
   ]
  },
  {
   "cell_type": "code",
   "execution_count": 83,
   "id": "0f71109b-776f-4c1b-8ad7-95434187365e",
   "metadata": {},
   "outputs": [
    {
     "name": "stdout",
     "output_type": "stream",
     "text": [
      "\n",
      "5     18907\n",
      "8     14341\n",
      "4     13636\n",
      "6     13123\n",
      "9     10131\n",
      "7      8915\n",
      "2      8599\n",
      "14     8223\n",
      "13     6677\n",
      "1      5983\n",
      "3      5246\n",
      "11     4868\n",
      "12     4067\n",
      "Name: zone, dtype: int64\n",
      "---------------------------------------------\n",
      "\n",
      "R    85826\n",
      "L    36890\n",
      "Name: p_throws, dtype: int64\n",
      "---------------------------------------------\n",
      "\n",
      "R    73770\n",
      "L    48946\n",
      "Name: stand, dtype: int64\n",
      "---------------------------------------------\n",
      "\n",
      "4-Seam Fastball    41052\n",
      "Sinker             22253\n",
      "Slider             21990\n",
      "Changeup           16030\n",
      "Cutter              8731\n",
      "Curveball           8659\n",
      "Knuckle Curve       1956\n",
      "Split-Finger        1814\n",
      "Fastball             197\n",
      "Eephus                18\n",
      "Knuckleball           15\n",
      "Screwball              1\n",
      "Name: pitch_name, dtype: int64\n",
      "---------------------------------------------\n"
     ]
    }
   ],
   "source": [
    "for i in cat_var:\n",
    "    print()\n",
    "    print(cat_var[i].value_counts())\n",
    "    print('---------------------------------------------')"
   ]
  },
  {
   "cell_type": "code",
   "execution_count": 84,
   "id": "4b5f21c5-d80b-4e79-9f36-df2287341d10",
   "metadata": {},
   "outputs": [
    {
     "data": {
      "text/plain": [
       "count    122716.000000\n",
       "mean         88.069332\n",
       "std          15.361367\n",
       "min           7.100000\n",
       "25%          79.600000\n",
       "50%          91.100000\n",
       "75%          99.400000\n",
       "max         122.200000\n",
       "Name: launch_speed, dtype: float64"
      ]
     },
     "execution_count": 84,
     "metadata": {},
     "output_type": "execute_result"
    }
   ],
   "source": [
    "# Briefly Describe Cleaned Launch Speed Distribution\n",
    "\n",
    "prod_clean['launch_speed'].describe().T"
   ]
  },
  {
   "cell_type": "code",
   "execution_count": 85,
   "id": "2926a686-75e1-410a-adc1-b432fd4b1daf",
   "metadata": {},
   "outputs": [
    {
     "data": {
      "text/plain": [
       "<seaborn.axisgrid.FacetGrid at 0x7f2450d46f90>"
      ]
     },
     "execution_count": 85,
     "metadata": {},
     "output_type": "execute_result"
    },
    {
     "data": {
      "image/png": "[encoded data removed]",
      "text/plain": [
       "<Figure size 360x360 with 1 Axes>"
      ]
     },
     "metadata": {
      "needs_background": "light"
     },
     "output_type": "display_data"
    }
   ],
   "source": [
    "# Final launch speed distribution\n",
    "\n",
    "sns.displot(prod_clean.launch_speed)"
   ]
  },
  {
   "cell_type": "markdown",
   "id": "9a3aaee2-c717-4fda-b4e3-528660e08feb",
   "metadata": {},
   "source": [
    "<br>"
   ]
  },
  {
   "cell_type": "markdown",
   "id": "3ccdfd77-4164-4b1c-b7ff-72ec4da78a36",
   "metadata": {},
   "source": [
    "### Generate dummy variables and grab x variables"
   ]
  },
  {
   "cell_type": "code",
   "execution_count": 86,
   "id": "6ebfcd64-612a-42a9-b21f-bd47d4ddd608",
   "metadata": {},
   "outputs": [
    {
     "data": {
      "text/plain": [
       "Index(['release_speed', 'release_pos_x', 'release_pos_z', 'pfx_x', 'pfx_z',\n",
       "       'plate_x', 'plate_z', 'vx0', 'vy0', 'vz0', 'ax', 'ay', 'az', 'sz_top',\n",
       "       'sz_bot', 'launch_speed', 'launch_angle', 'effective_speed',\n",
       "       'release_spin_rate', 'release_extension', 'release_pos_y', 'spin_axis',\n",
       "       'batter', 'pitcher', 'zone_1', 'zone_2', 'zone_3', 'zone_4', 'zone_5',\n",
       "       'zone_6', 'zone_7', 'zone_8', 'zone_9', 'zone_11', 'zone_12', 'zone_13',\n",
       "       'zone_14', 'p_throws_L', 'p_throws_R', 'stand_L', 'stand_R',\n",
       "       'pitch_name_4-Seam Fastball', 'pitch_name_Changeup',\n",
       "       'pitch_name_Curveball', 'pitch_name_Cutter', 'pitch_name_Eephus',\n",
       "       'pitch_name_Fastball', 'pitch_name_Knuckle Curve',\n",
       "       'pitch_name_Knuckleball', 'pitch_name_Screwball', 'pitch_name_Sinker',\n",
       "       'pitch_name_Slider', 'pitch_name_Split-Finger'],\n",
       "      dtype='object')"
      ]
     },
     "execution_count": 86,
     "metadata": {},
     "output_type": "execute_result"
    }
   ],
   "source": [
    "# Generate dummy variables\n",
    "\n",
    "prod_clean_dummies = pd.get_dummies(prod_clean, columns=['zone', 'p_throws', 'stand', 'pitch_name'])\n",
    "\n",
    "prod_clean_dummies.columns"
   ]
  },
  {
   "cell_type": "code",
   "execution_count": 87,
   "id": "3dd12094-e606-4fbe-8fda-2b9fa114c070",
   "metadata": {},
   "outputs": [
    {
     "data": {
      "text/plain": [
       "(122716, 32)"
      ]
     },
     "execution_count": 87,
     "metadata": {},
     "output_type": "execute_result"
    }
   ],
   "source": [
    "# Get X varibles\n",
    "\n",
    "x_prod = prod_clean_dummies[['zone_13','launch_angle','zone_14','zone_8','zone_11','zone_12','zone_5','zone_3','plate_x','zone_1','stand_L','stand_R',\n",
    "           'pitch_name_4-Seam Fastball','plate_z','zone_7','vy0','zone_6','zone_9','p_throws_L','pitch_name_Slider','zone_4','pitch_name_Changeup',\n",
    "           'release_speed','pfx_x','pitch_name_Sinker','pitch_name_Cutter','sz_bot','release_pos_x','effective_speed','pfx_z','az','sz_top']]\n",
    "\n",
    "x_prod.shape"
   ]
  },
  {
   "cell_type": "markdown",
   "id": "970c18ca-bc83-441e-9785-bf9585e89e17",
   "metadata": {},
   "source": [
    "<br>"
   ]
  },
  {
   "cell_type": "markdown",
   "id": "3d01ddee-3c34-4493-8bff-7bcf7e6a2849",
   "metadata": {},
   "source": [
    "### Run Through Final Model"
   ]
  },
  {
   "cell_type": "code",
   "execution_count": 88,
   "id": "897f9a9f-bafd-48f6-b490-08407f5b8cdd",
   "metadata": {},
   "outputs": [],
   "source": [
    "# Run through model\n",
    "\n",
    "y_pred_2021 = model_final.predict(x_prod)"
   ]
  },
  {
   "cell_type": "code",
   "execution_count": 89,
   "id": "fa8575c0-8908-48a4-aab1-c60975e4ad79",
   "metadata": {},
   "outputs": [
    {
     "name": "stderr",
     "output_type": "stream",
     "text": [
      "/opt/conda/lib/python3.7/site-packages/ipykernel_launcher.py:3: SettingWithCopyWarning: \n",
      "A value is trying to be set on a copy of a slice from a DataFrame.\n",
      "Try using .loc[row_indexer,col_indexer] = value instead\n",
      "\n",
      "See the caveats in the documentation: https://pandas.pydata.org/pandas-docs/stable/user_guide/indexing.html#returning-a-view-versus-a-copy\n",
      "  This is separate from the ipykernel package so we can avoid doing imports until\n"
     ]
    }
   ],
   "source": [
    "# Take predictions and turn into a list + attach as a column to prod_clean DF\n",
    "\n",
    "prod_clean['predicted_launch_speed'] = y_pred_2021.tolist()"
   ]
  },
  {
   "cell_type": "code",
   "execution_count": 90,
   "id": "32e1bd5b-37e2-4314-b0a8-422af45bca65",
   "metadata": {},
   "outputs": [
    {
     "name": "stderr",
     "output_type": "stream",
     "text": [
      "/opt/conda/lib/python3.7/site-packages/ipykernel_launcher.py:3: SettingWithCopyWarning: \n",
      "A value is trying to be set on a copy of a slice from a DataFrame.\n",
      "Try using .loc[row_indexer,col_indexer] = value instead\n",
      "\n",
      "See the caveats in the documentation: https://pandas.pydata.org/pandas-docs/stable/user_guide/indexing.html#returning-a-view-versus-a-copy\n",
      "  This is separate from the ipykernel package so we can avoid doing imports until\n"
     ]
    }
   ],
   "source": [
    "# Generate difference of actual launch speed and predicted launch speed\n",
    "\n",
    "prod_clean['launch_speed_difference'] = prod_clean['launch_speed'] - prod_clean['predicted_launch_speed']"
   ]
  },
  {
   "cell_type": "code",
   "execution_count": 91,
   "id": "0a27f235-2991-4735-b64d-d9e1175e922b",
   "metadata": {},
   "outputs": [
    {
     "data": {
      "text/html": [
       "<div>\n",
       "<style scoped>\n",
       "    .dataframe tbody tr th:only-of-type {\n",
       "        vertical-align: middle;\n",
       "    }\n",
       "\n",
       "    .dataframe tbody tr th {\n",
       "        vertical-align: top;\n",
       "    }\n",
       "\n",
       "    .dataframe thead th {\n",
       "        text-align: right;\n",
       "    }\n",
       "</style>\n",
       "<table border=\"1\" class=\"dataframe\">\n",
       "  <thead>\n",
       "    <tr style=\"text-align: right;\">\n",
       "      <th></th>\n",
       "      <th>launch_speed</th>\n",
       "      <th>predicted_launch_speed</th>\n",
       "      <th>launch_speed_difference</th>\n",
       "    </tr>\n",
       "  </thead>\n",
       "  <tbody>\n",
       "    <tr>\n",
       "      <th>0</th>\n",
       "      <td>88.9</td>\n",
       "      <td>90.577217</td>\n",
       "      <td>-1.677217</td>\n",
       "    </tr>\n",
       "    <tr>\n",
       "      <th>1</th>\n",
       "      <td>101.1</td>\n",
       "      <td>99.396729</td>\n",
       "      <td>1.703271</td>\n",
       "    </tr>\n",
       "    <tr>\n",
       "      <th>2</th>\n",
       "      <td>69.8</td>\n",
       "      <td>81.775612</td>\n",
       "      <td>-11.975612</td>\n",
       "    </tr>\n",
       "    <tr>\n",
       "      <th>3</th>\n",
       "      <td>105.0</td>\n",
       "      <td>98.974892</td>\n",
       "      <td>6.025108</td>\n",
       "    </tr>\n",
       "    <tr>\n",
       "      <th>4</th>\n",
       "      <td>93.2</td>\n",
       "      <td>93.161400</td>\n",
       "      <td>0.038600</td>\n",
       "    </tr>\n",
       "  </tbody>\n",
       "</table>\n",
       "</div>"
      ],
      "text/plain": [
       "   launch_speed  predicted_launch_speed  launch_speed_difference\n",
       "0          88.9               90.577217                -1.677217\n",
       "1         101.1               99.396729                 1.703271\n",
       "2          69.8               81.775612               -11.975612\n",
       "3         105.0               98.974892                 6.025108\n",
       "4          93.2               93.161400                 0.038600"
      ]
     },
     "execution_count": 91,
     "metadata": {},
     "output_type": "execute_result"
    }
   ],
   "source": [
    "# Look at results using .head()\n",
    "\n",
    "prod_clean[['launch_speed', 'predicted_launch_speed', 'launch_speed_difference']].head()"
   ]
  },
  {
   "cell_type": "code",
   "execution_count": 92,
   "id": "b1dabea5-02f9-4f91-93e9-040f182ff963",
   "metadata": {},
   "outputs": [
    {
     "data": {
      "text/plain": [
       "<seaborn.axisgrid.FacetGrid at 0x7f24505a4a90>"
      ]
     },
     "execution_count": 92,
     "metadata": {},
     "output_type": "execute_result"
    },
    {
     "data": {
      "image/png": "[encoded data removed]",
      "text/plain": [
       "<Figure size 360x360 with 1 Axes>"
      ]
     },
     "metadata": {
      "needs_background": "light"
     },
     "output_type": "display_data"
    }
   ],
   "source": [
    "# Launch Speed Difference Distribution (Absolute Value)\n",
    "\n",
    "sns.displot(prod_clean.launch_speed_difference.abs())"
   ]
  },
  {
   "cell_type": "code",
   "execution_count": 93,
   "id": "bdb0a058-e3df-439d-8a58-3232204c3a7f",
   "metadata": {},
   "outputs": [
    {
     "data": {
      "image/png": "[encoded data removed]",
      "text/plain": [
       "<Figure size 432x288 with 1 Axes>"
      ]
     },
     "metadata": {
      "needs_background": "light"
     },
     "output_type": "display_data"
    }
   ],
   "source": [
    "# Draw Residual Plot\n",
    "\n",
    "sns.residplot(x = 'launch_speed',\n",
    "              y = 'predicted_launch_speed',\n",
    "              data = prod_clean\n",
    "             )\n",
    "\n",
    "plt.show()"
   ]
  },
  {
   "cell_type": "markdown",
   "id": "07c451b9-ba80-4d14-96db-cb77641f6005",
   "metadata": {},
   "source": [
    "<br>"
   ]
  },
  {
   "cell_type": "markdown",
   "id": "b244f3fb-6b70-437f-8731-e07f58f0f83f",
   "metadata": {},
   "source": [
    "### Save Results"
   ]
  },
  {
   "cell_type": "code",
   "execution_count": null,
   "id": "c0d4a019-ca14-47af-a9ba-92f84240ad8f",
   "metadata": {},
   "outputs": [],
   "source": [
    "prod_clean.to_csv('gs://sean_sullivan_projects/MLB_EVOE_Project/January_2022_Data/results_2021.csv')"
   ]
  }
 ],
 "metadata": {
  "environment": {
   "kernel": "python3",
   "name": "common-cpu.m87",
   "type": "gcloud",
   "uri": "gcr.io/deeplearning-platform-release/base-cpu:m87"
  },
  "kernelspec": {
   "display_name": "Python 3",
   "language": "python",
   "name": "python3"
  },
  "language_info": {
   "codemirror_mode": {
    "name": "ipython",
    "version": 3
   },
   "file_extension": ".py",
   "mimetype": "text/x-python",
   "name": "python",
   "nbconvert_exporter": "python",
   "pygments_lexer": "ipython3",
   "version": "3.7.12"
  }
 },
 "nbformat": 4,
 "nbformat_minor": 5
}
