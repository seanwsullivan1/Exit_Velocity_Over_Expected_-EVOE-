{
 "cells": [
  {
   "cell_type": "markdown",
   "metadata": {},
   "source": [
    "# Exit Velocity Over Expected"
   ]
  },
  {
   "cell_type": "markdown",
   "metadata": {},
   "source": [
    "This notebook is an example of a portion of the work that was completed for the EVOE analysis conducted by Sean Sullivan at DePaul University. \n",
    "\n",
    "For more information, please visit his website or GitHub repository. \n",
    "\n",
    "Website: https://seanwsullivan1.wixsite.com/ssullivananalytics\n",
    "\n",
    "GitHub: https://github.com/seanwsullivan1"
   ]
  },
  {
   "cell_type": "code",
   "execution_count": 1,
   "metadata": {},
   "outputs": [],
   "source": [
    "# Load Packages Needed\n",
    "\n",
    "# Commenting out to not get error. Ran data extraction via Google Colab (previously provided notebook)\n",
    "#import pybaseball\n",
    "#from pybaseball import statcast\n",
    "\n",
    "import pandas as pd\n",
    "import matplotlib.pyplot as plt\n",
    "import seaborn as sns\n",
    "import numpy as np\n",
    "import time\n",
    "import os\n",
    "\n",
    "import xgboost as xgb\n",
    "from sklearn.model_selection import train_test_split\n",
    "from sklearn.metrics import r2_score,mean_squared_error, mean_absolute_error\n",
    "\n",
    "from sklearn.cluster import KMeans \n",
    "from sklearn.preprocessing import MinMaxScaler\n",
    "\n",
    "pd.set_option('display.max_columns', None)\n",
    "pd.set_option('display.max_rows', None)\n",
    "\n",
    "\n",
    "#Set CWD\n",
    "os.chdir('E://DePaul Classes//2020 - 2021//2. Winter//Capstone//Data')"
   ]
  },
  {
   "cell_type": "markdown",
   "metadata": {},
   "source": [
    "<br>\n",
    "<br>\n",
    "<br>"
   ]
  },
  {
   "cell_type": "markdown",
   "metadata": {},
   "source": [
    "## Load and Clean Data"
   ]
  },
  {
   "cell_type": "markdown",
   "metadata": {},
   "source": [
    "Data was scraped from Baseball Savant using the pybaseball package. Code to do so is provided below, but will not be ran due to compatability issues with computer being used to make this notebook. "
   ]
  },
  {
   "cell_type": "code",
   "execution_count": 2,
   "metadata": {},
   "outputs": [],
   "source": [
    "# Query data from 2017 - 2020 seasons\n",
    "\n",
    "#pybaseball.cache.enable()\n",
    "\n",
    "#df = statcast(start_dt='2017-04-02', end_dt='2020-10-27')"
   ]
  },
  {
   "cell_type": "code",
   "execution_count": 3,
   "metadata": {},
   "outputs": [
    {
     "name": "stderr",
     "output_type": "stream",
     "text": [
      "C:\\Users\\Sean Sullivan\\Anaconda3\\lib\\site-packages\\IPython\\core\\interactiveshell.py:3020: DtypeWarning: Columns (45) have mixed types. Specify dtype option on import or set low_memory=False.\n",
      "  interactivity=interactivity, compiler=compiler, result=result)\n"
     ]
    },
    {
     "data": {
      "text/plain": [
       "(2486915, 91)"
      ]
     },
     "execution_count": 3,
     "metadata": {},
     "output_type": "execute_result"
    }
   ],
   "source": [
    "# Data is loaded from local machine but is the result of the query above\n",
    "\n",
    "df = pd.read_csv('all_data_2017_to_2020.csv')\n",
    "df.shape"
   ]
  },
  {
   "cell_type": "code",
   "execution_count": 4,
   "metadata": {},
   "outputs": [
    {
     "data": {
      "text/plain": [
       "(462166, 91)"
      ]
     },
     "execution_count": 4,
     "metadata": {},
     "output_type": "execute_result"
    }
   ],
   "source": [
    "# Drop launch speed IS NULL\n",
    "df_clean = df.loc[df['launch_speed'].notnull()]\n",
    "df_clean.shape"
   ]
  },
  {
   "cell_type": "code",
   "execution_count": 5,
   "metadata": {},
   "outputs": [
    {
     "data": {
      "text/plain": [
       "(462166, 30)"
      ]
     },
     "execution_count": 5,
     "metadata": {},
     "output_type": "execute_result"
    }
   ],
   "source": [
    "# Grab the columns you want\n",
    "df2 = df_clean[['batter', 'pitcher', 'game_date', 'events', 'description', 'pitch_type', 'release_speed', 'release_pos_x', 'release_pos_z', 'zone', 'pfx_x', \n",
    "                'pfx_z', 'plate_x', 'plate_z', 'hc_x', 'hc_y', 'vx0', 'vy0', 'vz0', 'ax', 'ay', 'az', 'sz_top', 'sz_bot', 'launch_angle', \n",
    "                'launch_speed', 'effective_speed', 'release_spin_rate', 'release_extension', 'release_pos_y']]\n",
    "df2.shape"
   ]
  },
  {
   "cell_type": "code",
   "execution_count": 6,
   "metadata": {},
   "outputs": [
    {
     "data": {
      "text/plain": [
       "(462166, 43)"
      ]
     },
     "execution_count": 6,
     "metadata": {},
     "output_type": "execute_result"
    }
   ],
   "source": [
    "# Get dummies\n",
    "df2 = pd.get_dummies(df2, columns=['pitch_type'])\n",
    "df2.shape"
   ]
  },
  {
   "cell_type": "code",
   "execution_count": 7,
   "metadata": {},
   "outputs": [
    {
     "data": {
      "text/plain": [
       "(415952, 43)"
      ]
     },
     "execution_count": 7,
     "metadata": {},
     "output_type": "execute_result"
    }
   ],
   "source": [
    "# Drop rows with NAN\n",
    "df3 = df2.dropna()\n",
    "df3.shape"
   ]
  },
  {
   "cell_type": "code",
   "execution_count": 8,
   "metadata": {},
   "outputs": [
    {
     "data": {
      "text/plain": [
       "(415951, 43)"
      ]
     },
     "execution_count": 8,
     "metadata": {},
     "output_type": "execute_result"
    }
   ],
   "source": [
    "# Identified an outlier, need to remove. \n",
    "outlier = df3['release_pos_x'].max()\n",
    "id = df3.index[df3['release_pos_x'] == outlier]\n",
    "\n",
    "df3 = df3.drop(id)\n",
    "df3.shape"
   ]
  },
  {
   "cell_type": "markdown",
   "metadata": {},
   "source": [
    "<br>\n",
    "<br>\n",
    "<br>"
   ]
  },
  {
   "cell_type": "markdown",
   "metadata": {},
   "source": [
    "## Basic Data Exploration"
   ]
  },
  {
   "cell_type": "code",
   "execution_count": 9,
   "metadata": {},
   "outputs": [
    {
     "data": {
      "image/png": "[encoded data removed]",
      "text/plain": [
       "<Figure size 432x288 with 1 Axes>"
      ]
     },
     "metadata": {
      "needs_background": "light"
     },
     "output_type": "display_data"
    }
   ],
   "source": [
    "# Evaluate pitch type distribution\n",
    "\n",
    "ax = sns.countplot(x='pitch_type', data=df_clean, order = df_clean['pitch_type'].value_counts().index)\n",
    "ax.set_title('Pitch Type Count')\n",
    "ax.set_xlabel('Pitch Type')\n",
    "ax.set_ylabel('Count')\n",
    "plt.xticks(rotation=90)\n",
    "plt.show()"
   ]
  },
  {
   "cell_type": "code",
   "execution_count": 10,
   "metadata": {
    "scrolled": true
   },
   "outputs": [
    {
     "data": {
      "image/png": "[encoded data removed]",
      "text/plain": [
       "<Figure size 432x288 with 1 Axes>"
      ]
     },
     "metadata": {
      "needs_background": "light"
     },
     "output_type": "display_data"
    }
   ],
   "source": [
    "# Launch Speed (Exit Velocity) Distribution\n",
    "\n",
    "plt.hist(df_clean['launch_speed'], bins=20)\n",
    "plt.show()"
   ]
  },
  {
   "cell_type": "code",
   "execution_count": 11,
   "metadata": {},
   "outputs": [
    {
     "data": {
      "text/plain": [
       "hc_y                -0.504623\n",
       "zone                -0.219529\n",
       "vy0                 -0.098322\n",
       "pitch_type_CH       -0.069364\n",
       "vz0                 -0.067024\n",
       "pitch_type_SL       -0.056849\n",
       "pitch_type_CU       -0.034893\n",
       "ax                  -0.034683\n",
       "pfx_x               -0.033900\n",
       "pitch_type_FC       -0.025088\n",
       "pitch_type_FS       -0.019083\n",
       "hc_x                -0.017476\n",
       "release_pos_y       -0.011590\n",
       "release_pos_x       -0.007508\n",
       "pitch_type_EP       -0.006349\n",
       "pitch_type_KC       -0.004275\n",
       "pitch_type_KN       -0.002794\n",
       "pitch_type_FO       -0.001725\n",
       "pitch_type_CS       -0.001503\n",
       "pitch_type_SC       -0.000428\n",
       "plate_x             -0.000115\n",
       "batter               0.004211\n",
       "release_spin_rate    0.006371\n",
       "release_extension    0.011617\n",
       "pitcher              0.012715\n",
       "release_pos_z        0.015307\n",
       "vx0                  0.019891\n",
       "pitch_type_FT        0.020415\n",
       "pitch_type_SI        0.027020\n",
       "sz_top               0.029390\n",
       "plate_z              0.041089\n",
       "sz_bot               0.046397\n",
       "pfx_z                0.071800\n",
       "ay                   0.075377\n",
       "az                   0.081589\n",
       "effective_speed      0.095648\n",
       "pitch_type_FF        0.097886\n",
       "release_speed        0.098301\n",
       "launch_angle         0.119623\n",
       "launch_speed         1.000000\n",
       "Name: launch_speed, dtype: float64"
      ]
     },
     "execution_count": 11,
     "metadata": {},
     "output_type": "execute_result"
    }
   ],
   "source": [
    "# correlations\n",
    "\n",
    "df3.corr()['launch_speed'].sort_values()"
   ]
  },
  {
   "cell_type": "markdown",
   "metadata": {},
   "source": [
    "<br>\n",
    "<br>"
   ]
  },
  {
   "cell_type": "markdown",
   "metadata": {},
   "source": [
    "**Split Data For Train/Test (2017-2019) and Out Of Sample (2020)**"
   ]
  },
  {
   "cell_type": "code",
   "execution_count": 12,
   "metadata": {},
   "outputs": [
    {
     "data": {
      "text/plain": [
       "(46072, 43)"
      ]
     },
     "execution_count": 12,
     "metadata": {},
     "output_type": "execute_result"
    }
   ],
   "source": [
    "df_2020 = df3[(df3['game_date'] > '2020-01-01') & (df3['game_date'] < '2020-12-31')]\n",
    "df_2020.shape"
   ]
  },
  {
   "cell_type": "code",
   "execution_count": 13,
   "metadata": {},
   "outputs": [
    {
     "data": {
      "text/plain": [
       "(369879, 43)"
      ]
     },
     "execution_count": 13,
     "metadata": {},
     "output_type": "execute_result"
    }
   ],
   "source": [
    "df_2017_2019 = df3[(df3['game_date'] > '2017-01-01') & (df3['game_date'] < '2019-12-31')]\n",
    "df_2017_2019.shape"
   ]
  },
  {
   "cell_type": "markdown",
   "metadata": {},
   "source": [
    "<br>\n",
    "<br>\n",
    "<br>\n",
    "<br>"
   ]
  },
  {
   "cell_type": "markdown",
   "metadata": {},
   "source": [
    "## Train the model using XGB Regressor With Hyper-parameters from tuning process"
   ]
  },
  {
   "cell_type": "code",
   "execution_count": 14,
   "metadata": {},
   "outputs": [],
   "source": [
    "# Load Batter and Pitcher Names (additional pull from pybaseball)\n",
    "\n",
    "batters = pd.read_csv('batter_names.csv')\n",
    "batters = batters[['batter', 'batter_name_first', 'batter_name_last']]\n",
    "\n",
    "pitchers = pd.read_csv('pitcher_names.csv')\n",
    "pitchers = pitchers[['pitcher', 'pitchers_name_first', 'pitchers_name_last']]"
   ]
  },
  {
   "cell_type": "code",
   "execution_count": 15,
   "metadata": {},
   "outputs": [
    {
     "name": "stdout",
     "output_type": "stream",
     "text": [
      "(369879,)\n",
      "(369879, 34)\n"
     ]
    }
   ],
   "source": [
    "# Prep 2017 - 2020 data for modeling\n",
    "\n",
    "y = df_2017_2019['launch_speed']\n",
    "\n",
    "x = df_2017_2019.drop(['launch_speed', 'batter', 'pitcher', 'game_date', 'events', 'description', 'zone','hc_y', 'hc_x',], 1)\n",
    "\n",
    "# For feature importance graphic\n",
    "x_col = df_2017_2019.drop(['launch_speed', 'batter', 'pitcher', 'game_date', 'events', 'description', 'zone','hc_y', 'hc_x',], 1)\n",
    "\n",
    "player_ids = df_2017_2019[['batter','pitcher']]\n",
    "\n",
    "print(y.shape)\n",
    "print(x.shape)"
   ]
  },
  {
   "cell_type": "code",
   "execution_count": 16,
   "metadata": {},
   "outputs": [
    {
     "name": "stdout",
     "output_type": "stream",
     "text": [
      "(258915, 34)\n",
      "(110964, 34)\n",
      "(258915,)\n",
      "(110964,)\n"
     ]
    }
   ],
   "source": [
    "# Train/Test Split\n",
    "\n",
    "x_train, x_test, y_train, y_test = train_test_split(x,y, test_size=0.3, random_state = 21)\n",
    "\n",
    "print(x_train.shape)\n",
    "print(x_test.shape)\n",
    "print(y_train.shape)\n",
    "print(y_test.shape)\n"
   ]
  },
  {
   "cell_type": "markdown",
   "metadata": {},
   "source": [
    "<br>\n",
    "<br>"
   ]
  },
  {
   "cell_type": "code",
   "execution_count": 17,
   "metadata": {},
   "outputs": [
    {
     "name": "stderr",
     "output_type": "stream",
     "text": [
      "C:\\Users\\Sean Sullivan\\Anaconda3\\lib\\site-packages\\xgboost\\core.py:587: FutureWarning: Series.base is deprecated and will be removed in a future version\n",
      "  if getattr(data, 'base', None) is not None and \\\n"
     ]
    },
    {
     "name": "stdout",
     "output_type": "stream",
     "text": [
      "[20:13:19] WARNING: src/objective/regression_obj.cu:152: reg:linear is now deprecated in favor of reg:squarederror.\n",
      "Runtime:  19.160385608673096\n"
     ]
    }
   ],
   "source": [
    "# Generate model\n",
    "\n",
    "\n",
    "start = time.time()\n",
    "\n",
    "#model = xgb.XGBRegressor(seed=21)\n",
    "model = xgb.XGBRegressor(seed=21, gamma = 2, learning_rate = 0.5, max_depth = 5, min_child_weight = 0.05, \n",
    "                         n_estimators = 40, subsample = 0.9)\n",
    "\n",
    "model.fit(x_train, y_train)\n",
    "\n",
    "print('Runtime: ', time.time() - start)"
   ]
  },
  {
   "cell_type": "code",
   "execution_count": 18,
   "metadata": {},
   "outputs": [
    {
     "name": "stdout",
     "output_type": "stream",
     "text": [
      "R^2 =  0.3607655017857324\n",
      "MAE =  8.269520318219806\n",
      "RMSE =  2.8756773668511224\n"
     ]
    }
   ],
   "source": [
    "# Evaluate\n",
    "\n",
    "y_pred = model.predict(x_test)\n",
    "\n",
    "# R^2\n",
    "print('R^2 = ', r2_score(y_test, y_pred))\n",
    "# MAE\n",
    "print('MAE = ', mean_absolute_error(y_test, y_pred))\n",
    "# RMSE\n",
    "print('RMSE = ', np.sqrt(mean_absolute_error(y_test, y_pred)))"
   ]
  },
  {
   "cell_type": "markdown",
   "metadata": {},
   "source": [
    "**As you can see, RMSE is 2.87 mph. Which is great!**"
   ]
  },
  {
   "cell_type": "markdown",
   "metadata": {},
   "source": [
    "<br>\n",
    "<br>\n",
    "<br>"
   ]
  },
  {
   "cell_type": "markdown",
   "metadata": {},
   "source": [
    "## Run 2020 data through the trained model "
   ]
  },
  {
   "cell_type": "code",
   "execution_count": 19,
   "metadata": {},
   "outputs": [
    {
     "name": "stderr",
     "output_type": "stream",
     "text": [
      "C:\\Users\\Sean Sullivan\\Anaconda3\\lib\\site-packages\\ipykernel_launcher.py:7: SettingWithCopyWarning: \n",
      "A value is trying to be set on a copy of a slice from a DataFrame.\n",
      "Try using .loc[row_indexer,col_indexer] = value instead\n",
      "\n",
      "See the caveats in the documentation: http://pandas.pydata.org/pandas-docs/stable/indexing.html#indexing-view-versus-copy\n",
      "  import sys\n",
      "C:\\Users\\Sean Sullivan\\Anaconda3\\lib\\site-packages\\ipykernel_launcher.py:9: SettingWithCopyWarning: \n",
      "A value is trying to be set on a copy of a slice from a DataFrame.\n",
      "Try using .loc[row_indexer,col_indexer] = value instead\n",
      "\n",
      "See the caveats in the documentation: http://pandas.pydata.org/pandas-docs/stable/indexing.html#indexing-view-versus-copy\n",
      "  if __name__ == '__main__':\n"
     ]
    }
   ],
   "source": [
    "info_2020 = df_2020\n",
    "\n",
    "x_2020 = df_2020.drop(['launch_speed', 'batter', 'pitcher', 'game_date', 'events', 'description', 'zone', 'hc_y', 'hc_x'], 1)\n",
    "\n",
    "y_pred_2020 = model.predict(x_2020)\n",
    "\n",
    "info_2020['predicted_launch_speed'] = y_pred_2020.tolist()\n",
    "\n",
    "info_2020['launch_speed_difference'] = info_2020['launch_speed'] - info_2020['predicted_launch_speed']\n",
    "\n",
    "info_2020 = info_2020.merge(batters, on='batter', how ='left')\n",
    "info_2020 = info_2020.merge(pitchers, on='pitcher', how='left')"
   ]
  },
  {
   "cell_type": "code",
   "execution_count": 20,
   "metadata": {},
   "outputs": [],
   "source": [
    "# Generate predictions on 2020 data\n",
    "\n",
    "y_pred_2020 = model.predict(x_2020)"
   ]
  },
  {
   "cell_type": "code",
   "execution_count": 21,
   "metadata": {},
   "outputs": [],
   "source": [
    "# Create EVOE metric by subtracting predicted exit velocity from actual\n",
    "\n",
    "info_2020['predicted_launch_speed'] = y_pred_2020.tolist()\n",
    "\n",
    "info_2020['launch_speed_difference'] = info_2020['launch_speed'] - info_2020['predicted_launch_speed']\n",
    "\n",
    "info_2020 = info_2020.merge(batters, on='batter', how ='left')\n",
    "info_2020 = info_2020.merge(pitchers, on='pitcher', how='left')"
   ]
  },
  {
   "cell_type": "code",
   "execution_count": 22,
   "metadata": {},
   "outputs": [
    {
     "name": "stderr",
     "output_type": "stream",
     "text": [
      "C:\\Users\\Sean Sullivan\\Anaconda3\\lib\\site-packages\\pandas\\core\\reshape\\merge.py:544: UserWarning: merging between different levels can give an unintended result (2 levels on the left, 1 on the right)\n",
      "  warnings.warn(msg, UserWarning)\n",
      "C:\\Users\\Sean Sullivan\\Anaconda3\\lib\\site-packages\\ipykernel_launcher.py:7: SettingWithCopyWarning: \n",
      "A value is trying to be set on a copy of a slice from a DataFrame\n",
      "\n",
      "See the caveats in the documentation: http://pandas.pydata.org/pandas-docs/stable/indexing.html#indexing-view-versus-copy\n",
      "  import sys\n"
     ]
    },
    {
     "data": {
      "text/html": [
       "<div>\n",
       "<style scoped>\n",
       "    .dataframe tbody tr th:only-of-type {\n",
       "        vertical-align: middle;\n",
       "    }\n",
       "\n",
       "    .dataframe tbody tr th {\n",
       "        vertical-align: top;\n",
       "    }\n",
       "\n",
       "    .dataframe thead th {\n",
       "        text-align: right;\n",
       "    }\n",
       "</style>\n",
       "<table border=\"1\" class=\"dataframe\">\n",
       "  <thead>\n",
       "    <tr style=\"text-align: right;\">\n",
       "      <th></th>\n",
       "      <th>batter</th>\n",
       "      <th>(launch_speed_difference, mean)</th>\n",
       "      <th>(launch_speed_difference, min)</th>\n",
       "      <th>(launch_speed_difference, max)</th>\n",
       "      <th>(launch_speed_difference, count)</th>\n",
       "      <th>batter_name_first</th>\n",
       "      <th>batter_name_last</th>\n",
       "    </tr>\n",
       "  </thead>\n",
       "  <tbody>\n",
       "    <tr>\n",
       "      <th>442</th>\n",
       "      <td>646240.0</td>\n",
       "      <td>7.282544</td>\n",
       "      <td>-23.950180</td>\n",
       "      <td>36.084782</td>\n",
       "      <td>162</td>\n",
       "      <td>rafael</td>\n",
       "      <td>devers</td>\n",
       "    </tr>\n",
       "    <tr>\n",
       "      <th>527</th>\n",
       "      <td>665487.0</td>\n",
       "      <td>6.563766</td>\n",
       "      <td>-30.757184</td>\n",
       "      <td>42.681433</td>\n",
       "      <td>177</td>\n",
       "      <td>fernando</td>\n",
       "      <td>tatis</td>\n",
       "    </tr>\n",
       "    <tr>\n",
       "      <th>84</th>\n",
       "      <td>518626.0</td>\n",
       "      <td>6.359232</td>\n",
       "      <td>-13.339389</td>\n",
       "      <td>18.339842</td>\n",
       "      <td>57</td>\n",
       "      <td>josh</td>\n",
       "      <td>donaldson</td>\n",
       "    </tr>\n",
       "    <tr>\n",
       "      <th>229</th>\n",
       "      <td>593934.0</td>\n",
       "      <td>5.703671</td>\n",
       "      <td>-29.835313</td>\n",
       "      <td>25.015309</td>\n",
       "      <td>101</td>\n",
       "      <td>miguel</td>\n",
       "      <td>sano</td>\n",
       "    </tr>\n",
       "    <tr>\n",
       "      <th>531</th>\n",
       "      <td>665742.0</td>\n",
       "      <td>5.459882</td>\n",
       "      <td>-21.962625</td>\n",
       "      <td>25.292599</td>\n",
       "      <td>126</td>\n",
       "      <td>juan</td>\n",
       "      <td>soto</td>\n",
       "    </tr>\n",
       "    <tr>\n",
       "      <th>497</th>\n",
       "      <td>663647.0</td>\n",
       "      <td>5.134507</td>\n",
       "      <td>-25.236559</td>\n",
       "      <td>27.767283</td>\n",
       "      <td>64</td>\n",
       "      <td>ke'bryan</td>\n",
       "      <td>hayes</td>\n",
       "    </tr>\n",
       "    <tr>\n",
       "      <th>48</th>\n",
       "      <td>467055.0</td>\n",
       "      <td>5.117631</td>\n",
       "      <td>-55.011517</td>\n",
       "      <td>27.581595</td>\n",
       "      <td>66</td>\n",
       "      <td>pablo</td>\n",
       "      <td>sandoval</td>\n",
       "    </tr>\n",
       "    <tr>\n",
       "      <th>548</th>\n",
       "      <td>668227.0</td>\n",
       "      <td>4.888464</td>\n",
       "      <td>-37.280991</td>\n",
       "      <td>26.703423</td>\n",
       "      <td>100</td>\n",
       "      <td>randy</td>\n",
       "      <td>arozarena</td>\n",
       "    </tr>\n",
       "    <tr>\n",
       "      <th>149</th>\n",
       "      <td>547989.0</td>\n",
       "      <td>4.819108</td>\n",
       "      <td>-44.826025</td>\n",
       "      <td>41.595234</td>\n",
       "      <td>195</td>\n",
       "      <td>josé</td>\n",
       "      <td>abreu</td>\n",
       "    </tr>\n",
       "    <tr>\n",
       "      <th>215</th>\n",
       "      <td>592626.0</td>\n",
       "      <td>4.720819</td>\n",
       "      <td>-50.163045</td>\n",
       "      <td>25.192192</td>\n",
       "      <td>113</td>\n",
       "      <td>joc</td>\n",
       "      <td>pederson</td>\n",
       "    </tr>\n",
       "    <tr>\n",
       "      <th>452</th>\n",
       "      <td>650490.0</td>\n",
       "      <td>4.619921</td>\n",
       "      <td>-25.450140</td>\n",
       "      <td>36.064208</td>\n",
       "      <td>121</td>\n",
       "      <td>yandy</td>\n",
       "      <td>díaz</td>\n",
       "    </tr>\n",
       "    <tr>\n",
       "      <th>528</th>\n",
       "      <td>665489.0</td>\n",
       "      <td>4.589808</td>\n",
       "      <td>-26.861609</td>\n",
       "      <td>29.864247</td>\n",
       "      <td>185</td>\n",
       "      <td>vladimir</td>\n",
       "      <td>guerrero</td>\n",
       "    </tr>\n",
       "    <tr>\n",
       "      <th>223</th>\n",
       "      <td>592885.0</td>\n",
       "      <td>4.558663</td>\n",
       "      <td>-18.182841</td>\n",
       "      <td>25.318080</td>\n",
       "      <td>127</td>\n",
       "      <td>christian</td>\n",
       "      <td>yelich</td>\n",
       "    </tr>\n",
       "    <tr>\n",
       "      <th>485</th>\n",
       "      <td>660670.0</td>\n",
       "      <td>4.520438</td>\n",
       "      <td>-26.801958</td>\n",
       "      <td>28.670502</td>\n",
       "      <td>129</td>\n",
       "      <td>ronald</td>\n",
       "      <td>acuna</td>\n",
       "    </tr>\n",
       "    <tr>\n",
       "      <th>449</th>\n",
       "      <td>650391.0</td>\n",
       "      <td>4.501581</td>\n",
       "      <td>-26.179019</td>\n",
       "      <td>26.745515</td>\n",
       "      <td>159</td>\n",
       "      <td>eloy</td>\n",
       "      <td>jimenez</td>\n",
       "    </tr>\n",
       "    <tr>\n",
       "      <th>469</th>\n",
       "      <td>656941.0</td>\n",
       "      <td>4.493939</td>\n",
       "      <td>-37.102042</td>\n",
       "      <td>25.955292</td>\n",
       "      <td>125</td>\n",
       "      <td>kyle</td>\n",
       "      <td>schwarber</td>\n",
       "    </tr>\n",
       "    <tr>\n",
       "      <th>258</th>\n",
       "      <td>596142.0</td>\n",
       "      <td>4.363145</td>\n",
       "      <td>-51.023083</td>\n",
       "      <td>33.015395</td>\n",
       "      <td>96</td>\n",
       "      <td>gary</td>\n",
       "      <td>sanchez</td>\n",
       "    </tr>\n",
       "    <tr>\n",
       "      <th>456</th>\n",
       "      <td>656305.0</td>\n",
       "      <td>4.296999</td>\n",
       "      <td>-34.469038</td>\n",
       "      <td>19.159688</td>\n",
       "      <td>86</td>\n",
       "      <td>matt</td>\n",
       "      <td>chapman</td>\n",
       "    </tr>\n",
       "    <tr>\n",
       "      <th>360</th>\n",
       "      <td>623520.0</td>\n",
       "      <td>4.289120</td>\n",
       "      <td>-23.657190</td>\n",
       "      <td>24.298734</td>\n",
       "      <td>88</td>\n",
       "      <td>david</td>\n",
       "      <td>bote</td>\n",
       "    </tr>\n",
       "    <tr>\n",
       "      <th>107</th>\n",
       "      <td>542303.0</td>\n",
       "      <td>4.174788</td>\n",
       "      <td>-33.499040</td>\n",
       "      <td>30.553481</td>\n",
       "      <td>206</td>\n",
       "      <td>marcell</td>\n",
       "      <td>ozuna</td>\n",
       "    </tr>\n",
       "    <tr>\n",
       "      <th>96</th>\n",
       "      <td>519317.0</td>\n",
       "      <td>4.068283</td>\n",
       "      <td>-34.141524</td>\n",
       "      <td>31.481549</td>\n",
       "      <td>66</td>\n",
       "      <td>giancarlo</td>\n",
       "      <td>stanton</td>\n",
       "    </tr>\n",
       "    <tr>\n",
       "      <th>11</th>\n",
       "      <td>443558.0</td>\n",
       "      <td>4.004882</td>\n",
       "      <td>-32.368266</td>\n",
       "      <td>24.522691</td>\n",
       "      <td>130</td>\n",
       "      <td>nelson</td>\n",
       "      <td>cruz</td>\n",
       "    </tr>\n",
       "    <tr>\n",
       "      <th>290</th>\n",
       "      <td>606192.0</td>\n",
       "      <td>3.989295</td>\n",
       "      <td>-43.480409</td>\n",
       "      <td>21.885188</td>\n",
       "      <td>129</td>\n",
       "      <td>teoscar</td>\n",
       "      <td>hernandez</td>\n",
       "    </tr>\n",
       "    <tr>\n",
       "      <th>335</th>\n",
       "      <td>621439.0</td>\n",
       "      <td>3.873023</td>\n",
       "      <td>-25.505666</td>\n",
       "      <td>24.962141</td>\n",
       "      <td>96</td>\n",
       "      <td>byron</td>\n",
       "      <td>buxton</td>\n",
       "    </tr>\n",
       "    <tr>\n",
       "      <th>1</th>\n",
       "      <td>408234.0</td>\n",
       "      <td>3.722964</td>\n",
       "      <td>-22.730663</td>\n",
       "      <td>23.267213</td>\n",
       "      <td>152</td>\n",
       "      <td>miguel</td>\n",
       "      <td>cabrera</td>\n",
       "    </tr>\n",
       "    <tr>\n",
       "      <th>184</th>\n",
       "      <td>572287.0</td>\n",
       "      <td>3.658545</td>\n",
       "      <td>-29.311098</td>\n",
       "      <td>24.490558</td>\n",
       "      <td>64</td>\n",
       "      <td>mike</td>\n",
       "      <td>zunino</td>\n",
       "    </tr>\n",
       "    <tr>\n",
       "      <th>308</th>\n",
       "      <td>608369.0</td>\n",
       "      <td>3.575877</td>\n",
       "      <td>-40.353735</td>\n",
       "      <td>23.327252</td>\n",
       "      <td>226</td>\n",
       "      <td>corey</td>\n",
       "      <td>seager</td>\n",
       "    </tr>\n",
       "    <tr>\n",
       "      <th>369</th>\n",
       "      <td>624431.0</td>\n",
       "      <td>3.575445</td>\n",
       "      <td>-34.563759</td>\n",
       "      <td>30.910739</td>\n",
       "      <td>64</td>\n",
       "      <td>jose</td>\n",
       "      <td>trevino</td>\n",
       "    </tr>\n",
       "    <tr>\n",
       "      <th>311</th>\n",
       "      <td>608577.0</td>\n",
       "      <td>3.507209</td>\n",
       "      <td>-32.434866</td>\n",
       "      <td>24.257835</td>\n",
       "      <td>94</td>\n",
       "      <td>nomar</td>\n",
       "      <td>mazara</td>\n",
       "    </tr>\n",
       "    <tr>\n",
       "      <th>173</th>\n",
       "      <td>571980.0</td>\n",
       "      <td>3.499691</td>\n",
       "      <td>-38.533116</td>\n",
       "      <td>34.153004</td>\n",
       "      <td>98</td>\n",
       "      <td>tyler</td>\n",
       "      <td>naquin</td>\n",
       "    </tr>\n",
       "  </tbody>\n",
       "</table>\n",
       "</div>"
      ],
      "text/plain": [
       "       batter  (launch_speed_difference, mean)  \\\n",
       "442  646240.0                         7.282544   \n",
       "527  665487.0                         6.563766   \n",
       "84   518626.0                         6.359232   \n",
       "229  593934.0                         5.703671   \n",
       "531  665742.0                         5.459882   \n",
       "497  663647.0                         5.134507   \n",
       "48   467055.0                         5.117631   \n",
       "548  668227.0                         4.888464   \n",
       "149  547989.0                         4.819108   \n",
       "215  592626.0                         4.720819   \n",
       "452  650490.0                         4.619921   \n",
       "528  665489.0                         4.589808   \n",
       "223  592885.0                         4.558663   \n",
       "485  660670.0                         4.520438   \n",
       "449  650391.0                         4.501581   \n",
       "469  656941.0                         4.493939   \n",
       "258  596142.0                         4.363145   \n",
       "456  656305.0                         4.296999   \n",
       "360  623520.0                         4.289120   \n",
       "107  542303.0                         4.174788   \n",
       "96   519317.0                         4.068283   \n",
       "11   443558.0                         4.004882   \n",
       "290  606192.0                         3.989295   \n",
       "335  621439.0                         3.873023   \n",
       "1    408234.0                         3.722964   \n",
       "184  572287.0                         3.658545   \n",
       "308  608369.0                         3.575877   \n",
       "369  624431.0                         3.575445   \n",
       "311  608577.0                         3.507209   \n",
       "173  571980.0                         3.499691   \n",
       "\n",
       "     (launch_speed_difference, min)  (launch_speed_difference, max)  \\\n",
       "442                      -23.950180                       36.084782   \n",
       "527                      -30.757184                       42.681433   \n",
       "84                       -13.339389                       18.339842   \n",
       "229                      -29.835313                       25.015309   \n",
       "531                      -21.962625                       25.292599   \n",
       "497                      -25.236559                       27.767283   \n",
       "48                       -55.011517                       27.581595   \n",
       "548                      -37.280991                       26.703423   \n",
       "149                      -44.826025                       41.595234   \n",
       "215                      -50.163045                       25.192192   \n",
       "452                      -25.450140                       36.064208   \n",
       "528                      -26.861609                       29.864247   \n",
       "223                      -18.182841                       25.318080   \n",
       "485                      -26.801958                       28.670502   \n",
       "449                      -26.179019                       26.745515   \n",
       "469                      -37.102042                       25.955292   \n",
       "258                      -51.023083                       33.015395   \n",
       "456                      -34.469038                       19.159688   \n",
       "360                      -23.657190                       24.298734   \n",
       "107                      -33.499040                       30.553481   \n",
       "96                       -34.141524                       31.481549   \n",
       "11                       -32.368266                       24.522691   \n",
       "290                      -43.480409                       21.885188   \n",
       "335                      -25.505666                       24.962141   \n",
       "1                        -22.730663                       23.267213   \n",
       "184                      -29.311098                       24.490558   \n",
       "308                      -40.353735                       23.327252   \n",
       "369                      -34.563759                       30.910739   \n",
       "311                      -32.434866                       24.257835   \n",
       "173                      -38.533116                       34.153004   \n",
       "\n",
       "     (launch_speed_difference, count) batter_name_first batter_name_last  \n",
       "442                               162            rafael           devers  \n",
       "527                               177          fernando            tatis  \n",
       "84                                 57              josh        donaldson  \n",
       "229                               101            miguel             sano  \n",
       "531                               126              juan             soto  \n",
       "497                                64          ke'bryan            hayes  \n",
       "48                                 66             pablo         sandoval  \n",
       "548                               100             randy        arozarena  \n",
       "149                               195              josé            abreu  \n",
       "215                               113               joc         pederson  \n",
       "452                               121             yandy             díaz  \n",
       "528                               185          vladimir         guerrero  \n",
       "223                               127         christian           yelich  \n",
       "485                               129            ronald            acuna  \n",
       "449                               159              eloy          jimenez  \n",
       "469                               125              kyle        schwarber  \n",
       "258                                96              gary          sanchez  \n",
       "456                                86              matt          chapman  \n",
       "360                                88             david             bote  \n",
       "107                               206           marcell            ozuna  \n",
       "96                                 66         giancarlo          stanton  \n",
       "11                                130            nelson             cruz  \n",
       "290                               129           teoscar        hernandez  \n",
       "335                                96             byron           buxton  \n",
       "1                                 152            miguel          cabrera  \n",
       "184                                64              mike           zunino  \n",
       "308                               226             corey           seager  \n",
       "369                                64              jose          trevino  \n",
       "311                                94             nomar           mazara  \n",
       "173                                98             tyler           naquin  "
      ]
     },
     "execution_count": 22,
     "metadata": {},
     "output_type": "execute_result"
    }
   ],
   "source": [
    "# Evaluate Batter Performance\n",
    "\n",
    "batter_aggregated_2020 = info_2020.groupby('batter').agg({'launch_speed_difference': ['mean', 'min', 'max', 'count']})\n",
    "batter_aggregated_2020 = batter_aggregated_2020.merge(batters, on='batter', how ='left')\n",
    "\n",
    "batter_aggregated_2020_filtered = batter_aggregated_2020[batter_aggregated_2020[('launch_speed_difference', 'count')] > 50]\n",
    "batter_aggregated_2020_filtered.sort_values(by=[('launch_speed_difference', 'mean')], inplace=True, ascending=False)\n",
    "batter_aggregated_2020_filtered.head(30)"
   ]
  },
  {
   "cell_type": "code",
   "execution_count": 23,
   "metadata": {},
   "outputs": [],
   "source": [
    "# Used to place results in CSV\n",
    "\n",
    "#batter_aggregated_2020.to_csv('2020_all_batters.csv')\n",
    "#batter_aggregated_2020_filtered.to_csv('2020_all_batters_filtered.csv')"
   ]
  },
  {
   "cell_type": "markdown",
   "metadata": {},
   "source": [
    "<br>\n",
    "<br>\n",
    "<br>\n",
    "<br>\n",
    "<br>"
   ]
  },
  {
   "cell_type": "markdown",
   "metadata": {},
   "source": [
    "## k-Means Clustering"
   ]
  },
  {
   "cell_type": "code",
   "execution_count": 24,
   "metadata": {},
   "outputs": [
    {
     "data": {
      "text/html": [
       "<div>\n",
       "<style scoped>\n",
       "    .dataframe tbody tr th:only-of-type {\n",
       "        vertical-align: middle;\n",
       "    }\n",
       "\n",
       "    .dataframe tbody tr th {\n",
       "        vertical-align: top;\n",
       "    }\n",
       "\n",
       "    .dataframe thead th {\n",
       "        text-align: right;\n",
       "    }\n",
       "</style>\n",
       "<table border=\"1\" class=\"dataframe\">\n",
       "  <thead>\n",
       "    <tr style=\"text-align: right;\">\n",
       "      <th></th>\n",
       "      <th>batter</th>\n",
       "      <th>EVOE AVG</th>\n",
       "      <th>EVOE MIN</th>\n",
       "      <th>EVOE MAX</th>\n",
       "      <th>COUNT</th>\n",
       "      <th>batter_name_first</th>\n",
       "      <th>batter_name_last</th>\n",
       "    </tr>\n",
       "  </thead>\n",
       "  <tbody>\n",
       "    <tr>\n",
       "      <th>0</th>\n",
       "      <td>646240</td>\n",
       "      <td>7.282544</td>\n",
       "      <td>-23.950180</td>\n",
       "      <td>36.084782</td>\n",
       "      <td>162</td>\n",
       "      <td>rafael</td>\n",
       "      <td>devers</td>\n",
       "    </tr>\n",
       "    <tr>\n",
       "      <th>1</th>\n",
       "      <td>665487</td>\n",
       "      <td>6.563766</td>\n",
       "      <td>-30.757184</td>\n",
       "      <td>42.681433</td>\n",
       "      <td>177</td>\n",
       "      <td>fernando</td>\n",
       "      <td>tatis</td>\n",
       "    </tr>\n",
       "    <tr>\n",
       "      <th>2</th>\n",
       "      <td>518626</td>\n",
       "      <td>6.359232</td>\n",
       "      <td>-13.339389</td>\n",
       "      <td>18.339842</td>\n",
       "      <td>57</td>\n",
       "      <td>josh</td>\n",
       "      <td>donaldson</td>\n",
       "    </tr>\n",
       "    <tr>\n",
       "      <th>3</th>\n",
       "      <td>593934</td>\n",
       "      <td>5.703671</td>\n",
       "      <td>-29.835313</td>\n",
       "      <td>25.015309</td>\n",
       "      <td>101</td>\n",
       "      <td>miguel</td>\n",
       "      <td>sano</td>\n",
       "    </tr>\n",
       "    <tr>\n",
       "      <th>4</th>\n",
       "      <td>665742</td>\n",
       "      <td>5.459882</td>\n",
       "      <td>-21.962625</td>\n",
       "      <td>25.292599</td>\n",
       "      <td>126</td>\n",
       "      <td>juan</td>\n",
       "      <td>soto</td>\n",
       "    </tr>\n",
       "  </tbody>\n",
       "</table>\n",
       "</div>"
      ],
      "text/plain": [
       "   batter  EVOE AVG   EVOE MIN   EVOE MAX  COUNT batter_name_first  \\\n",
       "0  646240  7.282544 -23.950180  36.084782    162            rafael   \n",
       "1  665487  6.563766 -30.757184  42.681433    177          fernando   \n",
       "2  518626  6.359232 -13.339389  18.339842     57              josh   \n",
       "3  593934  5.703671 -29.835313  25.015309    101            miguel   \n",
       "4  665742  5.459882 -21.962625  25.292599    126              juan   \n",
       "\n",
       "  batter_name_last  \n",
       "0           devers  \n",
       "1            tatis  \n",
       "2        donaldson  \n",
       "3             sano  \n",
       "4             soto  "
      ]
     },
     "execution_count": 24,
     "metadata": {},
     "output_type": "execute_result"
    }
   ],
   "source": [
    "# LOAD DATA\n",
    "df = pd.read_csv('2020_all_batters_filtered.csv')\n",
    "df.head()"
   ]
  },
  {
   "cell_type": "code",
   "execution_count": 25,
   "metadata": {},
   "outputs": [],
   "source": [
    "# Filter for EVOE and Count\n",
    "df_filtered = df[['EVOE AVG', 'COUNT']]\n",
    "\n",
    "names = df[['batter', 'batter_name_first', 'batter_name_last']]"
   ]
  },
  {
   "cell_type": "code",
   "execution_count": 26,
   "metadata": {},
   "outputs": [
    {
     "name": "stderr",
     "output_type": "stream",
     "text": [
      "C:\\Users\\Sean Sullivan\\Anaconda3\\lib\\site-packages\\sklearn\\preprocessing\\data.py:323: DataConversionWarning: Data with input dtype int64, float64 were all converted to float64 by MinMaxScaler.\n",
      "  return self.partial_fit(X, y)\n"
     ]
    }
   ],
   "source": [
    "# NORMALIZE EVOE AND COUNT\n",
    "min_max_scaler = MinMaxScaler().fit(df_filtered)\n",
    "\n",
    "dfNorm= min_max_scaler.transform(df_filtered)"
   ]
  },
  {
   "cell_type": "markdown",
   "metadata": {},
   "source": [
    "<br>\n",
    "<br>"
   ]
  },
  {
   "cell_type": "markdown",
   "metadata": {},
   "source": [
    "**Determine optimal number of clusters**"
   ]
  },
  {
   "cell_type": "code",
   "execution_count": 27,
   "metadata": {},
   "outputs": [
    {
     "data": {
      "image/png": "[encoded data removed]",
      "text/plain": [
       "<Figure size 432x288 with 1 Axes>"
      ]
     },
     "metadata": {
      "needs_background": "light"
     },
     "output_type": "display_data"
    }
   ],
   "source": [
    "#Function\n",
    "def cluster_sizes(clusters):\n",
    "    #clusters is an array of cluster labels for each instance in the data\n",
    "    \n",
    "    size = {}\n",
    "    cluster_labels = np.unique(clusters)\n",
    "    n_clusters = cluster_labels.shape[0]\n",
    "\n",
    "    for c in cluster_labels:\n",
    "        size[c] = len(df[clusters == c])\n",
    "    return size\n",
    "\n",
    "\n",
    "\n",
    "cost =[] \n",
    "for i in range(1, 11): \n",
    "    KM = KMeans(n_clusters = i, max_iter = 500) \n",
    "    KM.fit(df_filtered) \n",
    "      \n",
    "    # calculates squared error \n",
    "    # for the clustered points \n",
    "    cost.append(KM.inertia_)      \n",
    "  \n",
    "# plot the cost against K values \n",
    "plt.plot(range(1, 11), cost, color ='g', linewidth ='3') \n",
    "plt.xlabel(\"Value of K\") \n",
    "plt.ylabel(\"Sqaured Error (Cost)\") \n",
    "plt.show() # clear the plot "
   ]
  },
  {
   "cell_type": "markdown",
   "metadata": {},
   "source": [
    "<br>"
   ]
  },
  {
   "cell_type": "code",
   "execution_count": 28,
   "metadata": {},
   "outputs": [
    {
     "name": "stdout",
     "output_type": "stream",
     "text": [
      "Size of Cluster 0 =  72\n",
      "Size of Cluster 1 =  82\n",
      "Size of Cluster 2 =  95\n",
      "Size of Cluster 3 =  109\n"
     ]
    }
   ],
   "source": [
    "# Want to use 4 to capture additional nuances\n",
    "\n",
    "kmeans = KMeans(n_clusters=4, max_iter=500)\n",
    "kmeans.fit(dfNorm)\n",
    "clusters = kmeans.predict(dfNorm)\n",
    "\n",
    "size = cluster_sizes(clusters)\n",
    "\n",
    "for c in size.keys():\n",
    "    print(\"Size of Cluster\", c, \"= \", size[c])"
   ]
  },
  {
   "cell_type": "code",
   "execution_count": 29,
   "metadata": {},
   "outputs": [
    {
     "data": {
      "text/plain": [
       "Text(0, 0.5, 'Batted Ball Events Count')"
      ]
     },
     "execution_count": 29,
     "metadata": {},
     "output_type": "execute_result"
    },
    {
     "data": {
      "image/png": "[encoded data removed]",
      "text/plain": [
       "<Figure size 432x288 with 1 Axes>"
      ]
     },
     "metadata": {
      "needs_background": "light"
     },
     "output_type": "display_data"
    }
   ],
   "source": [
    "# Visualize Clusters\n",
    "\n",
    "plt.scatter(df_filtered['EVOE AVG'], df_filtered['COUNT'], c=clusters)\n",
    "plt.xlabel(\"AVG EVOE\") \n",
    "plt.ylabel(\"Batted Ball Events Count\")"
   ]
  },
  {
   "cell_type": "code",
   "execution_count": 30,
   "metadata": {},
   "outputs": [
    {
     "name": "stdout",
     "output_type": "stream",
     "text": [
      "Cluster 0 mean EVOE:  -3.4321614703749996\n",
      "Cluster 1 mean EVOE:  0.2036638192195116\n",
      "Cluster 2 mean EVOE:  1.537574438147368\n",
      "Cluster 3 mean EVOE:  1.2365129330917426\n",
      "\n",
      "Cluster 0 mean Count:  78.77777777777777\n",
      "Cluster 1 mean Count:  177.53658536585365\n",
      "Cluster 2 mean Count:  76.9578947368421\n",
      "Cluster 3 mean Count:  130.3302752293578\n"
     ]
    },
    {
     "name": "stderr",
     "output_type": "stream",
     "text": [
      "C:\\Users\\Sean Sullivan\\Anaconda3\\lib\\site-packages\\ipykernel_launcher.py:8: SettingWithCopyWarning: \n",
      "A value is trying to be set on a copy of a slice from a DataFrame.\n",
      "Try using .loc[row_indexer,col_indexer] = value instead\n",
      "\n",
      "See the caveats in the documentation: http://pandas.pydata.org/pandas-docs/stable/indexing.html#indexing-view-versus-copy\n",
      "  \n",
      "C:\\Users\\Sean Sullivan\\Anaconda3\\lib\\site-packages\\ipykernel_launcher.py:9: SettingWithCopyWarning: \n",
      "A value is trying to be set on a copy of a slice from a DataFrame.\n",
      "Try using .loc[row_indexer,col_indexer] = value instead\n",
      "\n",
      "See the caveats in the documentation: http://pandas.pydata.org/pandas-docs/stable/indexing.html#indexing-view-versus-copy\n",
      "  if __name__ == '__main__':\n",
      "C:\\Users\\Sean Sullivan\\Anaconda3\\lib\\site-packages\\ipykernel_launcher.py:10: SettingWithCopyWarning: \n",
      "A value is trying to be set on a copy of a slice from a DataFrame.\n",
      "Try using .loc[row_indexer,col_indexer] = value instead\n",
      "\n",
      "See the caveats in the documentation: http://pandas.pydata.org/pandas-docs/stable/indexing.html#indexing-view-versus-copy\n",
      "  # Remove the CWD from sys.path while we load stuff.\n",
      "C:\\Users\\Sean Sullivan\\Anaconda3\\lib\\site-packages\\ipykernel_launcher.py:11: SettingWithCopyWarning: \n",
      "A value is trying to be set on a copy of a slice from a DataFrame.\n",
      "Try using .loc[row_indexer,col_indexer] = value instead\n",
      "\n",
      "See the caveats in the documentation: http://pandas.pydata.org/pandas-docs/stable/indexing.html#indexing-view-versus-copy\n",
      "  # This is added back by InteractiveShellApp.init_path()\n"
     ]
    }
   ],
   "source": [
    "# Put results in DF and Evaluate\n",
    "\n",
    "\n",
    "results = df_filtered\n",
    "results.shape\n",
    "\n",
    "\n",
    "results['cluster'] = clusters\n",
    "results['batter_id'] = names['batter']\n",
    "results['Last Name'] = names['batter_name_last']\n",
    "results['First_Name'] = names['batter_name_first']\n",
    "\n",
    "\n",
    "\n",
    "\n",
    "cluster0 = results[results['cluster'] == 0]\n",
    "cluster1 = results[results['cluster'] == 1]\n",
    "cluster2 = results[results['cluster'] == 2]\n",
    "cluster3 = results[results['cluster'] == 3]\n",
    "\n",
    "c_mean0 = cluster0['EVOE AVG'].mean()\n",
    "c_mean1 = cluster1['EVOE AVG'].mean()\n",
    "c_mean2 = cluster2['EVOE AVG'].mean()\n",
    "c_mean3 = cluster3['EVOE AVG'].mean()\n",
    "\n",
    "count_mean0 = cluster0['COUNT'].mean()\n",
    "count_mean1 = cluster1['COUNT'].mean()\n",
    "count_mean2 = cluster2['COUNT'].mean()\n",
    "count_mean3 = cluster3['COUNT'].mean()\n",
    "\n",
    "print('Cluster 0 mean EVOE: ', c_mean0)\n",
    "print('Cluster 1 mean EVOE: ', c_mean1)\n",
    "print('Cluster 2 mean EVOE: ', c_mean2)\n",
    "print('Cluster 3 mean EVOE: ', c_mean3)\n",
    "print()\n",
    "print('Cluster 0 mean Count: ', count_mean0)\n",
    "print('Cluster 1 mean Count: ', count_mean1)\n",
    "print('Cluster 2 mean Count: ', count_mean2)\n",
    "print('Cluster 3 mean Count: ', count_mean3)"
   ]
  },
  {
   "cell_type": "code",
   "execution_count": 31,
   "metadata": {},
   "outputs": [
    {
     "name": "stderr",
     "output_type": "stream",
     "text": [
      "C:\\Users\\Sean Sullivan\\Anaconda3\\lib\\site-packages\\ipykernel_launcher.py:5: SettingWithCopyWarning: \n",
      "A value is trying to be set on a copy of a slice from a DataFrame.\n",
      "Try using .loc[row_indexer,col_indexer] = value instead\n",
      "\n",
      "See the caveats in the documentation: http://pandas.pydata.org/pandas-docs/stable/indexing.html#indexing-view-versus-copy\n",
      "  \"\"\"\n"
     ]
    },
    {
     "data": {
      "text/html": [
       "<div>\n",
       "<style scoped>\n",
       "    .dataframe tbody tr th:only-of-type {\n",
       "        vertical-align: middle;\n",
       "    }\n",
       "\n",
       "    .dataframe tbody tr th {\n",
       "        vertical-align: top;\n",
       "    }\n",
       "\n",
       "    .dataframe thead th {\n",
       "        text-align: right;\n",
       "    }\n",
       "</style>\n",
       "<table border=\"1\" class=\"dataframe\">\n",
       "  <thead>\n",
       "    <tr style=\"text-align: right;\">\n",
       "      <th></th>\n",
       "      <th>EVOE AVG</th>\n",
       "      <th>COUNT</th>\n",
       "      <th>cluster</th>\n",
       "      <th>batter_id</th>\n",
       "      <th>Last Name</th>\n",
       "      <th>First_Name</th>\n",
       "      <th>AVG EVOE Difference</th>\n",
       "    </tr>\n",
       "  </thead>\n",
       "  <tbody>\n",
       "    <tr>\n",
       "      <th>259</th>\n",
       "      <td>-1.114352</td>\n",
       "      <td>102</td>\n",
       "      <td>0</td>\n",
       "      <td>592743</td>\n",
       "      <td>simmons</td>\n",
       "      <td>andrelton</td>\n",
       "      <td>2.317809</td>\n",
       "    </tr>\n",
       "    <tr>\n",
       "      <th>261</th>\n",
       "      <td>-1.195249</td>\n",
       "      <td>52</td>\n",
       "      <td>0</td>\n",
       "      <td>543309</td>\n",
       "      <td>higashioka</td>\n",
       "      <td>kyle</td>\n",
       "      <td>2.236913</td>\n",
       "    </tr>\n",
       "    <tr>\n",
       "      <th>262</th>\n",
       "      <td>-1.215357</td>\n",
       "      <td>68</td>\n",
       "      <td>0</td>\n",
       "      <td>457727</td>\n",
       "      <td>maybin</td>\n",
       "      <td>cameron</td>\n",
       "      <td>2.216805</td>\n",
       "    </tr>\n",
       "    <tr>\n",
       "      <th>264</th>\n",
       "      <td>-1.268324</td>\n",
       "      <td>64</td>\n",
       "      <td>0</td>\n",
       "      <td>647351</td>\n",
       "      <td>toro</td>\n",
       "      <td>abraham</td>\n",
       "      <td>2.163838</td>\n",
       "    </tr>\n",
       "    <tr>\n",
       "      <th>265</th>\n",
       "      <td>-1.270333</td>\n",
       "      <td>77</td>\n",
       "      <td>0</td>\n",
       "      <td>543401</td>\n",
       "      <td>kipnis</td>\n",
       "      <td>jason</td>\n",
       "      <td>2.161829</td>\n",
       "    </tr>\n",
       "    <tr>\n",
       "      <th>266</th>\n",
       "      <td>-1.322526</td>\n",
       "      <td>76</td>\n",
       "      <td>0</td>\n",
       "      <td>592325</td>\n",
       "      <td>gamel</td>\n",
       "      <td>ben</td>\n",
       "      <td>2.109635</td>\n",
       "    </tr>\n",
       "    <tr>\n",
       "      <th>267</th>\n",
       "      <td>-1.344856</td>\n",
       "      <td>82</td>\n",
       "      <td>0</td>\n",
       "      <td>666185</td>\n",
       "      <td>carlson</td>\n",
       "      <td>dylan</td>\n",
       "      <td>2.087306</td>\n",
       "    </tr>\n",
       "    <tr>\n",
       "      <th>268</th>\n",
       "      <td>-1.360388</td>\n",
       "      <td>58</td>\n",
       "      <td>0</td>\n",
       "      <td>649557</td>\n",
       "      <td>díaz</td>\n",
       "      <td>aledmys</td>\n",
       "      <td>2.071773</td>\n",
       "    </tr>\n",
       "    <tr>\n",
       "      <th>269</th>\n",
       "      <td>-1.362866</td>\n",
       "      <td>65</td>\n",
       "      <td>0</td>\n",
       "      <td>572191</td>\n",
       "      <td>taylor</td>\n",
       "      <td>michael</td>\n",
       "      <td>2.069295</td>\n",
       "    </tr>\n",
       "    <tr>\n",
       "      <th>270</th>\n",
       "      <td>-1.403785</td>\n",
       "      <td>94</td>\n",
       "      <td>0</td>\n",
       "      <td>459964</td>\n",
       "      <td>joyce</td>\n",
       "      <td>matthew</td>\n",
       "      <td>2.028377</td>\n",
       "    </tr>\n",
       "    <tr>\n",
       "      <th>271</th>\n",
       "      <td>-1.439787</td>\n",
       "      <td>66</td>\n",
       "      <td>0</td>\n",
       "      <td>656514</td>\n",
       "      <td>haseley</td>\n",
       "      <td>adam</td>\n",
       "      <td>1.992374</td>\n",
       "    </tr>\n",
       "    <tr>\n",
       "      <th>272</th>\n",
       "      <td>-1.525464</td>\n",
       "      <td>77</td>\n",
       "      <td>0</td>\n",
       "      <td>665750</td>\n",
       "      <td>taveras</td>\n",
       "      <td>leody</td>\n",
       "      <td>1.906698</td>\n",
       "    </tr>\n",
       "    <tr>\n",
       "      <th>273</th>\n",
       "      <td>-1.600225</td>\n",
       "      <td>53</td>\n",
       "      <td>0</td>\n",
       "      <td>595284</td>\n",
       "      <td>knapp</td>\n",
       "      <td>andrew</td>\n",
       "      <td>1.831936</td>\n",
       "    </tr>\n",
       "    <tr>\n",
       "      <th>274</th>\n",
       "      <td>-1.620312</td>\n",
       "      <td>91</td>\n",
       "      <td>0</td>\n",
       "      <td>665926</td>\n",
       "      <td>gimenez</td>\n",
       "      <td>andres</td>\n",
       "      <td>1.811849</td>\n",
       "    </tr>\n",
       "    <tr>\n",
       "      <th>276</th>\n",
       "      <td>-1.644265</td>\n",
       "      <td>79</td>\n",
       "      <td>0</td>\n",
       "      <td>425783</td>\n",
       "      <td>choo</td>\n",
       "      <td>shin-soo</td>\n",
       "      <td>1.787896</td>\n",
       "    </tr>\n",
       "    <tr>\n",
       "      <th>278</th>\n",
       "      <td>-1.708274</td>\n",
       "      <td>97</td>\n",
       "      <td>0</td>\n",
       "      <td>605412</td>\n",
       "      <td>panik</td>\n",
       "      <td>joe</td>\n",
       "      <td>1.723887</td>\n",
       "    </tr>\n",
       "    <tr>\n",
       "      <th>279</th>\n",
       "      <td>-1.724528</td>\n",
       "      <td>78</td>\n",
       "      <td>0</td>\n",
       "      <td>475253</td>\n",
       "      <td>smoak</td>\n",
       "      <td>justin</td>\n",
       "      <td>1.707634</td>\n",
       "    </tr>\n",
       "    <tr>\n",
       "      <th>281</th>\n",
       "      <td>-1.755251</td>\n",
       "      <td>52</td>\n",
       "      <td>0</td>\n",
       "      <td>640447</td>\n",
       "      <td>ervin</td>\n",
       "      <td>phil</td>\n",
       "      <td>1.676910</td>\n",
       "    </tr>\n",
       "    <tr>\n",
       "      <th>285</th>\n",
       "      <td>-1.932940</td>\n",
       "      <td>61</td>\n",
       "      <td>0</td>\n",
       "      <td>621514</td>\n",
       "      <td>stewart</td>\n",
       "      <td>christin</td>\n",
       "      <td>1.499221</td>\n",
       "    </tr>\n",
       "    <tr>\n",
       "      <th>286</th>\n",
       "      <td>-1.956593</td>\n",
       "      <td>87</td>\n",
       "      <td>0</td>\n",
       "      <td>607732</td>\n",
       "      <td>stallings</td>\n",
       "      <td>jacob</td>\n",
       "      <td>1.475568</td>\n",
       "    </tr>\n",
       "    <tr>\n",
       "      <th>288</th>\n",
       "      <td>-2.027070</td>\n",
       "      <td>65</td>\n",
       "      <td>0</td>\n",
       "      <td>621311</td>\n",
       "      <td>dahl</td>\n",
       "      <td>david</td>\n",
       "      <td>1.405092</td>\n",
       "    </tr>\n",
       "    <tr>\n",
       "      <th>290</th>\n",
       "      <td>-2.084144</td>\n",
       "      <td>56</td>\n",
       "      <td>0</td>\n",
       "      <td>641796</td>\n",
       "      <td>locastro</td>\n",
       "      <td>tim</td>\n",
       "      <td>1.348017</td>\n",
       "    </tr>\n",
       "    <tr>\n",
       "      <th>291</th>\n",
       "      <td>-2.102306</td>\n",
       "      <td>84</td>\n",
       "      <td>0</td>\n",
       "      <td>605131</td>\n",
       "      <td>barnes</td>\n",
       "      <td>austin</td>\n",
       "      <td>1.329856</td>\n",
       "    </tr>\n",
       "    <tr>\n",
       "      <th>293</th>\n",
       "      <td>-2.172076</td>\n",
       "      <td>57</td>\n",
       "      <td>0</td>\n",
       "      <td>642082</td>\n",
       "      <td>sisco</td>\n",
       "      <td>chance</td>\n",
       "      <td>1.260085</td>\n",
       "    </tr>\n",
       "    <tr>\n",
       "      <th>294</th>\n",
       "      <td>-2.234263</td>\n",
       "      <td>64</td>\n",
       "      <td>0</td>\n",
       "      <td>594838</td>\n",
       "      <td>gosselin</td>\n",
       "      <td>philip</td>\n",
       "      <td>1.197899</td>\n",
       "    </tr>\n",
       "    <tr>\n",
       "      <th>297</th>\n",
       "      <td>-2.363605</td>\n",
       "      <td>108</td>\n",
       "      <td>0</td>\n",
       "      <td>663611</td>\n",
       "      <td>madrigal</td>\n",
       "      <td>nick</td>\n",
       "      <td>1.068557</td>\n",
       "    </tr>\n",
       "    <tr>\n",
       "      <th>298</th>\n",
       "      <td>-2.485135</td>\n",
       "      <td>93</td>\n",
       "      <td>0</td>\n",
       "      <td>608348</td>\n",
       "      <td>kelly</td>\n",
       "      <td>carson</td>\n",
       "      <td>0.947026</td>\n",
       "    </tr>\n",
       "    <tr>\n",
       "      <th>300</th>\n",
       "      <td>-2.551824</td>\n",
       "      <td>53</td>\n",
       "      <td>0</td>\n",
       "      <td>455139</td>\n",
       "      <td>chirinos</td>\n",
       "      <td>robinson</td>\n",
       "      <td>0.880338</td>\n",
       "    </tr>\n",
       "    <tr>\n",
       "      <th>302</th>\n",
       "      <td>-2.591774</td>\n",
       "      <td>68</td>\n",
       "      <td>0</td>\n",
       "      <td>543281</td>\n",
       "      <td>harrison</td>\n",
       "      <td>josh</td>\n",
       "      <td>0.840388</td>\n",
       "    </tr>\n",
       "    <tr>\n",
       "      <th>303</th>\n",
       "      <td>-2.615247</td>\n",
       "      <td>92</td>\n",
       "      <td>0</td>\n",
       "      <td>606299</td>\n",
       "      <td>peraza</td>\n",
       "      <td>jose</td>\n",
       "      <td>0.816914</td>\n",
       "    </tr>\n",
       "    <tr>\n",
       "      <th>306</th>\n",
       "      <td>-2.769440</td>\n",
       "      <td>105</td>\n",
       "      <td>0</td>\n",
       "      <td>671277</td>\n",
       "      <td>garcia</td>\n",
       "      <td>luis</td>\n",
       "      <td>0.662721</td>\n",
       "    </tr>\n",
       "    <tr>\n",
       "      <th>309</th>\n",
       "      <td>-2.834337</td>\n",
       "      <td>68</td>\n",
       "      <td>0</td>\n",
       "      <td>662139</td>\n",
       "      <td>varsho</td>\n",
       "      <td>daulton</td>\n",
       "      <td>0.597825</td>\n",
       "    </tr>\n",
       "    <tr>\n",
       "      <th>310</th>\n",
       "      <td>-2.914489</td>\n",
       "      <td>98</td>\n",
       "      <td>0</td>\n",
       "      <td>542932</td>\n",
       "      <td>berti</td>\n",
       "      <td>jon</td>\n",
       "      <td>0.517673</td>\n",
       "    </tr>\n",
       "    <tr>\n",
       "      <th>311</th>\n",
       "      <td>-2.941154</td>\n",
       "      <td>69</td>\n",
       "      <td>0</td>\n",
       "      <td>595909</td>\n",
       "      <td>cave</td>\n",
       "      <td>jake</td>\n",
       "      <td>0.491007</td>\n",
       "    </tr>\n",
       "    <tr>\n",
       "      <th>312</th>\n",
       "      <td>-3.016851</td>\n",
       "      <td>103</td>\n",
       "      <td>0</td>\n",
       "      <td>664034</td>\n",
       "      <td>france</td>\n",
       "      <td>ty</td>\n",
       "      <td>0.415310</td>\n",
       "    </tr>\n",
       "    <tr>\n",
       "      <th>313</th>\n",
       "      <td>-3.021520</td>\n",
       "      <td>97</td>\n",
       "      <td>0</td>\n",
       "      <td>592178</td>\n",
       "      <td>bryant</td>\n",
       "      <td>kris</td>\n",
       "      <td>0.410641</td>\n",
       "    </tr>\n",
       "    <tr>\n",
       "      <th>314</th>\n",
       "      <td>-3.028319</td>\n",
       "      <td>108</td>\n",
       "      <td>0</td>\n",
       "      <td>641531</td>\n",
       "      <td>dozier</td>\n",
       "      <td>hunter</td>\n",
       "      <td>0.403843</td>\n",
       "    </tr>\n",
       "    <tr>\n",
       "      <th>315</th>\n",
       "      <td>-3.052981</td>\n",
       "      <td>98</td>\n",
       "      <td>0</td>\n",
       "      <td>572761</td>\n",
       "      <td>carpenter</td>\n",
       "      <td>matt</td>\n",
       "      <td>0.379180</td>\n",
       "    </tr>\n",
       "    <tr>\n",
       "      <th>316</th>\n",
       "      <td>-3.070222</td>\n",
       "      <td>75</td>\n",
       "      <td>0</td>\n",
       "      <td>461314</td>\n",
       "      <td>kemp</td>\n",
       "      <td>matt</td>\n",
       "      <td>0.361939</td>\n",
       "    </tr>\n",
       "    <tr>\n",
       "      <th>317</th>\n",
       "      <td>-3.093579</td>\n",
       "      <td>62</td>\n",
       "      <td>0</td>\n",
       "      <td>656669</td>\n",
       "      <td>luplow</td>\n",
       "      <td>jordan</td>\n",
       "      <td>0.338582</td>\n",
       "    </tr>\n",
       "  </tbody>\n",
       "</table>\n",
       "</div>"
      ],
      "text/plain": [
       "     EVOE AVG  COUNT  cluster  batter_id   Last Name First_Name  \\\n",
       "259 -1.114352    102        0     592743     simmons  andrelton   \n",
       "261 -1.195249     52        0     543309  higashioka       kyle   \n",
       "262 -1.215357     68        0     457727      maybin    cameron   \n",
       "264 -1.268324     64        0     647351        toro    abraham   \n",
       "265 -1.270333     77        0     543401      kipnis      jason   \n",
       "266 -1.322526     76        0     592325       gamel        ben   \n",
       "267 -1.344856     82        0     666185     carlson      dylan   \n",
       "268 -1.360388     58        0     649557        díaz    aledmys   \n",
       "269 -1.362866     65        0     572191      taylor    michael   \n",
       "270 -1.403785     94        0     459964       joyce    matthew   \n",
       "271 -1.439787     66        0     656514     haseley       adam   \n",
       "272 -1.525464     77        0     665750     taveras      leody   \n",
       "273 -1.600225     53        0     595284       knapp     andrew   \n",
       "274 -1.620312     91        0     665926     gimenez     andres   \n",
       "276 -1.644265     79        0     425783        choo   shin-soo   \n",
       "278 -1.708274     97        0     605412       panik        joe   \n",
       "279 -1.724528     78        0     475253       smoak     justin   \n",
       "281 -1.755251     52        0     640447       ervin       phil   \n",
       "285 -1.932940     61        0     621514     stewart   christin   \n",
       "286 -1.956593     87        0     607732   stallings      jacob   \n",
       "288 -2.027070     65        0     621311        dahl      david   \n",
       "290 -2.084144     56        0     641796    locastro        tim   \n",
       "291 -2.102306     84        0     605131      barnes     austin   \n",
       "293 -2.172076     57        0     642082       sisco     chance   \n",
       "294 -2.234263     64        0     594838    gosselin     philip   \n",
       "297 -2.363605    108        0     663611    madrigal       nick   \n",
       "298 -2.485135     93        0     608348       kelly     carson   \n",
       "300 -2.551824     53        0     455139    chirinos   robinson   \n",
       "302 -2.591774     68        0     543281    harrison       josh   \n",
       "303 -2.615247     92        0     606299      peraza       jose   \n",
       "306 -2.769440    105        0     671277      garcia       luis   \n",
       "309 -2.834337     68        0     662139      varsho    daulton   \n",
       "310 -2.914489     98        0     542932       berti        jon   \n",
       "311 -2.941154     69        0     595909        cave       jake   \n",
       "312 -3.016851    103        0     664034      france         ty   \n",
       "313 -3.021520     97        0     592178      bryant       kris   \n",
       "314 -3.028319    108        0     641531      dozier     hunter   \n",
       "315 -3.052981     98        0     572761   carpenter       matt   \n",
       "316 -3.070222     75        0     461314        kemp       matt   \n",
       "317 -3.093579     62        0     656669      luplow     jordan   \n",
       "\n",
       "     AVG EVOE Difference  \n",
       "259             2.317809  \n",
       "261             2.236913  \n",
       "262             2.216805  \n",
       "264             2.163838  \n",
       "265             2.161829  \n",
       "266             2.109635  \n",
       "267             2.087306  \n",
       "268             2.071773  \n",
       "269             2.069295  \n",
       "270             2.028377  \n",
       "271             1.992374  \n",
       "272             1.906698  \n",
       "273             1.831936  \n",
       "274             1.811849  \n",
       "276             1.787896  \n",
       "278             1.723887  \n",
       "279             1.707634  \n",
       "281             1.676910  \n",
       "285             1.499221  \n",
       "286             1.475568  \n",
       "288             1.405092  \n",
       "290             1.348017  \n",
       "291             1.329856  \n",
       "293             1.260085  \n",
       "294             1.197899  \n",
       "297             1.068557  \n",
       "298             0.947026  \n",
       "300             0.880338  \n",
       "302             0.840388  \n",
       "303             0.816914  \n",
       "306             0.662721  \n",
       "309             0.597825  \n",
       "310             0.517673  \n",
       "311             0.491007  \n",
       "312             0.415310  \n",
       "313             0.410641  \n",
       "314             0.403843  \n",
       "315             0.379180  \n",
       "316             0.361939  \n",
       "317             0.338582  "
      ]
     },
     "execution_count": 31,
     "metadata": {},
     "output_type": "execute_result"
    }
   ],
   "source": [
    "# Evaluate Cluster 0 for Performers > Cluster AVG EVOE\n",
    "\n",
    "value = cluster0[cluster0['EVOE AVG'] >= c_mean0]\n",
    "\n",
    "value['AVG EVOE Difference'] = (abs(value['EVOE AVG'] - c_mean0))\n",
    "\n",
    "value_results = value.sort_values('AVG EVOE Difference', ascending=False)\n",
    "value_results.head(40)"
   ]
  }
 ],
 "metadata": {
  "kernelspec": {
   "display_name": "Python 3",
   "language": "python",
   "name": "python3"
  },
  "language_info": {
   "codemirror_mode": {
    "name": "ipython",
    "version": 3
   },
   "file_extension": ".py",
   "mimetype": "text/x-python",
   "name": "python",
   "nbconvert_exporter": "python",
   "pygments_lexer": "ipython3",
   "version": "3.7.1"
  }
 },
 "nbformat": 4,
 "nbformat_minor": 2
}
