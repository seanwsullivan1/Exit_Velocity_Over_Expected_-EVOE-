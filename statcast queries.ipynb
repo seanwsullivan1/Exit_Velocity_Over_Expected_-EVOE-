{
 "cells": [
  {
   "cell_type": "code",
   "execution_count": 6,
   "id": "750d7602-168f-4fe1-be5c-9a15786fdfb0",
   "metadata": {},
   "outputs": [],
   "source": [
    "import pandas as pd\n",
    "\n",
    "from pybaseball import playerid_reverse_lookup"
   ]
  },
  {
   "cell_type": "code",
   "execution_count": 4,
   "id": "6d30001b-0304-4c4e-b625-e0d3c5e64d53",
   "metadata": {},
   "outputs": [
    {
     "data": {
      "text/plain": [
       "(122716, 31)"
      ]
     },
     "execution_count": 4,
     "metadata": {},
     "output_type": "execute_result"
    }
   ],
   "source": [
    "df = pd.read_csv('results_2021.csv')\n",
    "\n",
    "df.shape"
   ]
  },
  {
   "cell_type": "code",
   "execution_count": 7,
   "id": "df8606e2-0eec-4e56-9b43-7fa7933c1e2f",
   "metadata": {},
   "outputs": [
    {
     "name": "stdout",
     "output_type": "stream",
     "text": [
      "Gathering player lookup table. This may take a moment.\n"
     ]
    }
   ],
   "source": [
    "# Get Batters\n",
    "\n",
    "batter_names = playerid_reverse_lookup(df['batter'], key_type='mlbam')"
   ]
  },
  {
   "cell_type": "code",
   "execution_count": 9,
   "id": "a90383bb-abc1-4cc9-8b43-c6b322384c33",
   "metadata": {},
   "outputs": [
    {
     "data": {
      "text/plain": [
       "(943, 8)"
      ]
     },
     "execution_count": 9,
     "metadata": {},
     "output_type": "execute_result"
    }
   ],
   "source": [
    "batter_names.shape"
   ]
  },
  {
   "cell_type": "code",
   "execution_count": 10,
   "id": "1272167e-4c97-4235-b7b5-c5ad233cc99b",
   "metadata": {},
   "outputs": [
    {
     "data": {
      "text/plain": [
       "(905, 8)"
      ]
     },
     "execution_count": 10,
     "metadata": {},
     "output_type": "execute_result"
    }
   ],
   "source": [
    "# Get Pitchers\n",
    "\n",
    "pitcher_names = playerid_reverse_lookup(df['pitcher'], key_type='mlbam')\n",
    "\n",
    "pitcher_names.shape"
   ]
  },
  {
   "cell_type": "code",
   "execution_count": 11,
   "id": "b6f43920-ff46-4616-bf48-df467cde3afb",
   "metadata": {},
   "outputs": [
    {
     "data": {
      "text/html": [
       "<div>\n",
       "<style scoped>\n",
       "    .dataframe tbody tr th:only-of-type {\n",
       "        vertical-align: middle;\n",
       "    }\n",
       "\n",
       "    .dataframe tbody tr th {\n",
       "        vertical-align: top;\n",
       "    }\n",
       "\n",
       "    .dataframe thead th {\n",
       "        text-align: right;\n",
       "    }\n",
       "</style>\n",
       "<table border=\"1\" class=\"dataframe\">\n",
       "  <thead>\n",
       "    <tr style=\"text-align: right;\">\n",
       "      <th></th>\n",
       "      <th>name_last</th>\n",
       "      <th>name_first</th>\n",
       "      <th>key_mlbam</th>\n",
       "      <th>key_retro</th>\n",
       "      <th>key_bbref</th>\n",
       "      <th>key_fangraphs</th>\n",
       "      <th>mlb_played_first</th>\n",
       "      <th>mlb_played_last</th>\n",
       "    </tr>\n",
       "  </thead>\n",
       "  <tbody>\n",
       "    <tr>\n",
       "      <th>0</th>\n",
       "      <td>abad</td>\n",
       "      <td>fernando</td>\n",
       "      <td>472551</td>\n",
       "      <td>abadf001</td>\n",
       "      <td>abadfe01</td>\n",
       "      <td>4994</td>\n",
       "      <td>2010.0</td>\n",
       "      <td>2021.0</td>\n",
       "    </tr>\n",
       "    <tr>\n",
       "      <th>1</th>\n",
       "      <td>abbott</td>\n",
       "      <td>cory</td>\n",
       "      <td>676265</td>\n",
       "      <td>abboc001</td>\n",
       "      <td>abbotco01</td>\n",
       "      <td>20277</td>\n",
       "      <td>2021.0</td>\n",
       "      <td>2021.0</td>\n",
       "    </tr>\n",
       "    <tr>\n",
       "      <th>2</th>\n",
       "      <td>abreu</td>\n",
       "      <td>albert</td>\n",
       "      <td>656061</td>\n",
       "      <td>abrea001</td>\n",
       "      <td>abreual01</td>\n",
       "      <td>17485</td>\n",
       "      <td>2020.0</td>\n",
       "      <td>2021.0</td>\n",
       "    </tr>\n",
       "    <tr>\n",
       "      <th>3</th>\n",
       "      <td>abreu</td>\n",
       "      <td>bryan</td>\n",
       "      <td>650556</td>\n",
       "      <td>abreb002</td>\n",
       "      <td>abreubr01</td>\n",
       "      <td>16609</td>\n",
       "      <td>2019.0</td>\n",
       "      <td>2021.0</td>\n",
       "    </tr>\n",
       "    <tr>\n",
       "      <th>4</th>\n",
       "      <td>acevedo</td>\n",
       "      <td>domingo</td>\n",
       "      <td>642758</td>\n",
       "      <td>acevd001</td>\n",
       "      <td>acevedo01</td>\n",
       "      <td>17092</td>\n",
       "      <td>2021.0</td>\n",
       "      <td>2021.0</td>\n",
       "    </tr>\n",
       "  </tbody>\n",
       "</table>\n",
       "</div>"
      ],
      "text/plain": [
       "  name_last name_first  key_mlbam key_retro  key_bbref  key_fangraphs  \\\n",
       "0      abad   fernando     472551  abadf001   abadfe01           4994   \n",
       "1    abbott       cory     676265  abboc001  abbotco01          20277   \n",
       "2     abreu     albert     656061  abrea001  abreual01          17485   \n",
       "3     abreu      bryan     650556  abreb002  abreubr01          16609   \n",
       "4   acevedo    domingo     642758  acevd001  acevedo01          17092   \n",
       "\n",
       "   mlb_played_first  mlb_played_last  \n",
       "0            2010.0           2021.0  \n",
       "1            2021.0           2021.0  \n",
       "2            2020.0           2021.0  \n",
       "3            2019.0           2021.0  \n",
       "4            2021.0           2021.0  "
      ]
     },
     "execution_count": 11,
     "metadata": {},
     "output_type": "execute_result"
    }
   ],
   "source": [
    "pitcher_names.head()"
   ]
  },
  {
   "cell_type": "code",
   "execution_count": 12,
   "id": "46b14d07-c9cb-4456-a897-0c0f8a02cb50",
   "metadata": {},
   "outputs": [
    {
     "data": {
      "text/plain": [
       "pandas.core.frame.DataFrame"
      ]
     },
     "execution_count": 12,
     "metadata": {},
     "output_type": "execute_result"
    }
   ],
   "source": [
    "type(pitcher_names)"
   ]
  },
  {
   "cell_type": "code",
   "execution_count": 13,
   "id": "108b4117-3350-4f28-9bcc-7b0c50b7a2ad",
   "metadata": {},
   "outputs": [
    {
     "data": {
      "text/plain": [
       "(1848, 8)"
      ]
     },
     "execution_count": 13,
     "metadata": {},
     "output_type": "execute_result"
    }
   ],
   "source": [
    "player_ids = pd.concat([batter_names, pitcher_names], axis=0)\n",
    "\n",
    "player_ids.shape"
   ]
  },
  {
   "cell_type": "code",
   "execution_count": 14,
   "id": "eb4b9385-0c46-421e-890e-29b12a4ceb15",
   "metadata": {},
   "outputs": [],
   "source": [
    "player_ids.to_csv('gs://sean_sullivan_projects/MLB_EVOE_Project/January_2022_Data/players_2021.csv')"
   ]
  },
  {
   "cell_type": "markdown",
   "id": "58c97aee-cbb5-42ad-8f6d-c2e6971c244e",
   "metadata": {},
   "source": [
    "<br>\n",
    "<br>"
   ]
  },
  {
   "cell_type": "markdown",
   "id": "1a4e0d18-4a5a-4a11-aa77-dec6de35e564",
   "metadata": {},
   "source": [
    "### Get 2021 Level Performance"
   ]
  },
  {
   "cell_type": "code",
   "execution_count": 41,
   "id": "1436a0d2-0438-4735-b90a-5687f3b6239e",
   "metadata": {},
   "outputs": [],
   "source": [
    "from pybaseball import batting_stats\n",
    "from pybaseball import pitching_stats_bref"
   ]
  },
  {
   "cell_type": "code",
   "execution_count": 42,
   "id": "fec70c7d-deb5-4e5a-9e5e-6339de309bb7",
   "metadata": {},
   "outputs": [
    {
     "data": {
      "text/plain": [
       "(1508, 319)"
      ]
     },
     "execution_count": 42,
     "metadata": {},
     "output_type": "execute_result"
    }
   ],
   "source": [
    "batting_2021 = batting_stats(2021, qual = 'n')\n",
    "\n",
    "batting_2021.shape"
   ]
  },
  {
   "cell_type": "code",
   "execution_count": 43,
   "id": "36799a17-62c3-417a-bff3-253335632d5b",
   "metadata": {},
   "outputs": [
    {
     "data": {
      "text/html": [
       "<div>\n",
       "<style scoped>\n",
       "    .dataframe tbody tr th:only-of-type {\n",
       "        vertical-align: middle;\n",
       "    }\n",
       "\n",
       "    .dataframe tbody tr th {\n",
       "        vertical-align: top;\n",
       "    }\n",
       "\n",
       "    .dataframe thead th {\n",
       "        text-align: right;\n",
       "    }\n",
       "</style>\n",
       "<table border=\"1\" class=\"dataframe\">\n",
       "  <thead>\n",
       "    <tr style=\"text-align: right;\">\n",
       "      <th></th>\n",
       "      <th>IDfg</th>\n",
       "      <th>Season</th>\n",
       "      <th>Name</th>\n",
       "      <th>Team</th>\n",
       "      <th>Age</th>\n",
       "      <th>G</th>\n",
       "      <th>AB</th>\n",
       "      <th>PA</th>\n",
       "      <th>H</th>\n",
       "      <th>1B</th>\n",
       "      <th>...</th>\n",
       "      <th>Barrel%</th>\n",
       "      <th>maxEV</th>\n",
       "      <th>HardHit</th>\n",
       "      <th>HardHit%</th>\n",
       "      <th>Events</th>\n",
       "      <th>CStr%</th>\n",
       "      <th>CSW%</th>\n",
       "      <th>xBA</th>\n",
       "      <th>xSLG</th>\n",
       "      <th>xwOBA</th>\n",
       "    </tr>\n",
       "  </thead>\n",
       "  <tbody>\n",
       "    <tr>\n",
       "      <th>61</th>\n",
       "      <td>16252</td>\n",
       "      <td>2021</td>\n",
       "      <td>Trea Turner</td>\n",
       "      <td>- - -</td>\n",
       "      <td>28</td>\n",
       "      <td>148</td>\n",
       "      <td>595</td>\n",
       "      <td>646</td>\n",
       "      <td>195</td>\n",
       "      <td>130</td>\n",
       "      <td>...</td>\n",
       "      <td>0.074</td>\n",
       "      <td>112.2</td>\n",
       "      <td>225.0</td>\n",
       "      <td>0.460</td>\n",
       "      <td>489</td>\n",
       "      <td>0.160</td>\n",
       "      <td>0.262</td>\n",
       "      <td>0.303</td>\n",
       "      <td>0.484</td>\n",
       "      <td>0.362</td>\n",
       "    </tr>\n",
       "    <tr>\n",
       "      <th>33</th>\n",
       "      <td>19611</td>\n",
       "      <td>2021</td>\n",
       "      <td>Vladimir Guerrero Jr.</td>\n",
       "      <td>TOR</td>\n",
       "      <td>22</td>\n",
       "      <td>161</td>\n",
       "      <td>604</td>\n",
       "      <td>698</td>\n",
       "      <td>188</td>\n",
       "      <td>110</td>\n",
       "      <td>...</td>\n",
       "      <td>0.151</td>\n",
       "      <td>117.4</td>\n",
       "      <td>274.0</td>\n",
       "      <td>0.552</td>\n",
       "      <td>496</td>\n",
       "      <td>0.127</td>\n",
       "      <td>0.250</td>\n",
       "      <td>0.306</td>\n",
       "      <td>0.591</td>\n",
       "      <td>0.416</td>\n",
       "    </tr>\n",
       "    <tr>\n",
       "      <th>28</th>\n",
       "      <td>11579</td>\n",
       "      <td>2021</td>\n",
       "      <td>Bryce Harper</td>\n",
       "      <td>PHI</td>\n",
       "      <td>28</td>\n",
       "      <td>141</td>\n",
       "      <td>488</td>\n",
       "      <td>599</td>\n",
       "      <td>151</td>\n",
       "      <td>73</td>\n",
       "      <td>...</td>\n",
       "      <td>0.181</td>\n",
       "      <td>116.3</td>\n",
       "      <td>177.0</td>\n",
       "      <td>0.492</td>\n",
       "      <td>360</td>\n",
       "      <td>0.119</td>\n",
       "      <td>0.263</td>\n",
       "      <td>0.301</td>\n",
       "      <td>0.610</td>\n",
       "      <td>0.430</td>\n",
       "    </tr>\n",
       "    <tr>\n",
       "      <th>32</th>\n",
       "      <td>20123</td>\n",
       "      <td>2021</td>\n",
       "      <td>Juan Soto</td>\n",
       "      <td>WSN</td>\n",
       "      <td>22</td>\n",
       "      <td>151</td>\n",
       "      <td>502</td>\n",
       "      <td>654</td>\n",
       "      <td>157</td>\n",
       "      <td>106</td>\n",
       "      <td>...</td>\n",
       "      <td>0.133</td>\n",
       "      <td>116.6</td>\n",
       "      <td>217.0</td>\n",
       "      <td>0.524</td>\n",
       "      <td>414</td>\n",
       "      <td>0.200</td>\n",
       "      <td>0.263</td>\n",
       "      <td>0.304</td>\n",
       "      <td>0.544</td>\n",
       "      <td>0.430</td>\n",
       "    </tr>\n",
       "    <tr>\n",
       "      <th>91</th>\n",
       "      <td>12533</td>\n",
       "      <td>2021</td>\n",
       "      <td>Marcus Semien</td>\n",
       "      <td>TOR</td>\n",
       "      <td>30</td>\n",
       "      <td>162</td>\n",
       "      <td>652</td>\n",
       "      <td>724</td>\n",
       "      <td>173</td>\n",
       "      <td>87</td>\n",
       "      <td>...</td>\n",
       "      <td>0.098</td>\n",
       "      <td>109.5</td>\n",
       "      <td>210.0</td>\n",
       "      <td>0.413</td>\n",
       "      <td>509</td>\n",
       "      <td>0.158</td>\n",
       "      <td>0.245</td>\n",
       "      <td>0.244</td>\n",
       "      <td>0.453</td>\n",
       "      <td>0.331</td>\n",
       "    </tr>\n",
       "  </tbody>\n",
       "</table>\n",
       "<p>5 rows × 319 columns</p>\n",
       "</div>"
      ],
      "text/plain": [
       "     IDfg  Season                   Name   Team  Age    G   AB   PA    H   1B  \\\n",
       "61  16252    2021            Trea Turner  - - -   28  148  595  646  195  130   \n",
       "33  19611    2021  Vladimir Guerrero Jr.    TOR   22  161  604  698  188  110   \n",
       "28  11579    2021           Bryce Harper    PHI   28  141  488  599  151   73   \n",
       "32  20123    2021              Juan Soto    WSN   22  151  502  654  157  106   \n",
       "91  12533    2021          Marcus Semien    TOR   30  162  652  724  173   87   \n",
       "\n",
       "    ...  Barrel%  maxEV  HardHit  HardHit%  Events  CStr%   CSW%    xBA  \\\n",
       "61  ...    0.074  112.2    225.0     0.460     489  0.160  0.262  0.303   \n",
       "33  ...    0.151  117.4    274.0     0.552     496  0.127  0.250  0.306   \n",
       "28  ...    0.181  116.3    177.0     0.492     360  0.119  0.263  0.301   \n",
       "32  ...    0.133  116.6    217.0     0.524     414  0.200  0.263  0.304   \n",
       "91  ...    0.098  109.5    210.0     0.413     509  0.158  0.245  0.244   \n",
       "\n",
       "     xSLG  xwOBA  \n",
       "61  0.484  0.362  \n",
       "33  0.591  0.416  \n",
       "28  0.610  0.430  \n",
       "32  0.544  0.430  \n",
       "91  0.453  0.331  \n",
       "\n",
       "[5 rows x 319 columns]"
      ]
     },
     "execution_count": 43,
     "metadata": {},
     "output_type": "execute_result"
    }
   ],
   "source": [
    "batting_2021.head()"
   ]
  },
  {
   "cell_type": "code",
   "execution_count": 44,
   "id": "dbaa0e31-1704-438a-a204-55c2e9994ed1",
   "metadata": {},
   "outputs": [],
   "source": [
    "batting_2021.to_csv('gs://sean_sullivan_projects/MLB_EVOE_Project/January_2022_Data/batting_2021.csv')"
   ]
  },
  {
   "cell_type": "code",
   "execution_count": null,
   "id": "0fc5a064-5471-406d-8e2e-f0c5601904ac",
   "metadata": {},
   "outputs": [],
   "source": []
  }
 ],
 "metadata": {
  "environment": {
   "kernel": "python3",
   "name": "common-cpu.m87",
   "type": "gcloud",
   "uri": "gcr.io/deeplearning-platform-release/base-cpu:m87"
  },
  "kernelspec": {
   "display_name": "Python 3",
   "language": "python",
   "name": "python3"
  },
  "language_info": {
   "codemirror_mode": {
    "name": "ipython",
    "version": 3
   },
   "file_extension": ".py",
   "mimetype": "text/x-python",
   "name": "python",
   "nbconvert_exporter": "python",
   "pygments_lexer": "ipython3",
   "version": "3.7.12"
  }
 },
 "nbformat": 4,
 "nbformat_minor": 5
}
